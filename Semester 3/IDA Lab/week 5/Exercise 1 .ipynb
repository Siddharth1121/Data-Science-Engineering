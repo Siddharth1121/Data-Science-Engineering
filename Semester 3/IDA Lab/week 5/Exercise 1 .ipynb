{
 "cells": [
  {
   "cell_type": "code",
   "execution_count": null,
   "id": "c712727d",
   "metadata": {},
   "outputs": [],
   "source": [
    "# Siddharth Nagepalli 210968074\n",
    "# Batch 3\n",
    "# Week 5\n",
    "# Exercise 1"
   ]
  },
  {
   "cell_type": "code",
   "execution_count": null,
   "id": "85438460",
   "metadata": {},
   "outputs": [],
   "source": [
    "# Exercise 1 – Descriptive Analytics and Visualization using Matplotlib, Seaborn: (Cross tabulation,\n",
    "# distributions, Multi-variate analysis, Various Plots)"
   ]
  },
  {
   "cell_type": "code",
   "execution_count": 34,
   "id": "554715df",
   "metadata": {},
   "outputs": [],
   "source": [
    "import pandas as pd\n",
    "import numpy as np\n",
    "from matplotlib import pyplot as plt\n",
    "import seaborn as sns\n",
    "import datetime"
   ]
  },
  {
   "cell_type": "markdown",
   "id": "7fa51a00",
   "metadata": {},
   "source": [
    "# Importing Deliveries data set "
   ]
  },
  {
   "cell_type": "code",
   "execution_count": 35,
   "id": "75499aae",
   "metadata": {
    "scrolled": false
   },
   "outputs": [
    {
     "data": {
      "text/html": [
       "<div>\n",
       "<style scoped>\n",
       "    .dataframe tbody tr th:only-of-type {\n",
       "        vertical-align: middle;\n",
       "    }\n",
       "\n",
       "    .dataframe tbody tr th {\n",
       "        vertical-align: top;\n",
       "    }\n",
       "\n",
       "    .dataframe thead th {\n",
       "        text-align: right;\n",
       "    }\n",
       "</style>\n",
       "<table border=\"1\" class=\"dataframe\">\n",
       "  <thead>\n",
       "    <tr style=\"text-align: right;\">\n",
       "      <th></th>\n",
       "      <th>match_id</th>\n",
       "      <th>inning</th>\n",
       "      <th>batting_team</th>\n",
       "      <th>bowling_team</th>\n",
       "      <th>over</th>\n",
       "      <th>ball</th>\n",
       "      <th>batsman</th>\n",
       "      <th>non_striker</th>\n",
       "      <th>bowler</th>\n",
       "      <th>is_super_over</th>\n",
       "      <th>...</th>\n",
       "      <th>bye_runs</th>\n",
       "      <th>legbye_runs</th>\n",
       "      <th>noball_runs</th>\n",
       "      <th>penalty_runs</th>\n",
       "      <th>batsman_runs</th>\n",
       "      <th>extra_runs</th>\n",
       "      <th>total_runs</th>\n",
       "      <th>player_dismissed</th>\n",
       "      <th>dismissal_kind</th>\n",
       "      <th>fielder</th>\n",
       "    </tr>\n",
       "  </thead>\n",
       "  <tbody>\n",
       "    <tr>\n",
       "      <th>0</th>\n",
       "      <td>1</td>\n",
       "      <td>1</td>\n",
       "      <td>Sunrisers Hyderabad</td>\n",
       "      <td>Royal Challengers Bangalore</td>\n",
       "      <td>1</td>\n",
       "      <td>1</td>\n",
       "      <td>DA Warner</td>\n",
       "      <td>S Dhawan</td>\n",
       "      <td>TS Mills</td>\n",
       "      <td>0</td>\n",
       "      <td>...</td>\n",
       "      <td>0</td>\n",
       "      <td>0</td>\n",
       "      <td>0</td>\n",
       "      <td>0</td>\n",
       "      <td>0</td>\n",
       "      <td>0</td>\n",
       "      <td>0</td>\n",
       "      <td>NaN</td>\n",
       "      <td>NaN</td>\n",
       "      <td>NaN</td>\n",
       "    </tr>\n",
       "    <tr>\n",
       "      <th>1</th>\n",
       "      <td>1</td>\n",
       "      <td>1</td>\n",
       "      <td>Sunrisers Hyderabad</td>\n",
       "      <td>Royal Challengers Bangalore</td>\n",
       "      <td>1</td>\n",
       "      <td>2</td>\n",
       "      <td>DA Warner</td>\n",
       "      <td>S Dhawan</td>\n",
       "      <td>TS Mills</td>\n",
       "      <td>0</td>\n",
       "      <td>...</td>\n",
       "      <td>0</td>\n",
       "      <td>0</td>\n",
       "      <td>0</td>\n",
       "      <td>0</td>\n",
       "      <td>0</td>\n",
       "      <td>0</td>\n",
       "      <td>0</td>\n",
       "      <td>NaN</td>\n",
       "      <td>NaN</td>\n",
       "      <td>NaN</td>\n",
       "    </tr>\n",
       "    <tr>\n",
       "      <th>2</th>\n",
       "      <td>1</td>\n",
       "      <td>1</td>\n",
       "      <td>Sunrisers Hyderabad</td>\n",
       "      <td>Royal Challengers Bangalore</td>\n",
       "      <td>1</td>\n",
       "      <td>3</td>\n",
       "      <td>DA Warner</td>\n",
       "      <td>S Dhawan</td>\n",
       "      <td>TS Mills</td>\n",
       "      <td>0</td>\n",
       "      <td>...</td>\n",
       "      <td>0</td>\n",
       "      <td>0</td>\n",
       "      <td>0</td>\n",
       "      <td>0</td>\n",
       "      <td>4</td>\n",
       "      <td>0</td>\n",
       "      <td>4</td>\n",
       "      <td>NaN</td>\n",
       "      <td>NaN</td>\n",
       "      <td>NaN</td>\n",
       "    </tr>\n",
       "    <tr>\n",
       "      <th>3</th>\n",
       "      <td>1</td>\n",
       "      <td>1</td>\n",
       "      <td>Sunrisers Hyderabad</td>\n",
       "      <td>Royal Challengers Bangalore</td>\n",
       "      <td>1</td>\n",
       "      <td>4</td>\n",
       "      <td>DA Warner</td>\n",
       "      <td>S Dhawan</td>\n",
       "      <td>TS Mills</td>\n",
       "      <td>0</td>\n",
       "      <td>...</td>\n",
       "      <td>0</td>\n",
       "      <td>0</td>\n",
       "      <td>0</td>\n",
       "      <td>0</td>\n",
       "      <td>0</td>\n",
       "      <td>0</td>\n",
       "      <td>0</td>\n",
       "      <td>NaN</td>\n",
       "      <td>NaN</td>\n",
       "      <td>NaN</td>\n",
       "    </tr>\n",
       "    <tr>\n",
       "      <th>4</th>\n",
       "      <td>1</td>\n",
       "      <td>1</td>\n",
       "      <td>Sunrisers Hyderabad</td>\n",
       "      <td>Royal Challengers Bangalore</td>\n",
       "      <td>1</td>\n",
       "      <td>5</td>\n",
       "      <td>DA Warner</td>\n",
       "      <td>S Dhawan</td>\n",
       "      <td>TS Mills</td>\n",
       "      <td>0</td>\n",
       "      <td>...</td>\n",
       "      <td>0</td>\n",
       "      <td>0</td>\n",
       "      <td>0</td>\n",
       "      <td>0</td>\n",
       "      <td>0</td>\n",
       "      <td>2</td>\n",
       "      <td>2</td>\n",
       "      <td>NaN</td>\n",
       "      <td>NaN</td>\n",
       "      <td>NaN</td>\n",
       "    </tr>\n",
       "    <tr>\n",
       "      <th>...</th>\n",
       "      <td>...</td>\n",
       "      <td>...</td>\n",
       "      <td>...</td>\n",
       "      <td>...</td>\n",
       "      <td>...</td>\n",
       "      <td>...</td>\n",
       "      <td>...</td>\n",
       "      <td>...</td>\n",
       "      <td>...</td>\n",
       "      <td>...</td>\n",
       "      <td>...</td>\n",
       "      <td>...</td>\n",
       "      <td>...</td>\n",
       "      <td>...</td>\n",
       "      <td>...</td>\n",
       "      <td>...</td>\n",
       "      <td>...</td>\n",
       "      <td>...</td>\n",
       "      <td>...</td>\n",
       "      <td>...</td>\n",
       "      <td>...</td>\n",
       "    </tr>\n",
       "    <tr>\n",
       "      <th>179073</th>\n",
       "      <td>11415</td>\n",
       "      <td>2</td>\n",
       "      <td>Chennai Super Kings</td>\n",
       "      <td>Mumbai Indians</td>\n",
       "      <td>20</td>\n",
       "      <td>2</td>\n",
       "      <td>RA Jadeja</td>\n",
       "      <td>SR Watson</td>\n",
       "      <td>SL Malinga</td>\n",
       "      <td>0</td>\n",
       "      <td>...</td>\n",
       "      <td>0</td>\n",
       "      <td>0</td>\n",
       "      <td>0</td>\n",
       "      <td>0</td>\n",
       "      <td>1</td>\n",
       "      <td>0</td>\n",
       "      <td>1</td>\n",
       "      <td>NaN</td>\n",
       "      <td>NaN</td>\n",
       "      <td>NaN</td>\n",
       "    </tr>\n",
       "    <tr>\n",
       "      <th>179074</th>\n",
       "      <td>11415</td>\n",
       "      <td>2</td>\n",
       "      <td>Chennai Super Kings</td>\n",
       "      <td>Mumbai Indians</td>\n",
       "      <td>20</td>\n",
       "      <td>3</td>\n",
       "      <td>SR Watson</td>\n",
       "      <td>RA Jadeja</td>\n",
       "      <td>SL Malinga</td>\n",
       "      <td>0</td>\n",
       "      <td>...</td>\n",
       "      <td>0</td>\n",
       "      <td>0</td>\n",
       "      <td>0</td>\n",
       "      <td>0</td>\n",
       "      <td>2</td>\n",
       "      <td>0</td>\n",
       "      <td>2</td>\n",
       "      <td>NaN</td>\n",
       "      <td>NaN</td>\n",
       "      <td>NaN</td>\n",
       "    </tr>\n",
       "    <tr>\n",
       "      <th>179075</th>\n",
       "      <td>11415</td>\n",
       "      <td>2</td>\n",
       "      <td>Chennai Super Kings</td>\n",
       "      <td>Mumbai Indians</td>\n",
       "      <td>20</td>\n",
       "      <td>4</td>\n",
       "      <td>SR Watson</td>\n",
       "      <td>RA Jadeja</td>\n",
       "      <td>SL Malinga</td>\n",
       "      <td>0</td>\n",
       "      <td>...</td>\n",
       "      <td>0</td>\n",
       "      <td>0</td>\n",
       "      <td>0</td>\n",
       "      <td>0</td>\n",
       "      <td>1</td>\n",
       "      <td>0</td>\n",
       "      <td>1</td>\n",
       "      <td>SR Watson</td>\n",
       "      <td>run out</td>\n",
       "      <td>KH Pandya</td>\n",
       "    </tr>\n",
       "    <tr>\n",
       "      <th>179076</th>\n",
       "      <td>11415</td>\n",
       "      <td>2</td>\n",
       "      <td>Chennai Super Kings</td>\n",
       "      <td>Mumbai Indians</td>\n",
       "      <td>20</td>\n",
       "      <td>5</td>\n",
       "      <td>SN Thakur</td>\n",
       "      <td>RA Jadeja</td>\n",
       "      <td>SL Malinga</td>\n",
       "      <td>0</td>\n",
       "      <td>...</td>\n",
       "      <td>0</td>\n",
       "      <td>0</td>\n",
       "      <td>0</td>\n",
       "      <td>0</td>\n",
       "      <td>2</td>\n",
       "      <td>0</td>\n",
       "      <td>2</td>\n",
       "      <td>NaN</td>\n",
       "      <td>NaN</td>\n",
       "      <td>NaN</td>\n",
       "    </tr>\n",
       "    <tr>\n",
       "      <th>179077</th>\n",
       "      <td>11415</td>\n",
       "      <td>2</td>\n",
       "      <td>Chennai Super Kings</td>\n",
       "      <td>Mumbai Indians</td>\n",
       "      <td>20</td>\n",
       "      <td>6</td>\n",
       "      <td>SN Thakur</td>\n",
       "      <td>RA Jadeja</td>\n",
       "      <td>SL Malinga</td>\n",
       "      <td>0</td>\n",
       "      <td>...</td>\n",
       "      <td>0</td>\n",
       "      <td>0</td>\n",
       "      <td>0</td>\n",
       "      <td>0</td>\n",
       "      <td>0</td>\n",
       "      <td>0</td>\n",
       "      <td>0</td>\n",
       "      <td>SN Thakur</td>\n",
       "      <td>lbw</td>\n",
       "      <td>NaN</td>\n",
       "    </tr>\n",
       "  </tbody>\n",
       "</table>\n",
       "<p>179078 rows × 21 columns</p>\n",
       "</div>"
      ],
      "text/plain": [
       "        match_id  inning         batting_team                 bowling_team  \\\n",
       "0              1       1  Sunrisers Hyderabad  Royal Challengers Bangalore   \n",
       "1              1       1  Sunrisers Hyderabad  Royal Challengers Bangalore   \n",
       "2              1       1  Sunrisers Hyderabad  Royal Challengers Bangalore   \n",
       "3              1       1  Sunrisers Hyderabad  Royal Challengers Bangalore   \n",
       "4              1       1  Sunrisers Hyderabad  Royal Challengers Bangalore   \n",
       "...          ...     ...                  ...                          ...   \n",
       "179073     11415       2  Chennai Super Kings               Mumbai Indians   \n",
       "179074     11415       2  Chennai Super Kings               Mumbai Indians   \n",
       "179075     11415       2  Chennai Super Kings               Mumbai Indians   \n",
       "179076     11415       2  Chennai Super Kings               Mumbai Indians   \n",
       "179077     11415       2  Chennai Super Kings               Mumbai Indians   \n",
       "\n",
       "        over  ball    batsman non_striker      bowler  is_super_over  ...  \\\n",
       "0          1     1  DA Warner    S Dhawan    TS Mills              0  ...   \n",
       "1          1     2  DA Warner    S Dhawan    TS Mills              0  ...   \n",
       "2          1     3  DA Warner    S Dhawan    TS Mills              0  ...   \n",
       "3          1     4  DA Warner    S Dhawan    TS Mills              0  ...   \n",
       "4          1     5  DA Warner    S Dhawan    TS Mills              0  ...   \n",
       "...      ...   ...        ...         ...         ...            ...  ...   \n",
       "179073    20     2  RA Jadeja   SR Watson  SL Malinga              0  ...   \n",
       "179074    20     3  SR Watson   RA Jadeja  SL Malinga              0  ...   \n",
       "179075    20     4  SR Watson   RA Jadeja  SL Malinga              0  ...   \n",
       "179076    20     5  SN Thakur   RA Jadeja  SL Malinga              0  ...   \n",
       "179077    20     6  SN Thakur   RA Jadeja  SL Malinga              0  ...   \n",
       "\n",
       "        bye_runs  legbye_runs  noball_runs  penalty_runs  batsman_runs  \\\n",
       "0              0            0            0             0             0   \n",
       "1              0            0            0             0             0   \n",
       "2              0            0            0             0             4   \n",
       "3              0            0            0             0             0   \n",
       "4              0            0            0             0             0   \n",
       "...          ...          ...          ...           ...           ...   \n",
       "179073         0            0            0             0             1   \n",
       "179074         0            0            0             0             2   \n",
       "179075         0            0            0             0             1   \n",
       "179076         0            0            0             0             2   \n",
       "179077         0            0            0             0             0   \n",
       "\n",
       "        extra_runs  total_runs  player_dismissed dismissal_kind    fielder  \n",
       "0                0           0               NaN            NaN        NaN  \n",
       "1                0           0               NaN            NaN        NaN  \n",
       "2                0           4               NaN            NaN        NaN  \n",
       "3                0           0               NaN            NaN        NaN  \n",
       "4                2           2               NaN            NaN        NaN  \n",
       "...            ...         ...               ...            ...        ...  \n",
       "179073           0           1               NaN            NaN        NaN  \n",
       "179074           0           2               NaN            NaN        NaN  \n",
       "179075           0           1         SR Watson        run out  KH Pandya  \n",
       "179076           0           2               NaN            NaN        NaN  \n",
       "179077           0           0         SN Thakur            lbw        NaN  \n",
       "\n",
       "[179078 rows x 21 columns]"
      ]
     },
     "execution_count": 35,
     "metadata": {},
     "output_type": "execute_result"
    }
   ],
   "source": [
    "df1=pd.read_csv(\"deliveries.csv\")\n",
    "df1"
   ]
  },
  {
   "cell_type": "markdown",
   "id": "e5bee066",
   "metadata": {},
   "source": [
    "# Data Cleaning for deliveries data set"
   ]
  },
  {
   "cell_type": "code",
   "execution_count": 36,
   "id": "017f9b9a",
   "metadata": {},
   "outputs": [
    {
     "data": {
      "text/plain": [
       "match_id            False\n",
       "inning              False\n",
       "batting_team        False\n",
       "bowling_team        False\n",
       "over                False\n",
       "ball                False\n",
       "batsman             False\n",
       "non_striker         False\n",
       "bowler              False\n",
       "is_super_over       False\n",
       "wide_runs           False\n",
       "bye_runs            False\n",
       "legbye_runs         False\n",
       "noball_runs         False\n",
       "penalty_runs        False\n",
       "batsman_runs        False\n",
       "extra_runs          False\n",
       "total_runs          False\n",
       "player_dismissed     True\n",
       "dismissal_kind       True\n",
       "fielder              True\n",
       "dtype: bool"
      ]
     },
     "execution_count": 36,
     "metadata": {},
     "output_type": "execute_result"
    }
   ],
   "source": [
    "df1.isnull().any()"
   ]
  },
  {
   "cell_type": "code",
   "execution_count": 37,
   "id": "6b43037a",
   "metadata": {},
   "outputs": [],
   "source": [
    "df1['player_dismissed'].fillna('no player dismissed',inplace=True)\n"
   ]
  },
  {
   "cell_type": "code",
   "execution_count": 38,
   "id": "4c333393",
   "metadata": {},
   "outputs": [],
   "source": [
    "df1['dismissal_kind'].fillna('not out',inplace=True)"
   ]
  },
  {
   "cell_type": "code",
   "execution_count": 39,
   "id": "6a30733c",
   "metadata": {},
   "outputs": [],
   "source": [
    "df1['fielder'].fillna('not out',inplace=True)\n",
    "df1.dropna(subset=['total_runs'],inplace=True)\n"
   ]
  },
  {
   "cell_type": "code",
   "execution_count": 40,
   "id": "dfe7f827",
   "metadata": {},
   "outputs": [],
   "source": [
    "df1.replace(\"Rising Pune Supergiant\",\"Rising Pune Supergiants\",inplace=True)"
   ]
  },
  {
   "cell_type": "code",
   "execution_count": 41,
   "id": "dd979d2e",
   "metadata": {},
   "outputs": [],
   "source": [
    "df1.rename(columns={'match_id':'id'},inplace=True)\n"
   ]
  },
  {
   "cell_type": "code",
   "execution_count": 42,
   "id": "9f17e223",
   "metadata": {},
   "outputs": [
    {
     "data": {
      "text/plain": [
       "id                  False\n",
       "inning              False\n",
       "batting_team        False\n",
       "bowling_team        False\n",
       "over                False\n",
       "ball                False\n",
       "batsman             False\n",
       "non_striker         False\n",
       "bowler              False\n",
       "is_super_over       False\n",
       "wide_runs           False\n",
       "bye_runs            False\n",
       "legbye_runs         False\n",
       "noball_runs         False\n",
       "penalty_runs        False\n",
       "batsman_runs        False\n",
       "extra_runs          False\n",
       "total_runs          False\n",
       "player_dismissed    False\n",
       "dismissal_kind      False\n",
       "fielder             False\n",
       "dtype: bool"
      ]
     },
     "execution_count": 42,
     "metadata": {},
     "output_type": "execute_result"
    }
   ],
   "source": [
    "df1.isnull().any()"
   ]
  },
  {
   "cell_type": "code",
   "execution_count": 43,
   "id": "e09f258a",
   "metadata": {},
   "outputs": [
    {
     "data": {
      "text/html": [
       "<div>\n",
       "<style scoped>\n",
       "    .dataframe tbody tr th:only-of-type {\n",
       "        vertical-align: middle;\n",
       "    }\n",
       "\n",
       "    .dataframe tbody tr th {\n",
       "        vertical-align: top;\n",
       "    }\n",
       "\n",
       "    .dataframe thead th {\n",
       "        text-align: right;\n",
       "    }\n",
       "</style>\n",
       "<table border=\"1\" class=\"dataframe\">\n",
       "  <thead>\n",
       "    <tr style=\"text-align: right;\">\n",
       "      <th></th>\n",
       "      <th>id</th>\n",
       "      <th>inning</th>\n",
       "      <th>batting_team</th>\n",
       "      <th>bowling_team</th>\n",
       "      <th>over</th>\n",
       "      <th>ball</th>\n",
       "      <th>batsman</th>\n",
       "      <th>non_striker</th>\n",
       "      <th>bowler</th>\n",
       "      <th>is_super_over</th>\n",
       "      <th>...</th>\n",
       "      <th>bye_runs</th>\n",
       "      <th>legbye_runs</th>\n",
       "      <th>noball_runs</th>\n",
       "      <th>penalty_runs</th>\n",
       "      <th>batsman_runs</th>\n",
       "      <th>extra_runs</th>\n",
       "      <th>total_runs</th>\n",
       "      <th>player_dismissed</th>\n",
       "      <th>dismissal_kind</th>\n",
       "      <th>fielder</th>\n",
       "    </tr>\n",
       "  </thead>\n",
       "  <tbody>\n",
       "    <tr>\n",
       "      <th>0</th>\n",
       "      <td>1</td>\n",
       "      <td>1</td>\n",
       "      <td>Sunrisers Hyderabad</td>\n",
       "      <td>Royal Challengers Bangalore</td>\n",
       "      <td>1</td>\n",
       "      <td>1</td>\n",
       "      <td>DA Warner</td>\n",
       "      <td>S Dhawan</td>\n",
       "      <td>TS Mills</td>\n",
       "      <td>0</td>\n",
       "      <td>...</td>\n",
       "      <td>0</td>\n",
       "      <td>0</td>\n",
       "      <td>0</td>\n",
       "      <td>0</td>\n",
       "      <td>0</td>\n",
       "      <td>0</td>\n",
       "      <td>0</td>\n",
       "      <td>no player dismissed</td>\n",
       "      <td>not out</td>\n",
       "      <td>not out</td>\n",
       "    </tr>\n",
       "    <tr>\n",
       "      <th>1</th>\n",
       "      <td>1</td>\n",
       "      <td>1</td>\n",
       "      <td>Sunrisers Hyderabad</td>\n",
       "      <td>Royal Challengers Bangalore</td>\n",
       "      <td>1</td>\n",
       "      <td>2</td>\n",
       "      <td>DA Warner</td>\n",
       "      <td>S Dhawan</td>\n",
       "      <td>TS Mills</td>\n",
       "      <td>0</td>\n",
       "      <td>...</td>\n",
       "      <td>0</td>\n",
       "      <td>0</td>\n",
       "      <td>0</td>\n",
       "      <td>0</td>\n",
       "      <td>0</td>\n",
       "      <td>0</td>\n",
       "      <td>0</td>\n",
       "      <td>no player dismissed</td>\n",
       "      <td>not out</td>\n",
       "      <td>not out</td>\n",
       "    </tr>\n",
       "    <tr>\n",
       "      <th>2</th>\n",
       "      <td>1</td>\n",
       "      <td>1</td>\n",
       "      <td>Sunrisers Hyderabad</td>\n",
       "      <td>Royal Challengers Bangalore</td>\n",
       "      <td>1</td>\n",
       "      <td>3</td>\n",
       "      <td>DA Warner</td>\n",
       "      <td>S Dhawan</td>\n",
       "      <td>TS Mills</td>\n",
       "      <td>0</td>\n",
       "      <td>...</td>\n",
       "      <td>0</td>\n",
       "      <td>0</td>\n",
       "      <td>0</td>\n",
       "      <td>0</td>\n",
       "      <td>4</td>\n",
       "      <td>0</td>\n",
       "      <td>4</td>\n",
       "      <td>no player dismissed</td>\n",
       "      <td>not out</td>\n",
       "      <td>not out</td>\n",
       "    </tr>\n",
       "    <tr>\n",
       "      <th>3</th>\n",
       "      <td>1</td>\n",
       "      <td>1</td>\n",
       "      <td>Sunrisers Hyderabad</td>\n",
       "      <td>Royal Challengers Bangalore</td>\n",
       "      <td>1</td>\n",
       "      <td>4</td>\n",
       "      <td>DA Warner</td>\n",
       "      <td>S Dhawan</td>\n",
       "      <td>TS Mills</td>\n",
       "      <td>0</td>\n",
       "      <td>...</td>\n",
       "      <td>0</td>\n",
       "      <td>0</td>\n",
       "      <td>0</td>\n",
       "      <td>0</td>\n",
       "      <td>0</td>\n",
       "      <td>0</td>\n",
       "      <td>0</td>\n",
       "      <td>no player dismissed</td>\n",
       "      <td>not out</td>\n",
       "      <td>not out</td>\n",
       "    </tr>\n",
       "    <tr>\n",
       "      <th>4</th>\n",
       "      <td>1</td>\n",
       "      <td>1</td>\n",
       "      <td>Sunrisers Hyderabad</td>\n",
       "      <td>Royal Challengers Bangalore</td>\n",
       "      <td>1</td>\n",
       "      <td>5</td>\n",
       "      <td>DA Warner</td>\n",
       "      <td>S Dhawan</td>\n",
       "      <td>TS Mills</td>\n",
       "      <td>0</td>\n",
       "      <td>...</td>\n",
       "      <td>0</td>\n",
       "      <td>0</td>\n",
       "      <td>0</td>\n",
       "      <td>0</td>\n",
       "      <td>0</td>\n",
       "      <td>2</td>\n",
       "      <td>2</td>\n",
       "      <td>no player dismissed</td>\n",
       "      <td>not out</td>\n",
       "      <td>not out</td>\n",
       "    </tr>\n",
       "    <tr>\n",
       "      <th>...</th>\n",
       "      <td>...</td>\n",
       "      <td>...</td>\n",
       "      <td>...</td>\n",
       "      <td>...</td>\n",
       "      <td>...</td>\n",
       "      <td>...</td>\n",
       "      <td>...</td>\n",
       "      <td>...</td>\n",
       "      <td>...</td>\n",
       "      <td>...</td>\n",
       "      <td>...</td>\n",
       "      <td>...</td>\n",
       "      <td>...</td>\n",
       "      <td>...</td>\n",
       "      <td>...</td>\n",
       "      <td>...</td>\n",
       "      <td>...</td>\n",
       "      <td>...</td>\n",
       "      <td>...</td>\n",
       "      <td>...</td>\n",
       "      <td>...</td>\n",
       "    </tr>\n",
       "    <tr>\n",
       "      <th>179073</th>\n",
       "      <td>11415</td>\n",
       "      <td>2</td>\n",
       "      <td>Chennai Super Kings</td>\n",
       "      <td>Mumbai Indians</td>\n",
       "      <td>20</td>\n",
       "      <td>2</td>\n",
       "      <td>RA Jadeja</td>\n",
       "      <td>SR Watson</td>\n",
       "      <td>SL Malinga</td>\n",
       "      <td>0</td>\n",
       "      <td>...</td>\n",
       "      <td>0</td>\n",
       "      <td>0</td>\n",
       "      <td>0</td>\n",
       "      <td>0</td>\n",
       "      <td>1</td>\n",
       "      <td>0</td>\n",
       "      <td>1</td>\n",
       "      <td>no player dismissed</td>\n",
       "      <td>not out</td>\n",
       "      <td>not out</td>\n",
       "    </tr>\n",
       "    <tr>\n",
       "      <th>179074</th>\n",
       "      <td>11415</td>\n",
       "      <td>2</td>\n",
       "      <td>Chennai Super Kings</td>\n",
       "      <td>Mumbai Indians</td>\n",
       "      <td>20</td>\n",
       "      <td>3</td>\n",
       "      <td>SR Watson</td>\n",
       "      <td>RA Jadeja</td>\n",
       "      <td>SL Malinga</td>\n",
       "      <td>0</td>\n",
       "      <td>...</td>\n",
       "      <td>0</td>\n",
       "      <td>0</td>\n",
       "      <td>0</td>\n",
       "      <td>0</td>\n",
       "      <td>2</td>\n",
       "      <td>0</td>\n",
       "      <td>2</td>\n",
       "      <td>no player dismissed</td>\n",
       "      <td>not out</td>\n",
       "      <td>not out</td>\n",
       "    </tr>\n",
       "    <tr>\n",
       "      <th>179075</th>\n",
       "      <td>11415</td>\n",
       "      <td>2</td>\n",
       "      <td>Chennai Super Kings</td>\n",
       "      <td>Mumbai Indians</td>\n",
       "      <td>20</td>\n",
       "      <td>4</td>\n",
       "      <td>SR Watson</td>\n",
       "      <td>RA Jadeja</td>\n",
       "      <td>SL Malinga</td>\n",
       "      <td>0</td>\n",
       "      <td>...</td>\n",
       "      <td>0</td>\n",
       "      <td>0</td>\n",
       "      <td>0</td>\n",
       "      <td>0</td>\n",
       "      <td>1</td>\n",
       "      <td>0</td>\n",
       "      <td>1</td>\n",
       "      <td>SR Watson</td>\n",
       "      <td>run out</td>\n",
       "      <td>KH Pandya</td>\n",
       "    </tr>\n",
       "    <tr>\n",
       "      <th>179076</th>\n",
       "      <td>11415</td>\n",
       "      <td>2</td>\n",
       "      <td>Chennai Super Kings</td>\n",
       "      <td>Mumbai Indians</td>\n",
       "      <td>20</td>\n",
       "      <td>5</td>\n",
       "      <td>SN Thakur</td>\n",
       "      <td>RA Jadeja</td>\n",
       "      <td>SL Malinga</td>\n",
       "      <td>0</td>\n",
       "      <td>...</td>\n",
       "      <td>0</td>\n",
       "      <td>0</td>\n",
       "      <td>0</td>\n",
       "      <td>0</td>\n",
       "      <td>2</td>\n",
       "      <td>0</td>\n",
       "      <td>2</td>\n",
       "      <td>no player dismissed</td>\n",
       "      <td>not out</td>\n",
       "      <td>not out</td>\n",
       "    </tr>\n",
       "    <tr>\n",
       "      <th>179077</th>\n",
       "      <td>11415</td>\n",
       "      <td>2</td>\n",
       "      <td>Chennai Super Kings</td>\n",
       "      <td>Mumbai Indians</td>\n",
       "      <td>20</td>\n",
       "      <td>6</td>\n",
       "      <td>SN Thakur</td>\n",
       "      <td>RA Jadeja</td>\n",
       "      <td>SL Malinga</td>\n",
       "      <td>0</td>\n",
       "      <td>...</td>\n",
       "      <td>0</td>\n",
       "      <td>0</td>\n",
       "      <td>0</td>\n",
       "      <td>0</td>\n",
       "      <td>0</td>\n",
       "      <td>0</td>\n",
       "      <td>0</td>\n",
       "      <td>SN Thakur</td>\n",
       "      <td>lbw</td>\n",
       "      <td>not out</td>\n",
       "    </tr>\n",
       "  </tbody>\n",
       "</table>\n",
       "<p>179078 rows × 21 columns</p>\n",
       "</div>"
      ],
      "text/plain": [
       "           id  inning         batting_team                 bowling_team  over  \\\n",
       "0           1       1  Sunrisers Hyderabad  Royal Challengers Bangalore     1   \n",
       "1           1       1  Sunrisers Hyderabad  Royal Challengers Bangalore     1   \n",
       "2           1       1  Sunrisers Hyderabad  Royal Challengers Bangalore     1   \n",
       "3           1       1  Sunrisers Hyderabad  Royal Challengers Bangalore     1   \n",
       "4           1       1  Sunrisers Hyderabad  Royal Challengers Bangalore     1   \n",
       "...       ...     ...                  ...                          ...   ...   \n",
       "179073  11415       2  Chennai Super Kings               Mumbai Indians    20   \n",
       "179074  11415       2  Chennai Super Kings               Mumbai Indians    20   \n",
       "179075  11415       2  Chennai Super Kings               Mumbai Indians    20   \n",
       "179076  11415       2  Chennai Super Kings               Mumbai Indians    20   \n",
       "179077  11415       2  Chennai Super Kings               Mumbai Indians    20   \n",
       "\n",
       "        ball    batsman non_striker      bowler  is_super_over  ...  bye_runs  \\\n",
       "0          1  DA Warner    S Dhawan    TS Mills              0  ...         0   \n",
       "1          2  DA Warner    S Dhawan    TS Mills              0  ...         0   \n",
       "2          3  DA Warner    S Dhawan    TS Mills              0  ...         0   \n",
       "3          4  DA Warner    S Dhawan    TS Mills              0  ...         0   \n",
       "4          5  DA Warner    S Dhawan    TS Mills              0  ...         0   \n",
       "...      ...        ...         ...         ...            ...  ...       ...   \n",
       "179073     2  RA Jadeja   SR Watson  SL Malinga              0  ...         0   \n",
       "179074     3  SR Watson   RA Jadeja  SL Malinga              0  ...         0   \n",
       "179075     4  SR Watson   RA Jadeja  SL Malinga              0  ...         0   \n",
       "179076     5  SN Thakur   RA Jadeja  SL Malinga              0  ...         0   \n",
       "179077     6  SN Thakur   RA Jadeja  SL Malinga              0  ...         0   \n",
       "\n",
       "        legbye_runs  noball_runs  penalty_runs  batsman_runs  extra_runs  \\\n",
       "0                 0            0             0             0           0   \n",
       "1                 0            0             0             0           0   \n",
       "2                 0            0             0             4           0   \n",
       "3                 0            0             0             0           0   \n",
       "4                 0            0             0             0           2   \n",
       "...             ...          ...           ...           ...         ...   \n",
       "179073            0            0             0             1           0   \n",
       "179074            0            0             0             2           0   \n",
       "179075            0            0             0             1           0   \n",
       "179076            0            0             0             2           0   \n",
       "179077            0            0             0             0           0   \n",
       "\n",
       "        total_runs     player_dismissed dismissal_kind    fielder  \n",
       "0                0  no player dismissed        not out    not out  \n",
       "1                0  no player dismissed        not out    not out  \n",
       "2                4  no player dismissed        not out    not out  \n",
       "3                0  no player dismissed        not out    not out  \n",
       "4                2  no player dismissed        not out    not out  \n",
       "...            ...                  ...            ...        ...  \n",
       "179073           1  no player dismissed        not out    not out  \n",
       "179074           2  no player dismissed        not out    not out  \n",
       "179075           1            SR Watson        run out  KH Pandya  \n",
       "179076           2  no player dismissed        not out    not out  \n",
       "179077           0            SN Thakur            lbw    not out  \n",
       "\n",
       "[179078 rows x 21 columns]"
      ]
     },
     "execution_count": 43,
     "metadata": {},
     "output_type": "execute_result"
    }
   ],
   "source": [
    "df1"
   ]
  },
  {
   "cell_type": "markdown",
   "id": "d4ce6a9c",
   "metadata": {},
   "source": [
    "# Importing matches dataset"
   ]
  },
  {
   "cell_type": "code",
   "execution_count": 44,
   "id": "baf63a6a",
   "metadata": {
    "scrolled": false
   },
   "outputs": [
    {
     "data": {
      "text/html": [
       "<div>\n",
       "<style scoped>\n",
       "    .dataframe tbody tr th:only-of-type {\n",
       "        vertical-align: middle;\n",
       "    }\n",
       "\n",
       "    .dataframe tbody tr th {\n",
       "        vertical-align: top;\n",
       "    }\n",
       "\n",
       "    .dataframe thead th {\n",
       "        text-align: right;\n",
       "    }\n",
       "</style>\n",
       "<table border=\"1\" class=\"dataframe\">\n",
       "  <thead>\n",
       "    <tr style=\"text-align: right;\">\n",
       "      <th></th>\n",
       "      <th>id</th>\n",
       "      <th>season</th>\n",
       "      <th>city</th>\n",
       "      <th>date</th>\n",
       "      <th>team1</th>\n",
       "      <th>team2</th>\n",
       "      <th>toss_winner</th>\n",
       "      <th>toss_decision</th>\n",
       "      <th>result</th>\n",
       "      <th>dl_applied</th>\n",
       "      <th>winner</th>\n",
       "      <th>win_by_runs</th>\n",
       "      <th>win_by_wickets</th>\n",
       "      <th>player_of_match</th>\n",
       "      <th>venue</th>\n",
       "      <th>umpire1</th>\n",
       "      <th>umpire2</th>\n",
       "      <th>umpire3</th>\n",
       "    </tr>\n",
       "  </thead>\n",
       "  <tbody>\n",
       "    <tr>\n",
       "      <th>0</th>\n",
       "      <td>1</td>\n",
       "      <td>2017</td>\n",
       "      <td>Hyderabad</td>\n",
       "      <td>2017-04-05</td>\n",
       "      <td>Sunrisers Hyderabad</td>\n",
       "      <td>Royal Challengers Bangalore</td>\n",
       "      <td>Royal Challengers Bangalore</td>\n",
       "      <td>field</td>\n",
       "      <td>normal</td>\n",
       "      <td>0</td>\n",
       "      <td>Sunrisers Hyderabad</td>\n",
       "      <td>35</td>\n",
       "      <td>0</td>\n",
       "      <td>Yuvraj Singh</td>\n",
       "      <td>Rajiv Gandhi International Stadium, Uppal</td>\n",
       "      <td>AY Dandekar</td>\n",
       "      <td>NJ Llong</td>\n",
       "      <td>NaN</td>\n",
       "    </tr>\n",
       "    <tr>\n",
       "      <th>1</th>\n",
       "      <td>2</td>\n",
       "      <td>2017</td>\n",
       "      <td>Pune</td>\n",
       "      <td>2017-04-06</td>\n",
       "      <td>Mumbai Indians</td>\n",
       "      <td>Rising Pune Supergiant</td>\n",
       "      <td>Rising Pune Supergiant</td>\n",
       "      <td>field</td>\n",
       "      <td>normal</td>\n",
       "      <td>0</td>\n",
       "      <td>Rising Pune Supergiant</td>\n",
       "      <td>0</td>\n",
       "      <td>7</td>\n",
       "      <td>SPD Smith</td>\n",
       "      <td>Maharashtra Cricket Association Stadium</td>\n",
       "      <td>A Nand Kishore</td>\n",
       "      <td>S Ravi</td>\n",
       "      <td>NaN</td>\n",
       "    </tr>\n",
       "    <tr>\n",
       "      <th>2</th>\n",
       "      <td>3</td>\n",
       "      <td>2017</td>\n",
       "      <td>Rajkot</td>\n",
       "      <td>2017-04-07</td>\n",
       "      <td>Gujarat Lions</td>\n",
       "      <td>Kolkata Knight Riders</td>\n",
       "      <td>Kolkata Knight Riders</td>\n",
       "      <td>field</td>\n",
       "      <td>normal</td>\n",
       "      <td>0</td>\n",
       "      <td>Kolkata Knight Riders</td>\n",
       "      <td>0</td>\n",
       "      <td>10</td>\n",
       "      <td>CA Lynn</td>\n",
       "      <td>Saurashtra Cricket Association Stadium</td>\n",
       "      <td>Nitin Menon</td>\n",
       "      <td>CK Nandan</td>\n",
       "      <td>NaN</td>\n",
       "    </tr>\n",
       "    <tr>\n",
       "      <th>3</th>\n",
       "      <td>4</td>\n",
       "      <td>2017</td>\n",
       "      <td>Indore</td>\n",
       "      <td>2017-04-08</td>\n",
       "      <td>Rising Pune Supergiant</td>\n",
       "      <td>Kings XI Punjab</td>\n",
       "      <td>Kings XI Punjab</td>\n",
       "      <td>field</td>\n",
       "      <td>normal</td>\n",
       "      <td>0</td>\n",
       "      <td>Kings XI Punjab</td>\n",
       "      <td>0</td>\n",
       "      <td>6</td>\n",
       "      <td>GJ Maxwell</td>\n",
       "      <td>Holkar Cricket Stadium</td>\n",
       "      <td>AK Chaudhary</td>\n",
       "      <td>C Shamshuddin</td>\n",
       "      <td>NaN</td>\n",
       "    </tr>\n",
       "    <tr>\n",
       "      <th>4</th>\n",
       "      <td>5</td>\n",
       "      <td>2017</td>\n",
       "      <td>Bangalore</td>\n",
       "      <td>2017-04-08</td>\n",
       "      <td>Royal Challengers Bangalore</td>\n",
       "      <td>Delhi Daredevils</td>\n",
       "      <td>Royal Challengers Bangalore</td>\n",
       "      <td>bat</td>\n",
       "      <td>normal</td>\n",
       "      <td>0</td>\n",
       "      <td>Royal Challengers Bangalore</td>\n",
       "      <td>15</td>\n",
       "      <td>0</td>\n",
       "      <td>KM Jadhav</td>\n",
       "      <td>M Chinnaswamy Stadium</td>\n",
       "      <td>NaN</td>\n",
       "      <td>NaN</td>\n",
       "      <td>NaN</td>\n",
       "    </tr>\n",
       "    <tr>\n",
       "      <th>...</th>\n",
       "      <td>...</td>\n",
       "      <td>...</td>\n",
       "      <td>...</td>\n",
       "      <td>...</td>\n",
       "      <td>...</td>\n",
       "      <td>...</td>\n",
       "      <td>...</td>\n",
       "      <td>...</td>\n",
       "      <td>...</td>\n",
       "      <td>...</td>\n",
       "      <td>...</td>\n",
       "      <td>...</td>\n",
       "      <td>...</td>\n",
       "      <td>...</td>\n",
       "      <td>...</td>\n",
       "      <td>...</td>\n",
       "      <td>...</td>\n",
       "      <td>...</td>\n",
       "    </tr>\n",
       "    <tr>\n",
       "      <th>751</th>\n",
       "      <td>11347</td>\n",
       "      <td>2019</td>\n",
       "      <td>Mumbai</td>\n",
       "      <td>05/05/19</td>\n",
       "      <td>Kolkata Knight Riders</td>\n",
       "      <td>Mumbai Indians</td>\n",
       "      <td>Mumbai Indians</td>\n",
       "      <td>field</td>\n",
       "      <td>normal</td>\n",
       "      <td>0</td>\n",
       "      <td>Mumbai Indians</td>\n",
       "      <td>0</td>\n",
       "      <td>9</td>\n",
       "      <td>HH Pandya</td>\n",
       "      <td>Wankhede Stadium</td>\n",
       "      <td>Nanda Kishore</td>\n",
       "      <td>O Nandan</td>\n",
       "      <td>S Ravi</td>\n",
       "    </tr>\n",
       "    <tr>\n",
       "      <th>752</th>\n",
       "      <td>11412</td>\n",
       "      <td>2019</td>\n",
       "      <td>Chennai</td>\n",
       "      <td>07/05/19</td>\n",
       "      <td>Chennai Super Kings</td>\n",
       "      <td>Mumbai Indians</td>\n",
       "      <td>Chennai Super Kings</td>\n",
       "      <td>bat</td>\n",
       "      <td>normal</td>\n",
       "      <td>0</td>\n",
       "      <td>Mumbai Indians</td>\n",
       "      <td>0</td>\n",
       "      <td>6</td>\n",
       "      <td>AS Yadav</td>\n",
       "      <td>M. A. Chidambaram Stadium</td>\n",
       "      <td>Nigel Llong</td>\n",
       "      <td>Nitin Menon</td>\n",
       "      <td>Ian Gould</td>\n",
       "    </tr>\n",
       "    <tr>\n",
       "      <th>753</th>\n",
       "      <td>11413</td>\n",
       "      <td>2019</td>\n",
       "      <td>Visakhapatnam</td>\n",
       "      <td>08/05/19</td>\n",
       "      <td>Sunrisers Hyderabad</td>\n",
       "      <td>Delhi Capitals</td>\n",
       "      <td>Delhi Capitals</td>\n",
       "      <td>field</td>\n",
       "      <td>normal</td>\n",
       "      <td>0</td>\n",
       "      <td>Delhi Capitals</td>\n",
       "      <td>0</td>\n",
       "      <td>2</td>\n",
       "      <td>RR Pant</td>\n",
       "      <td>ACA-VDCA Stadium</td>\n",
       "      <td>NaN</td>\n",
       "      <td>NaN</td>\n",
       "      <td>NaN</td>\n",
       "    </tr>\n",
       "    <tr>\n",
       "      <th>754</th>\n",
       "      <td>11414</td>\n",
       "      <td>2019</td>\n",
       "      <td>Visakhapatnam</td>\n",
       "      <td>10/05/19</td>\n",
       "      <td>Delhi Capitals</td>\n",
       "      <td>Chennai Super Kings</td>\n",
       "      <td>Chennai Super Kings</td>\n",
       "      <td>field</td>\n",
       "      <td>normal</td>\n",
       "      <td>0</td>\n",
       "      <td>Chennai Super Kings</td>\n",
       "      <td>0</td>\n",
       "      <td>6</td>\n",
       "      <td>F du Plessis</td>\n",
       "      <td>ACA-VDCA Stadium</td>\n",
       "      <td>Sundaram Ravi</td>\n",
       "      <td>Bruce Oxenford</td>\n",
       "      <td>Chettithody Shamshuddin</td>\n",
       "    </tr>\n",
       "    <tr>\n",
       "      <th>755</th>\n",
       "      <td>11415</td>\n",
       "      <td>2019</td>\n",
       "      <td>Hyderabad</td>\n",
       "      <td>12/05/19</td>\n",
       "      <td>Mumbai Indians</td>\n",
       "      <td>Chennai Super Kings</td>\n",
       "      <td>Mumbai Indians</td>\n",
       "      <td>bat</td>\n",
       "      <td>normal</td>\n",
       "      <td>0</td>\n",
       "      <td>Mumbai Indians</td>\n",
       "      <td>1</td>\n",
       "      <td>0</td>\n",
       "      <td>JJ Bumrah</td>\n",
       "      <td>Rajiv Gandhi Intl. Cricket Stadium</td>\n",
       "      <td>Nitin Menon</td>\n",
       "      <td>Ian Gould</td>\n",
       "      <td>Nigel Llong</td>\n",
       "    </tr>\n",
       "  </tbody>\n",
       "</table>\n",
       "<p>756 rows × 18 columns</p>\n",
       "</div>"
      ],
      "text/plain": [
       "        id  season           city        date                        team1  \\\n",
       "0        1    2017      Hyderabad  2017-04-05          Sunrisers Hyderabad   \n",
       "1        2    2017           Pune  2017-04-06               Mumbai Indians   \n",
       "2        3    2017         Rajkot  2017-04-07                Gujarat Lions   \n",
       "3        4    2017         Indore  2017-04-08       Rising Pune Supergiant   \n",
       "4        5    2017      Bangalore  2017-04-08  Royal Challengers Bangalore   \n",
       "..     ...     ...            ...         ...                          ...   \n",
       "751  11347    2019         Mumbai    05/05/19        Kolkata Knight Riders   \n",
       "752  11412    2019        Chennai    07/05/19          Chennai Super Kings   \n",
       "753  11413    2019  Visakhapatnam    08/05/19          Sunrisers Hyderabad   \n",
       "754  11414    2019  Visakhapatnam    10/05/19               Delhi Capitals   \n",
       "755  11415    2019      Hyderabad    12/05/19               Mumbai Indians   \n",
       "\n",
       "                           team2                  toss_winner toss_decision  \\\n",
       "0    Royal Challengers Bangalore  Royal Challengers Bangalore         field   \n",
       "1         Rising Pune Supergiant       Rising Pune Supergiant         field   \n",
       "2          Kolkata Knight Riders        Kolkata Knight Riders         field   \n",
       "3                Kings XI Punjab              Kings XI Punjab         field   \n",
       "4               Delhi Daredevils  Royal Challengers Bangalore           bat   \n",
       "..                           ...                          ...           ...   \n",
       "751               Mumbai Indians               Mumbai Indians         field   \n",
       "752               Mumbai Indians          Chennai Super Kings           bat   \n",
       "753               Delhi Capitals               Delhi Capitals         field   \n",
       "754          Chennai Super Kings          Chennai Super Kings         field   \n",
       "755          Chennai Super Kings               Mumbai Indians           bat   \n",
       "\n",
       "     result  dl_applied                       winner  win_by_runs  \\\n",
       "0    normal           0          Sunrisers Hyderabad           35   \n",
       "1    normal           0       Rising Pune Supergiant            0   \n",
       "2    normal           0        Kolkata Knight Riders            0   \n",
       "3    normal           0              Kings XI Punjab            0   \n",
       "4    normal           0  Royal Challengers Bangalore           15   \n",
       "..      ...         ...                          ...          ...   \n",
       "751  normal           0               Mumbai Indians            0   \n",
       "752  normal           0               Mumbai Indians            0   \n",
       "753  normal           0               Delhi Capitals            0   \n",
       "754  normal           0          Chennai Super Kings            0   \n",
       "755  normal           0               Mumbai Indians            1   \n",
       "\n",
       "     win_by_wickets player_of_match  \\\n",
       "0                 0    Yuvraj Singh   \n",
       "1                 7       SPD Smith   \n",
       "2                10         CA Lynn   \n",
       "3                 6      GJ Maxwell   \n",
       "4                 0       KM Jadhav   \n",
       "..              ...             ...   \n",
       "751               9       HH Pandya   \n",
       "752               6        AS Yadav   \n",
       "753               2         RR Pant   \n",
       "754               6    F du Plessis   \n",
       "755               0       JJ Bumrah   \n",
       "\n",
       "                                         venue         umpire1  \\\n",
       "0    Rajiv Gandhi International Stadium, Uppal     AY Dandekar   \n",
       "1      Maharashtra Cricket Association Stadium  A Nand Kishore   \n",
       "2       Saurashtra Cricket Association Stadium     Nitin Menon   \n",
       "3                       Holkar Cricket Stadium    AK Chaudhary   \n",
       "4                        M Chinnaswamy Stadium             NaN   \n",
       "..                                         ...             ...   \n",
       "751                           Wankhede Stadium   Nanda Kishore   \n",
       "752                  M. A. Chidambaram Stadium     Nigel Llong   \n",
       "753                           ACA-VDCA Stadium             NaN   \n",
       "754                           ACA-VDCA Stadium   Sundaram Ravi   \n",
       "755         Rajiv Gandhi Intl. Cricket Stadium     Nitin Menon   \n",
       "\n",
       "            umpire2                  umpire3  \n",
       "0          NJ Llong                      NaN  \n",
       "1            S Ravi                      NaN  \n",
       "2         CK Nandan                      NaN  \n",
       "3     C Shamshuddin                      NaN  \n",
       "4               NaN                      NaN  \n",
       "..              ...                      ...  \n",
       "751        O Nandan                   S Ravi  \n",
       "752     Nitin Menon                Ian Gould  \n",
       "753             NaN                      NaN  \n",
       "754  Bruce Oxenford  Chettithody Shamshuddin  \n",
       "755       Ian Gould              Nigel Llong  \n",
       "\n",
       "[756 rows x 18 columns]"
      ]
     },
     "execution_count": 44,
     "metadata": {},
     "output_type": "execute_result"
    }
   ],
   "source": [
    "df2=pd.read_csv(\"matches.csv\") \n",
    "df2"
   ]
  },
  {
   "cell_type": "markdown",
   "id": "7c309f5c",
   "metadata": {},
   "source": [
    "# Data Cleaning for matches data set"
   ]
  },
  {
   "cell_type": "code",
   "execution_count": 45,
   "id": "541c8eb7",
   "metadata": {},
   "outputs": [
    {
     "data": {
      "text/plain": [
       "id                 False\n",
       "season             False\n",
       "city                True\n",
       "date               False\n",
       "team1              False\n",
       "team2              False\n",
       "toss_winner        False\n",
       "toss_decision      False\n",
       "result             False\n",
       "dl_applied         False\n",
       "winner              True\n",
       "win_by_runs        False\n",
       "win_by_wickets     False\n",
       "player_of_match     True\n",
       "venue              False\n",
       "umpire1             True\n",
       "umpire2             True\n",
       "umpire3             True\n",
       "dtype: bool"
      ]
     },
     "execution_count": 45,
     "metadata": {},
     "output_type": "execute_result"
    }
   ],
   "source": [
    "df2.isnull().any()"
   ]
  },
  {
   "cell_type": "code",
   "execution_count": 46,
   "id": "8a527e61",
   "metadata": {},
   "outputs": [],
   "source": [
    "df2.replace(\"Rising Pune Supergiant\",\"Rising Pune Supergiants\",inplace=True)"
   ]
  },
  {
   "cell_type": "code",
   "execution_count": 47,
   "id": "ca485990",
   "metadata": {},
   "outputs": [],
   "source": [
    "df2.dropna(subset=['city'],inplace=True)\n",
    "df2['winner'].fillna('no winner',inplace=True)\n",
    "df2['player_of_match'].fillna('no player of match',inplace=True)\n",
    "df2['umpire1'].fillna('no first umpire',inplace=True)\n",
    "df2['umpire2'].fillna('no second umpire',inplace=True)\n",
    "df2['umpire3'].fillna('no third umpire',inplace=True)\n"
   ]
  },
  {
   "cell_type": "code",
   "execution_count": 48,
   "id": "094c4a40",
   "metadata": {},
   "outputs": [
    {
     "data": {
      "text/plain": [
       "id                 False\n",
       "season             False\n",
       "city               False\n",
       "date               False\n",
       "team1              False\n",
       "team2              False\n",
       "toss_winner        False\n",
       "toss_decision      False\n",
       "result             False\n",
       "dl_applied         False\n",
       "winner             False\n",
       "win_by_runs        False\n",
       "win_by_wickets     False\n",
       "player_of_match    False\n",
       "venue              False\n",
       "umpire1            False\n",
       "umpire2            False\n",
       "umpire3            False\n",
       "dtype: bool"
      ]
     },
     "execution_count": 48,
     "metadata": {},
     "output_type": "execute_result"
    }
   ],
   "source": [
    "df2.isnull().any()"
   ]
  },
  {
   "cell_type": "markdown",
   "id": "98da87e2",
   "metadata": {},
   "source": [
    "# 1) Count the total number of matches conducted in the year 2008"
   ]
  },
  {
   "cell_type": "code",
   "execution_count": 49,
   "id": "d7c95a49",
   "metadata": {},
   "outputs": [
    {
     "data": {
      "text/plain": [
       "58"
      ]
     },
     "execution_count": 49,
     "metadata": {},
     "output_type": "execute_result"
    }
   ],
   "source": [
    "x=df2['season'].loc[df2['season']==2008]\n",
    "x.count()"
   ]
  },
  {
   "cell_type": "markdown",
   "id": "0428f714",
   "metadata": {},
   "source": [
    "# 2) Find the city name where maximum and minimum number of matches conducted"
   ]
  },
  {
   "cell_type": "code",
   "execution_count": 50,
   "id": "84759011",
   "metadata": {},
   "outputs": [
    {
     "name": "stdout",
     "output_type": "stream",
     "text": [
      "city with maximum number of matches= Mumbai\n",
      "city with minimum number of matches= Bloemfontein\n"
     ]
    }
   ],
   "source": [
    "x=df2['city'].value_counts().idxmax()\n",
    "print('city with maximum number of matches=', x)\n",
    "\n",
    "y=df2['city'].value_counts().idxmin()\n",
    "print('city with minimum number of matches=', y)"
   ]
  },
  {
   "cell_type": "markdown",
   "id": "af69837f",
   "metadata": {},
   "source": [
    "# 3) Find total count of matches city wise."
   ]
  },
  {
   "cell_type": "code",
   "execution_count": 51,
   "id": "3fa4ebe1",
   "metadata": {},
   "outputs": [
    {
     "data": {
      "text/plain": [
       "Mumbai            101\n",
       "Kolkata            77\n",
       "Delhi              74\n",
       "Bangalore          66\n",
       "Hyderabad          64\n",
       "Chennai            57\n",
       "Jaipur             47\n",
       "Chandigarh         46\n",
       "Pune               38\n",
       "Durban             15\n",
       "Bengaluru          14\n",
       "Visakhapatnam      13\n",
       "Centurion          12\n",
       "Ahmedabad          12\n",
       "Rajkot             10\n",
       "Mohali             10\n",
       "Indore              9\n",
       "Dharamsala          9\n",
       "Johannesburg        8\n",
       "Cuttack             7\n",
       "Ranchi              7\n",
       "Port Elizabeth      7\n",
       "Cape Town           7\n",
       "Abu Dhabi           7\n",
       "Sharjah             6\n",
       "Raipur              6\n",
       "Kochi               5\n",
       "Kanpur              4\n",
       "Nagpur              3\n",
       "Kimberley           3\n",
       "East London         3\n",
       "Bloemfontein        2\n",
       "Name: city, dtype: int64"
      ]
     },
     "execution_count": 51,
     "metadata": {},
     "output_type": "execute_result"
    }
   ],
   "source": [
    "df2['city'].value_counts()"
   ]
  },
  {
   "cell_type": "code",
   "execution_count": 157,
   "id": "4f8f8a4d",
   "metadata": {},
   "outputs": [
    {
     "data": {
      "image/png": "[encoded data removed]",
      "text/plain": [
       "<Figure size 720x720 with 1 Axes>"
      ]
     },
     "metadata": {
      "needs_background": "light"
     },
     "output_type": "display_data"
    }
   ],
   "source": [
    "plt.figure(figsize=(10,10))\n",
    "plt.title('count of matches city wise')\n",
    "plot=sns.countplot(y='city',data=df2)\n",
    "plot.bar_label(plot.containers[0])\n",
    "plt.show()"
   ]
  },
  {
   "cell_type": "markdown",
   "id": "c3c50431",
   "metadata": {},
   "source": [
    "# 4) Find the Team which is maximum and minimum toss winner."
   ]
  },
  {
   "cell_type": "code",
   "execution_count": 53,
   "id": "ca763e36",
   "metadata": {},
   "outputs": [
    {
     "name": "stdout",
     "output_type": "stream",
     "text": [
      "Team with maximum toss wins is = Mumbai Indians\n",
      "Team with minimum toss wins is = Kochi Tuskers Kerala\n"
     ]
    }
   ],
   "source": [
    "x=df2['toss_winner'].value_counts().idxmax()\n",
    "print('Team with maximum toss wins is =',x)\n",
    "y=df2['toss_winner'].value_counts().idxmin()\n",
    "print('Team with minimum toss wins is =',y)"
   ]
  },
  {
   "cell_type": "code",
   "execution_count": 155,
   "id": "400b75b3",
   "metadata": {},
   "outputs": [
    {
     "data": {
      "image/png": "[encoded data removed]",
      "text/plain": [
       "<Figure size 576x576 with 1 Axes>"
      ]
     },
     "metadata": {
      "needs_background": "light"
     },
     "output_type": "display_data"
    }
   ],
   "source": [
    "plt.figure(figsize=(8,8))\n",
    "plot=sns.countplot(y='toss_winner',data=df2,palette='Spectral_r')\n",
    "plot.bar_label(plot.containers[0])\n",
    "plt.title('toss wins')\n",
    "plt.show()"
   ]
  },
  {
   "cell_type": "markdown",
   "id": "5bac3770",
   "metadata": {},
   "source": [
    "# 5) Check the toss decision that the team has take"
   ]
  },
  {
   "cell_type": "code",
   "execution_count": 54,
   "id": "fb790016",
   "metadata": {},
   "outputs": [
    {
     "name": "stdout",
     "output_type": "stream",
     "text": [
      "toss decision taken by mumbai indians : \n",
      "field    53\n",
      "bat      43\n",
      "Name: toss_decision, dtype: int64\n"
     ]
    },
    {
     "data": {
      "image/png": "[encoded data removed]",
      "text/plain": [
       "<Figure size 432x288 with 1 Axes>"
      ]
     },
     "metadata": {},
     "output_type": "display_data"
    }
   ],
   "source": [
    "print('toss decision taken by mumbai indians : ')\n",
    "x=df2['toss_decision'].loc[df2['toss_winner']=='Mumbai Indians']\n",
    "y=x.value_counts()\n",
    "print(y)\n",
    "y.plot.pie()\n",
    "plt.show()"
   ]
  },
  {
   "cell_type": "code",
   "execution_count": 55,
   "id": "0a94ad46",
   "metadata": {},
   "outputs": [
    {
     "name": "stdout",
     "output_type": "stream",
     "text": [
      "toss decision taken by Kochi Tuskers Kerala : \n",
      "field    5\n",
      "bat      3\n",
      "Name: toss_decision, dtype: int64\n"
     ]
    },
    {
     "data": {
      "image/png": "[encoded data removed]",
      "text/plain": [
       "<Figure size 432x288 with 1 Axes>"
      ]
     },
     "metadata": {},
     "output_type": "display_data"
    }
   ],
   "source": [
    "print('toss decision taken by Kochi Tuskers Kerala : ')\n",
    "x=df2['toss_decision'].loc[df2['toss_winner']=='Kochi Tuskers Kerala']\n",
    "y=x.value_counts()\n",
    "print(y)\n",
    "y.plot.pie()\n",
    "plt.show()"
   ]
  },
  {
   "cell_type": "markdown",
   "id": "1f21776e",
   "metadata": {},
   "source": [
    "# 6) Count the total number of normal and tie matches."
   ]
  },
  {
   "cell_type": "code",
   "execution_count": 56,
   "id": "559df648",
   "metadata": {},
   "outputs": [
    {
     "data": {
      "text/plain": [
       "normal       736\n",
       "tie            9\n",
       "no result      4\n",
       "Name: result, dtype: int64"
      ]
     },
     "execution_count": 56,
     "metadata": {},
     "output_type": "execute_result"
    }
   ],
   "source": [
    "df2['result'].value_counts()"
   ]
  },
  {
   "cell_type": "code",
   "execution_count": 57,
   "id": "bca54cd6",
   "metadata": {},
   "outputs": [
    {
     "name": "stdout",
     "output_type": "stream",
     "text": [
      "total number of normal matches are =  736\n",
      "total number of tied matches are =  9\n"
     ]
    }
   ],
   "source": [
    "x=df2['result'].loc[df2['result']=='normal']\n",
    "count=x.count()\n",
    "print('total number of normal matches are = ',count)\n",
    "\n",
    "y=df2['result'].loc[df2['result']=='tie']\n",
    "count1=y.count()\n",
    "print('total number of tied matches are = ',count1)"
   ]
  },
  {
   "cell_type": "code",
   "execution_count": 154,
   "id": "30cc27a3",
   "metadata": {},
   "outputs": [
    {
     "data": {
      "image/png": "[encoded data removed]",
      "text/plain": [
       "<Figure size 360x360 with 1 Axes>"
      ]
     },
     "metadata": {
      "needs_background": "light"
     },
     "output_type": "display_data"
    }
   ],
   "source": [
    "plt.figure(figsize=(5,5))\n",
    "plot=sns.countplot(x='result',data=df2)\n",
    "plot.bar_label(plot.containers[0])\n",
    "plt.title('Count of total number of normal and tie matches')\n",
    "plt.show()"
   ]
  },
  {
   "cell_type": "markdown",
   "id": "16e65027",
   "metadata": {},
   "source": [
    "# 7) Find the team names where the match result is tie"
   ]
  },
  {
   "cell_type": "code",
   "execution_count": 59,
   "id": "9630fb36",
   "metadata": {},
   "outputs": [
    {
     "data": {
      "text/html": [
       "<div>\n",
       "<style scoped>\n",
       "    .dataframe tbody tr th:only-of-type {\n",
       "        vertical-align: middle;\n",
       "    }\n",
       "\n",
       "    .dataframe tbody tr th {\n",
       "        vertical-align: top;\n",
       "    }\n",
       "\n",
       "    .dataframe thead th {\n",
       "        text-align: right;\n",
       "    }\n",
       "</style>\n",
       "<table border=\"1\" class=\"dataframe\">\n",
       "  <thead>\n",
       "    <tr style=\"text-align: right;\">\n",
       "      <th></th>\n",
       "      <th>team1</th>\n",
       "      <th>team2</th>\n",
       "      <th>result</th>\n",
       "    </tr>\n",
       "  </thead>\n",
       "  <tbody>\n",
       "    <tr>\n",
       "      <th>33</th>\n",
       "      <td>Gujarat Lions</td>\n",
       "      <td>Mumbai Indians</td>\n",
       "      <td>tie</td>\n",
       "    </tr>\n",
       "    <tr>\n",
       "      <th>125</th>\n",
       "      <td>Rajasthan Royals</td>\n",
       "      <td>Kolkata Knight Riders</td>\n",
       "      <td>tie</td>\n",
       "    </tr>\n",
       "    <tr>\n",
       "      <th>189</th>\n",
       "      <td>Kings XI Punjab</td>\n",
       "      <td>Chennai Super Kings</td>\n",
       "      <td>tie</td>\n",
       "    </tr>\n",
       "    <tr>\n",
       "      <th>387</th>\n",
       "      <td>Royal Challengers Bangalore</td>\n",
       "      <td>Sunrisers Hyderabad</td>\n",
       "      <td>tie</td>\n",
       "    </tr>\n",
       "    <tr>\n",
       "      <th>400</th>\n",
       "      <td>Delhi Daredevils</td>\n",
       "      <td>Royal Challengers Bangalore</td>\n",
       "      <td>tie</td>\n",
       "    </tr>\n",
       "    <tr>\n",
       "      <th>475</th>\n",
       "      <td>Rajasthan Royals</td>\n",
       "      <td>Kolkata Knight Riders</td>\n",
       "      <td>tie</td>\n",
       "    </tr>\n",
       "    <tr>\n",
       "      <th>535</th>\n",
       "      <td>Rajasthan Royals</td>\n",
       "      <td>Kings XI Punjab</td>\n",
       "      <td>tie</td>\n",
       "    </tr>\n",
       "    <tr>\n",
       "      <th>705</th>\n",
       "      <td>Kolkata Knight Riders</td>\n",
       "      <td>Delhi Capitals</td>\n",
       "      <td>tie</td>\n",
       "    </tr>\n",
       "    <tr>\n",
       "      <th>746</th>\n",
       "      <td>Mumbai Indians</td>\n",
       "      <td>Sunrisers Hyderabad</td>\n",
       "      <td>tie</td>\n",
       "    </tr>\n",
       "  </tbody>\n",
       "</table>\n",
       "</div>"
      ],
      "text/plain": [
       "                           team1                        team2 result\n",
       "33                 Gujarat Lions               Mumbai Indians    tie\n",
       "125             Rajasthan Royals        Kolkata Knight Riders    tie\n",
       "189              Kings XI Punjab          Chennai Super Kings    tie\n",
       "387  Royal Challengers Bangalore          Sunrisers Hyderabad    tie\n",
       "400             Delhi Daredevils  Royal Challengers Bangalore    tie\n",
       "475             Rajasthan Royals        Kolkata Knight Riders    tie\n",
       "535             Rajasthan Royals              Kings XI Punjab    tie\n",
       "705        Kolkata Knight Riders               Delhi Capitals    tie\n",
       "746               Mumbai Indians          Sunrisers Hyderabad    tie"
      ]
     },
     "execution_count": 59,
     "metadata": {},
     "output_type": "execute_result"
    }
   ],
   "source": [
    "df2[['team1','team2','result']].loc[df2['result']=='tie']"
   ]
  },
  {
   "cell_type": "markdown",
   "id": "9c282146",
   "metadata": {},
   "source": [
    "# 8) Find the team name who won the match by highest runs"
   ]
  },
  {
   "cell_type": "code",
   "execution_count": 60,
   "id": "5562f88b",
   "metadata": {},
   "outputs": [
    {
     "name": "stdout",
     "output_type": "stream",
     "text": [
      "team who won the match by highest runs Mumbai Indians\n",
      "Mumbai Indians won by 146 runs\n"
     ]
    }
   ],
   "source": [
    "x=df2['winner'].loc[df2['win_by_runs'].idxmax()]\n",
    "print('team who won the match by highest runs',x)\n",
    "\n",
    "y=df2['win_by_runs'].loc[df2['win_by_runs'].idxmax()]\n",
    "print(x,'won by',y,'runs')"
   ]
  },
  {
   "cell_type": "markdown",
   "id": "79d6eb2d",
   "metadata": {},
   "source": [
    "# 9) Find the team name who won the match by lowest runs.\n"
   ]
  },
  {
   "cell_type": "code",
   "execution_count": 61,
   "id": "b7cf998a",
   "metadata": {},
   "outputs": [
    {
     "name": "stdout",
     "output_type": "stream",
     "text": [
      "lowest runs by which teams have won the match is =  1\n"
     ]
    },
    {
     "data": {
      "text/plain": [
       "Mumbai Indians                 3\n",
       "Kings XI Punjab                2\n",
       "Royal Challengers Bangalore    2\n",
       "Delhi Daredevils               1\n",
       "Chennai Super Kings            1\n",
       "Gujarat Lions                  1\n",
       "Name: winner, dtype: int64"
      ]
     },
     "execution_count": 61,
     "metadata": {},
     "output_type": "execute_result"
    }
   ],
   "source": [
    "df3=df2.loc[df2['win_by_runs']!=0]\n",
    "\n",
    "y=df3['win_by_runs'].loc[df3['win_by_runs'].idxmin()]\n",
    "print('lowest runs by which teams have won the match is = ',y)\n",
    "\n",
    "x=df3['winner'].loc[df3['win_by_runs']==y]\n",
    "x.value_counts()\n"
   ]
  },
  {
   "cell_type": "markdown",
   "id": "5f854a56",
   "metadata": {},
   "source": [
    "# 10) Find the players who was awarded “Player of the match” more than 3 times."
   ]
  },
  {
   "cell_type": "code",
   "execution_count": 62,
   "id": "607f40ac",
   "metadata": {},
   "outputs": [
    {
     "data": {
      "text/plain": [
       "CH Gayle           21\n",
       "AB de Villiers     20\n",
       "MS Dhoni           17\n",
       "DA Warner          17\n",
       "RG Sharma          17\n",
       "                   ..\n",
       "SS Iyer             4\n",
       "KD Karthik          4\n",
       "SK Warne            4\n",
       "NM Coulter-Nile     4\n",
       "KH Pandya           4\n",
       "Name: player_of_match, Length: 65, dtype: int64"
      ]
     },
     "execution_count": 62,
     "metadata": {},
     "output_type": "execute_result"
    }
   ],
   "source": [
    "x=df2['player_of_match'].value_counts()\n",
    "x.loc[x>3]"
   ]
  },
  {
   "cell_type": "code",
   "execution_count": 150,
   "id": "cc139354",
   "metadata": {},
   "outputs": [
    {
     "data": {
      "image/png": "[encoded data removed]",
      "text/plain": [
       "<Figure size 432x288 with 1 Axes>"
      ]
     },
     "metadata": {
      "needs_background": "light"
     },
     "output_type": "display_data"
    }
   ],
   "source": [
    "var=df2['player_of_match'].value_counts().head(10)\n",
    "var.plot.bar(color='purple')\n",
    "plt.title('Top 10 players who have won Player of the match most number of times')\n",
    "plt.show()"
   ]
  },
  {
   "cell_type": "markdown",
   "id": "8ddaa048",
   "metadata": {},
   "source": [
    "# 11) Find the player who was awarded as player of the match maximum times"
   ]
  },
  {
   "cell_type": "code",
   "execution_count": 63,
   "id": "178e9e47",
   "metadata": {},
   "outputs": [
    {
     "name": "stdout",
     "output_type": "stream",
     "text": [
      "player who was awarded as player of the match maximum times is:  CH Gayle\n"
     ]
    }
   ],
   "source": [
    "x=df2['player_of_match'].value_counts().idxmax()\n",
    "print('player who was awarded as player of the match maximum times is: ',x)\n"
   ]
  },
  {
   "cell_type": "markdown",
   "id": "6ee9d418",
   "metadata": {},
   "source": [
    "# 12) Find the Venue where the team won the match by highest runs"
   ]
  },
  {
   "cell_type": "code",
   "execution_count": 64,
   "id": "811053b5",
   "metadata": {},
   "outputs": [
    {
     "name": "stdout",
     "output_type": "stream",
     "text": [
      "venue where the team won the match by highest runs is : Feroz Shah Kotla\n"
     ]
    }
   ],
   "source": [
    "x=df2['venue'].loc[df2['win_by_runs'].idxmax()]\n",
    "print('venue where the team won the match by highest runs is :',x)"
   ]
  },
  {
   "cell_type": "markdown",
   "id": "20fcf4c8",
   "metadata": {},
   "source": [
    "# 13) Find the Venue where the team won the match by lowest runs."
   ]
  },
  {
   "cell_type": "code",
   "execution_count": 65,
   "id": "954ccf23",
   "metadata": {},
   "outputs": [
    {
     "name": "stdout",
     "output_type": "stream",
     "text": [
      "All venues where a team has won by least amount of runs are: \n",
      "58             Rajiv Gandhi International Stadium, Uppal\n",
      "105                                     Wankhede Stadium\n",
      "163                                New Wanderers Stadium\n",
      "344                                     Feroz Shah Kotla\n",
      "350                           Subrata Roy Sahara Stadium\n",
      "518                      MA Chidambaram Stadium, Chepauk\n",
      "598                                     Feroz Shah Kotla\n",
      "614    Punjab Cricket Association IS Bindra Stadium, ...\n",
      "734                               M. Chinnaswamy Stadium\n",
      "755                   Rajiv Gandhi Intl. Cricket Stadium\n",
      "Name: venue, dtype: object\n"
     ]
    }
   ],
   "source": [
    "df3=df2.loc[df2['win_by_runs']!=0]\n",
    "\n",
    "y=df3['venue'].loc[df3['win_by_runs']==1]\n",
    "print('All venues where a team has won by least amount of runs are: ')\n",
    "print(y)"
   ]
  },
  {
   "cell_type": "markdown",
   "id": "fb9307de",
   "metadata": {},
   "source": [
    "# 14) Find the Umpires who did umpiring maximum times\n"
   ]
  },
  {
   "cell_type": "code",
   "execution_count": 66,
   "id": "8e4b8674",
   "metadata": {},
   "outputs": [
    {
     "name": "stdout",
     "output_type": "stream",
     "text": [
      "Umpires who did umpiring maximum times are :\n",
      "HDPK Dharmasena\n",
      "C Shamshuddin\n",
      "Nitin Menon\n"
     ]
    }
   ],
   "source": [
    "x=df2['umpire1'].value_counts().idxmax()\n",
    "y=df2['umpire2'].value_counts().idxmax()\n",
    "z=df2['umpire3'].value_counts().idxmax()\n",
    "newz=df2['umpire3'].loc[df2['umpire3']!='no third umpire'].value_counts().idxmax()\n",
    "print('Umpires who did umpiring maximum times are :')\n",
    "print(x)\n",
    "print(y)\n",
    "print(newz)"
   ]
  },
  {
   "cell_type": "markdown",
   "id": "35c0b143",
   "metadata": {},
   "source": [
    "# 15) Find the Total matches played in each season"
   ]
  },
  {
   "cell_type": "code",
   "execution_count": 67,
   "id": "dfda6c98",
   "metadata": {},
   "outputs": [
    {
     "data": {
      "text/plain": [
       "2014    53\n",
       "2009    57\n",
       "2008    58\n",
       "2017    59\n",
       "2015    59\n",
       "2010    60\n",
       "2016    60\n",
       "2018    60\n",
       "2019    60\n",
       "2011    73\n",
       "2012    74\n",
       "2013    76\n",
       "Name: season, dtype: int64"
      ]
     },
     "execution_count": 67,
     "metadata": {},
     "output_type": "execute_result"
    }
   ],
   "source": [
    "x=df2.season.value_counts()\n",
    "x.sort_values()"
   ]
  },
  {
   "cell_type": "code",
   "execution_count": 147,
   "id": "5bc3b79e",
   "metadata": {},
   "outputs": [
    {
     "data": {
      "image/png": "[encoded data removed]",
      "text/plain": [
       "<Figure size 576x576 with 1 Axes>"
      ]
     },
     "metadata": {
      "needs_background": "light"
     },
     "output_type": "display_data"
    }
   ],
   "source": [
    "plt.figure(figsize=(8,8))\n",
    "plot=sns.countplot(x='season',data=df2,palette='Blues')\n",
    "plot.bar_label(plot.containers[0])\n",
    "plt.title('Total matches played in each season')\n",
    "plt.show()"
   ]
  },
  {
   "cell_type": "code",
   "execution_count": 69,
   "id": "aebbca54",
   "metadata": {},
   "outputs": [
    {
     "data": {
      "text/html": [
       "<div>\n",
       "<style scoped>\n",
       "    .dataframe tbody tr th:only-of-type {\n",
       "        vertical-align: middle;\n",
       "    }\n",
       "\n",
       "    .dataframe tbody tr th {\n",
       "        vertical-align: top;\n",
       "    }\n",
       "\n",
       "    .dataframe thead th {\n",
       "        text-align: right;\n",
       "    }\n",
       "</style>\n",
       "<table border=\"1\" class=\"dataframe\">\n",
       "  <thead>\n",
       "    <tr style=\"text-align: right;\">\n",
       "      <th></th>\n",
       "      <th>id</th>\n",
       "      <th>season</th>\n",
       "      <th>city</th>\n",
       "      <th>date</th>\n",
       "      <th>team1</th>\n",
       "      <th>team2</th>\n",
       "      <th>toss_winner</th>\n",
       "      <th>toss_decision</th>\n",
       "      <th>result</th>\n",
       "      <th>dl_applied</th>\n",
       "      <th>...</th>\n",
       "      <th>bye_runs</th>\n",
       "      <th>legbye_runs</th>\n",
       "      <th>noball_runs</th>\n",
       "      <th>penalty_runs</th>\n",
       "      <th>batsman_runs</th>\n",
       "      <th>extra_runs</th>\n",
       "      <th>total_runs</th>\n",
       "      <th>player_dismissed</th>\n",
       "      <th>dismissal_kind</th>\n",
       "      <th>fielder</th>\n",
       "    </tr>\n",
       "  </thead>\n",
       "  <tbody>\n",
       "    <tr>\n",
       "      <th>0</th>\n",
       "      <td>1</td>\n",
       "      <td>2017.0</td>\n",
       "      <td>Hyderabad</td>\n",
       "      <td>2017-04-05</td>\n",
       "      <td>Sunrisers Hyderabad</td>\n",
       "      <td>Royal Challengers Bangalore</td>\n",
       "      <td>Royal Challengers Bangalore</td>\n",
       "      <td>field</td>\n",
       "      <td>normal</td>\n",
       "      <td>0.0</td>\n",
       "      <td>...</td>\n",
       "      <td>0</td>\n",
       "      <td>0</td>\n",
       "      <td>0</td>\n",
       "      <td>0</td>\n",
       "      <td>0</td>\n",
       "      <td>0</td>\n",
       "      <td>0</td>\n",
       "      <td>no player dismissed</td>\n",
       "      <td>not out</td>\n",
       "      <td>not out</td>\n",
       "    </tr>\n",
       "    <tr>\n",
       "      <th>1</th>\n",
       "      <td>1</td>\n",
       "      <td>2017.0</td>\n",
       "      <td>Hyderabad</td>\n",
       "      <td>2017-04-05</td>\n",
       "      <td>Sunrisers Hyderabad</td>\n",
       "      <td>Royal Challengers Bangalore</td>\n",
       "      <td>Royal Challengers Bangalore</td>\n",
       "      <td>field</td>\n",
       "      <td>normal</td>\n",
       "      <td>0.0</td>\n",
       "      <td>...</td>\n",
       "      <td>0</td>\n",
       "      <td>0</td>\n",
       "      <td>0</td>\n",
       "      <td>0</td>\n",
       "      <td>0</td>\n",
       "      <td>0</td>\n",
       "      <td>0</td>\n",
       "      <td>no player dismissed</td>\n",
       "      <td>not out</td>\n",
       "      <td>not out</td>\n",
       "    </tr>\n",
       "    <tr>\n",
       "      <th>2</th>\n",
       "      <td>1</td>\n",
       "      <td>2017.0</td>\n",
       "      <td>Hyderabad</td>\n",
       "      <td>2017-04-05</td>\n",
       "      <td>Sunrisers Hyderabad</td>\n",
       "      <td>Royal Challengers Bangalore</td>\n",
       "      <td>Royal Challengers Bangalore</td>\n",
       "      <td>field</td>\n",
       "      <td>normal</td>\n",
       "      <td>0.0</td>\n",
       "      <td>...</td>\n",
       "      <td>0</td>\n",
       "      <td>0</td>\n",
       "      <td>0</td>\n",
       "      <td>0</td>\n",
       "      <td>4</td>\n",
       "      <td>0</td>\n",
       "      <td>4</td>\n",
       "      <td>no player dismissed</td>\n",
       "      <td>not out</td>\n",
       "      <td>not out</td>\n",
       "    </tr>\n",
       "    <tr>\n",
       "      <th>3</th>\n",
       "      <td>1</td>\n",
       "      <td>2017.0</td>\n",
       "      <td>Hyderabad</td>\n",
       "      <td>2017-04-05</td>\n",
       "      <td>Sunrisers Hyderabad</td>\n",
       "      <td>Royal Challengers Bangalore</td>\n",
       "      <td>Royal Challengers Bangalore</td>\n",
       "      <td>field</td>\n",
       "      <td>normal</td>\n",
       "      <td>0.0</td>\n",
       "      <td>...</td>\n",
       "      <td>0</td>\n",
       "      <td>0</td>\n",
       "      <td>0</td>\n",
       "      <td>0</td>\n",
       "      <td>0</td>\n",
       "      <td>0</td>\n",
       "      <td>0</td>\n",
       "      <td>no player dismissed</td>\n",
       "      <td>not out</td>\n",
       "      <td>not out</td>\n",
       "    </tr>\n",
       "    <tr>\n",
       "      <th>4</th>\n",
       "      <td>1</td>\n",
       "      <td>2017.0</td>\n",
       "      <td>Hyderabad</td>\n",
       "      <td>2017-04-05</td>\n",
       "      <td>Sunrisers Hyderabad</td>\n",
       "      <td>Royal Challengers Bangalore</td>\n",
       "      <td>Royal Challengers Bangalore</td>\n",
       "      <td>field</td>\n",
       "      <td>normal</td>\n",
       "      <td>0.0</td>\n",
       "      <td>...</td>\n",
       "      <td>0</td>\n",
       "      <td>0</td>\n",
       "      <td>0</td>\n",
       "      <td>0</td>\n",
       "      <td>0</td>\n",
       "      <td>2</td>\n",
       "      <td>2</td>\n",
       "      <td>no player dismissed</td>\n",
       "      <td>not out</td>\n",
       "      <td>not out</td>\n",
       "    </tr>\n",
       "    <tr>\n",
       "      <th>...</th>\n",
       "      <td>...</td>\n",
       "      <td>...</td>\n",
       "      <td>...</td>\n",
       "      <td>...</td>\n",
       "      <td>...</td>\n",
       "      <td>...</td>\n",
       "      <td>...</td>\n",
       "      <td>...</td>\n",
       "      <td>...</td>\n",
       "      <td>...</td>\n",
       "      <td>...</td>\n",
       "      <td>...</td>\n",
       "      <td>...</td>\n",
       "      <td>...</td>\n",
       "      <td>...</td>\n",
       "      <td>...</td>\n",
       "      <td>...</td>\n",
       "      <td>...</td>\n",
       "      <td>...</td>\n",
       "      <td>...</td>\n",
       "      <td>...</td>\n",
       "    </tr>\n",
       "    <tr>\n",
       "      <th>179073</th>\n",
       "      <td>477</td>\n",
       "      <td>NaN</td>\n",
       "      <td>NaN</td>\n",
       "      <td>NaN</td>\n",
       "      <td>NaN</td>\n",
       "      <td>NaN</td>\n",
       "      <td>NaN</td>\n",
       "      <td>NaN</td>\n",
       "      <td>NaN</td>\n",
       "      <td>NaN</td>\n",
       "      <td>...</td>\n",
       "      <td>0</td>\n",
       "      <td>0</td>\n",
       "      <td>0</td>\n",
       "      <td>0</td>\n",
       "      <td>1</td>\n",
       "      <td>0</td>\n",
       "      <td>1</td>\n",
       "      <td>no player dismissed</td>\n",
       "      <td>not out</td>\n",
       "      <td>not out</td>\n",
       "    </tr>\n",
       "    <tr>\n",
       "      <th>179074</th>\n",
       "      <td>477</td>\n",
       "      <td>NaN</td>\n",
       "      <td>NaN</td>\n",
       "      <td>NaN</td>\n",
       "      <td>NaN</td>\n",
       "      <td>NaN</td>\n",
       "      <td>NaN</td>\n",
       "      <td>NaN</td>\n",
       "      <td>NaN</td>\n",
       "      <td>NaN</td>\n",
       "      <td>...</td>\n",
       "      <td>0</td>\n",
       "      <td>0</td>\n",
       "      <td>0</td>\n",
       "      <td>0</td>\n",
       "      <td>0</td>\n",
       "      <td>0</td>\n",
       "      <td>0</td>\n",
       "      <td>no player dismissed</td>\n",
       "      <td>not out</td>\n",
       "      <td>not out</td>\n",
       "    </tr>\n",
       "    <tr>\n",
       "      <th>179075</th>\n",
       "      <td>477</td>\n",
       "      <td>NaN</td>\n",
       "      <td>NaN</td>\n",
       "      <td>NaN</td>\n",
       "      <td>NaN</td>\n",
       "      <td>NaN</td>\n",
       "      <td>NaN</td>\n",
       "      <td>NaN</td>\n",
       "      <td>NaN</td>\n",
       "      <td>NaN</td>\n",
       "      <td>...</td>\n",
       "      <td>0</td>\n",
       "      <td>1</td>\n",
       "      <td>0</td>\n",
       "      <td>0</td>\n",
       "      <td>0</td>\n",
       "      <td>1</td>\n",
       "      <td>1</td>\n",
       "      <td>no player dismissed</td>\n",
       "      <td>not out</td>\n",
       "      <td>not out</td>\n",
       "    </tr>\n",
       "    <tr>\n",
       "      <th>179076</th>\n",
       "      <td>477</td>\n",
       "      <td>NaN</td>\n",
       "      <td>NaN</td>\n",
       "      <td>NaN</td>\n",
       "      <td>NaN</td>\n",
       "      <td>NaN</td>\n",
       "      <td>NaN</td>\n",
       "      <td>NaN</td>\n",
       "      <td>NaN</td>\n",
       "      <td>NaN</td>\n",
       "      <td>...</td>\n",
       "      <td>1</td>\n",
       "      <td>0</td>\n",
       "      <td>0</td>\n",
       "      <td>0</td>\n",
       "      <td>0</td>\n",
       "      <td>1</td>\n",
       "      <td>1</td>\n",
       "      <td>no player dismissed</td>\n",
       "      <td>not out</td>\n",
       "      <td>not out</td>\n",
       "    </tr>\n",
       "    <tr>\n",
       "      <th>179077</th>\n",
       "      <td>477</td>\n",
       "      <td>NaN</td>\n",
       "      <td>NaN</td>\n",
       "      <td>NaN</td>\n",
       "      <td>NaN</td>\n",
       "      <td>NaN</td>\n",
       "      <td>NaN</td>\n",
       "      <td>NaN</td>\n",
       "      <td>NaN</td>\n",
       "      <td>NaN</td>\n",
       "      <td>...</td>\n",
       "      <td>1</td>\n",
       "      <td>0</td>\n",
       "      <td>0</td>\n",
       "      <td>0</td>\n",
       "      <td>0</td>\n",
       "      <td>1</td>\n",
       "      <td>1</td>\n",
       "      <td>no player dismissed</td>\n",
       "      <td>not out</td>\n",
       "      <td>not out</td>\n",
       "    </tr>\n",
       "  </tbody>\n",
       "</table>\n",
       "<p>179078 rows × 38 columns</p>\n",
       "</div>"
      ],
      "text/plain": [
       "         id  season       city        date                team1  \\\n",
       "0         1  2017.0  Hyderabad  2017-04-05  Sunrisers Hyderabad   \n",
       "1         1  2017.0  Hyderabad  2017-04-05  Sunrisers Hyderabad   \n",
       "2         1  2017.0  Hyderabad  2017-04-05  Sunrisers Hyderabad   \n",
       "3         1  2017.0  Hyderabad  2017-04-05  Sunrisers Hyderabad   \n",
       "4         1  2017.0  Hyderabad  2017-04-05  Sunrisers Hyderabad   \n",
       "...     ...     ...        ...         ...                  ...   \n",
       "179073  477     NaN        NaN         NaN                  NaN   \n",
       "179074  477     NaN        NaN         NaN                  NaN   \n",
       "179075  477     NaN        NaN         NaN                  NaN   \n",
       "179076  477     NaN        NaN         NaN                  NaN   \n",
       "179077  477     NaN        NaN         NaN                  NaN   \n",
       "\n",
       "                              team2                  toss_winner  \\\n",
       "0       Royal Challengers Bangalore  Royal Challengers Bangalore   \n",
       "1       Royal Challengers Bangalore  Royal Challengers Bangalore   \n",
       "2       Royal Challengers Bangalore  Royal Challengers Bangalore   \n",
       "3       Royal Challengers Bangalore  Royal Challengers Bangalore   \n",
       "4       Royal Challengers Bangalore  Royal Challengers Bangalore   \n",
       "...                             ...                          ...   \n",
       "179073                          NaN                          NaN   \n",
       "179074                          NaN                          NaN   \n",
       "179075                          NaN                          NaN   \n",
       "179076                          NaN                          NaN   \n",
       "179077                          NaN                          NaN   \n",
       "\n",
       "       toss_decision  result  dl_applied  ... bye_runs  legbye_runs  \\\n",
       "0              field  normal         0.0  ...        0            0   \n",
       "1              field  normal         0.0  ...        0            0   \n",
       "2              field  normal         0.0  ...        0            0   \n",
       "3              field  normal         0.0  ...        0            0   \n",
       "4              field  normal         0.0  ...        0            0   \n",
       "...              ...     ...         ...  ...      ...          ...   \n",
       "179073           NaN     NaN         NaN  ...        0            0   \n",
       "179074           NaN     NaN         NaN  ...        0            0   \n",
       "179075           NaN     NaN         NaN  ...        0            1   \n",
       "179076           NaN     NaN         NaN  ...        1            0   \n",
       "179077           NaN     NaN         NaN  ...        1            0   \n",
       "\n",
       "        noball_runs penalty_runs batsman_runs extra_runs total_runs  \\\n",
       "0                 0            0            0          0          0   \n",
       "1                 0            0            0          0          0   \n",
       "2                 0            0            4          0          4   \n",
       "3                 0            0            0          0          0   \n",
       "4                 0            0            0          2          2   \n",
       "...             ...          ...          ...        ...        ...   \n",
       "179073            0            0            1          0          1   \n",
       "179074            0            0            0          0          0   \n",
       "179075            0            0            0          1          1   \n",
       "179076            0            0            0          1          1   \n",
       "179077            0            0            0          1          1   \n",
       "\n",
       "           player_dismissed  dismissal_kind  fielder  \n",
       "0       no player dismissed         not out  not out  \n",
       "1       no player dismissed         not out  not out  \n",
       "2       no player dismissed         not out  not out  \n",
       "3       no player dismissed         not out  not out  \n",
       "4       no player dismissed         not out  not out  \n",
       "...                     ...             ...      ...  \n",
       "179073  no player dismissed         not out  not out  \n",
       "179074  no player dismissed         not out  not out  \n",
       "179075  no player dismissed         not out  not out  \n",
       "179076  no player dismissed         not out  not out  \n",
       "179077  no player dismissed         not out  not out  \n",
       "\n",
       "[179078 rows x 38 columns]"
      ]
     },
     "execution_count": 69,
     "metadata": {},
     "output_type": "execute_result"
    }
   ],
   "source": [
    "# merging deliveries and matches datasets\n",
    "\n",
    "newdf=pd.merge(df2,df1,how=\"outer\",on=[\"id\"])\n",
    "newdf"
   ]
  },
  {
   "cell_type": "code",
   "execution_count": 70,
   "id": "38222b86",
   "metadata": {},
   "outputs": [
    {
     "data": {
      "text/html": [
       "<div>\n",
       "<style scoped>\n",
       "    .dataframe tbody tr th:only-of-type {\n",
       "        vertical-align: middle;\n",
       "    }\n",
       "\n",
       "    .dataframe tbody tr th {\n",
       "        vertical-align: top;\n",
       "    }\n",
       "\n",
       "    .dataframe thead th {\n",
       "        text-align: right;\n",
       "    }\n",
       "</style>\n",
       "<table border=\"1\" class=\"dataframe\">\n",
       "  <thead>\n",
       "    <tr style=\"text-align: right;\">\n",
       "      <th></th>\n",
       "      <th>id</th>\n",
       "      <th>season</th>\n",
       "      <th>city</th>\n",
       "      <th>date</th>\n",
       "      <th>team1</th>\n",
       "      <th>team2</th>\n",
       "      <th>toss_winner</th>\n",
       "      <th>toss_decision</th>\n",
       "      <th>result</th>\n",
       "      <th>dl_applied</th>\n",
       "      <th>...</th>\n",
       "      <th>bye_runs</th>\n",
       "      <th>legbye_runs</th>\n",
       "      <th>noball_runs</th>\n",
       "      <th>penalty_runs</th>\n",
       "      <th>batsman_runs</th>\n",
       "      <th>extra_runs</th>\n",
       "      <th>total_runs</th>\n",
       "      <th>player_dismissed</th>\n",
       "      <th>dismissal_kind</th>\n",
       "      <th>fielder</th>\n",
       "    </tr>\n",
       "  </thead>\n",
       "  <tbody>\n",
       "    <tr>\n",
       "      <th>0</th>\n",
       "      <td>1</td>\n",
       "      <td>2017.0</td>\n",
       "      <td>Hyderabad</td>\n",
       "      <td>2017-04-05</td>\n",
       "      <td>Sunrisers Hyderabad</td>\n",
       "      <td>Royal Challengers Bangalore</td>\n",
       "      <td>Royal Challengers Bangalore</td>\n",
       "      <td>field</td>\n",
       "      <td>normal</td>\n",
       "      <td>0.0</td>\n",
       "      <td>...</td>\n",
       "      <td>0</td>\n",
       "      <td>0</td>\n",
       "      <td>0</td>\n",
       "      <td>0</td>\n",
       "      <td>0</td>\n",
       "      <td>0</td>\n",
       "      <td>0</td>\n",
       "      <td>no player dismissed</td>\n",
       "      <td>not out</td>\n",
       "      <td>not out</td>\n",
       "    </tr>\n",
       "    <tr>\n",
       "      <th>1</th>\n",
       "      <td>1</td>\n",
       "      <td>2017.0</td>\n",
       "      <td>Hyderabad</td>\n",
       "      <td>2017-04-05</td>\n",
       "      <td>Sunrisers Hyderabad</td>\n",
       "      <td>Royal Challengers Bangalore</td>\n",
       "      <td>Royal Challengers Bangalore</td>\n",
       "      <td>field</td>\n",
       "      <td>normal</td>\n",
       "      <td>0.0</td>\n",
       "      <td>...</td>\n",
       "      <td>0</td>\n",
       "      <td>0</td>\n",
       "      <td>0</td>\n",
       "      <td>0</td>\n",
       "      <td>0</td>\n",
       "      <td>0</td>\n",
       "      <td>0</td>\n",
       "      <td>no player dismissed</td>\n",
       "      <td>not out</td>\n",
       "      <td>not out</td>\n",
       "    </tr>\n",
       "    <tr>\n",
       "      <th>2</th>\n",
       "      <td>1</td>\n",
       "      <td>2017.0</td>\n",
       "      <td>Hyderabad</td>\n",
       "      <td>2017-04-05</td>\n",
       "      <td>Sunrisers Hyderabad</td>\n",
       "      <td>Royal Challengers Bangalore</td>\n",
       "      <td>Royal Challengers Bangalore</td>\n",
       "      <td>field</td>\n",
       "      <td>normal</td>\n",
       "      <td>0.0</td>\n",
       "      <td>...</td>\n",
       "      <td>0</td>\n",
       "      <td>0</td>\n",
       "      <td>0</td>\n",
       "      <td>0</td>\n",
       "      <td>4</td>\n",
       "      <td>0</td>\n",
       "      <td>4</td>\n",
       "      <td>no player dismissed</td>\n",
       "      <td>not out</td>\n",
       "      <td>not out</td>\n",
       "    </tr>\n",
       "    <tr>\n",
       "      <th>3</th>\n",
       "      <td>1</td>\n",
       "      <td>2017.0</td>\n",
       "      <td>Hyderabad</td>\n",
       "      <td>2017-04-05</td>\n",
       "      <td>Sunrisers Hyderabad</td>\n",
       "      <td>Royal Challengers Bangalore</td>\n",
       "      <td>Royal Challengers Bangalore</td>\n",
       "      <td>field</td>\n",
       "      <td>normal</td>\n",
       "      <td>0.0</td>\n",
       "      <td>...</td>\n",
       "      <td>0</td>\n",
       "      <td>0</td>\n",
       "      <td>0</td>\n",
       "      <td>0</td>\n",
       "      <td>0</td>\n",
       "      <td>0</td>\n",
       "      <td>0</td>\n",
       "      <td>no player dismissed</td>\n",
       "      <td>not out</td>\n",
       "      <td>not out</td>\n",
       "    </tr>\n",
       "    <tr>\n",
       "      <th>4</th>\n",
       "      <td>1</td>\n",
       "      <td>2017.0</td>\n",
       "      <td>Hyderabad</td>\n",
       "      <td>2017-04-05</td>\n",
       "      <td>Sunrisers Hyderabad</td>\n",
       "      <td>Royal Challengers Bangalore</td>\n",
       "      <td>Royal Challengers Bangalore</td>\n",
       "      <td>field</td>\n",
       "      <td>normal</td>\n",
       "      <td>0.0</td>\n",
       "      <td>...</td>\n",
       "      <td>0</td>\n",
       "      <td>0</td>\n",
       "      <td>0</td>\n",
       "      <td>0</td>\n",
       "      <td>0</td>\n",
       "      <td>2</td>\n",
       "      <td>2</td>\n",
       "      <td>no player dismissed</td>\n",
       "      <td>not out</td>\n",
       "      <td>not out</td>\n",
       "    </tr>\n",
       "    <tr>\n",
       "      <th>...</th>\n",
       "      <td>...</td>\n",
       "      <td>...</td>\n",
       "      <td>...</td>\n",
       "      <td>...</td>\n",
       "      <td>...</td>\n",
       "      <td>...</td>\n",
       "      <td>...</td>\n",
       "      <td>...</td>\n",
       "      <td>...</td>\n",
       "      <td>...</td>\n",
       "      <td>...</td>\n",
       "      <td>...</td>\n",
       "      <td>...</td>\n",
       "      <td>...</td>\n",
       "      <td>...</td>\n",
       "      <td>...</td>\n",
       "      <td>...</td>\n",
       "      <td>...</td>\n",
       "      <td>...</td>\n",
       "      <td>...</td>\n",
       "      <td>...</td>\n",
       "    </tr>\n",
       "    <tr>\n",
       "      <th>177373</th>\n",
       "      <td>11415</td>\n",
       "      <td>2019.0</td>\n",
       "      <td>Hyderabad</td>\n",
       "      <td>12/05/19</td>\n",
       "      <td>Mumbai Indians</td>\n",
       "      <td>Chennai Super Kings</td>\n",
       "      <td>Mumbai Indians</td>\n",
       "      <td>bat</td>\n",
       "      <td>normal</td>\n",
       "      <td>0.0</td>\n",
       "      <td>...</td>\n",
       "      <td>0</td>\n",
       "      <td>0</td>\n",
       "      <td>0</td>\n",
       "      <td>0</td>\n",
       "      <td>1</td>\n",
       "      <td>0</td>\n",
       "      <td>1</td>\n",
       "      <td>no player dismissed</td>\n",
       "      <td>not out</td>\n",
       "      <td>not out</td>\n",
       "    </tr>\n",
       "    <tr>\n",
       "      <th>177374</th>\n",
       "      <td>11415</td>\n",
       "      <td>2019.0</td>\n",
       "      <td>Hyderabad</td>\n",
       "      <td>12/05/19</td>\n",
       "      <td>Mumbai Indians</td>\n",
       "      <td>Chennai Super Kings</td>\n",
       "      <td>Mumbai Indians</td>\n",
       "      <td>bat</td>\n",
       "      <td>normal</td>\n",
       "      <td>0.0</td>\n",
       "      <td>...</td>\n",
       "      <td>0</td>\n",
       "      <td>0</td>\n",
       "      <td>0</td>\n",
       "      <td>0</td>\n",
       "      <td>2</td>\n",
       "      <td>0</td>\n",
       "      <td>2</td>\n",
       "      <td>no player dismissed</td>\n",
       "      <td>not out</td>\n",
       "      <td>not out</td>\n",
       "    </tr>\n",
       "    <tr>\n",
       "      <th>177375</th>\n",
       "      <td>11415</td>\n",
       "      <td>2019.0</td>\n",
       "      <td>Hyderabad</td>\n",
       "      <td>12/05/19</td>\n",
       "      <td>Mumbai Indians</td>\n",
       "      <td>Chennai Super Kings</td>\n",
       "      <td>Mumbai Indians</td>\n",
       "      <td>bat</td>\n",
       "      <td>normal</td>\n",
       "      <td>0.0</td>\n",
       "      <td>...</td>\n",
       "      <td>0</td>\n",
       "      <td>0</td>\n",
       "      <td>0</td>\n",
       "      <td>0</td>\n",
       "      <td>1</td>\n",
       "      <td>0</td>\n",
       "      <td>1</td>\n",
       "      <td>SR Watson</td>\n",
       "      <td>run out</td>\n",
       "      <td>KH Pandya</td>\n",
       "    </tr>\n",
       "    <tr>\n",
       "      <th>177376</th>\n",
       "      <td>11415</td>\n",
       "      <td>2019.0</td>\n",
       "      <td>Hyderabad</td>\n",
       "      <td>12/05/19</td>\n",
       "      <td>Mumbai Indians</td>\n",
       "      <td>Chennai Super Kings</td>\n",
       "      <td>Mumbai Indians</td>\n",
       "      <td>bat</td>\n",
       "      <td>normal</td>\n",
       "      <td>0.0</td>\n",
       "      <td>...</td>\n",
       "      <td>0</td>\n",
       "      <td>0</td>\n",
       "      <td>0</td>\n",
       "      <td>0</td>\n",
       "      <td>2</td>\n",
       "      <td>0</td>\n",
       "      <td>2</td>\n",
       "      <td>no player dismissed</td>\n",
       "      <td>not out</td>\n",
       "      <td>not out</td>\n",
       "    </tr>\n",
       "    <tr>\n",
       "      <th>177377</th>\n",
       "      <td>11415</td>\n",
       "      <td>2019.0</td>\n",
       "      <td>Hyderabad</td>\n",
       "      <td>12/05/19</td>\n",
       "      <td>Mumbai Indians</td>\n",
       "      <td>Chennai Super Kings</td>\n",
       "      <td>Mumbai Indians</td>\n",
       "      <td>bat</td>\n",
       "      <td>normal</td>\n",
       "      <td>0.0</td>\n",
       "      <td>...</td>\n",
       "      <td>0</td>\n",
       "      <td>0</td>\n",
       "      <td>0</td>\n",
       "      <td>0</td>\n",
       "      <td>0</td>\n",
       "      <td>0</td>\n",
       "      <td>0</td>\n",
       "      <td>SN Thakur</td>\n",
       "      <td>lbw</td>\n",
       "      <td>not out</td>\n",
       "    </tr>\n",
       "  </tbody>\n",
       "</table>\n",
       "<p>177378 rows × 38 columns</p>\n",
       "</div>"
      ],
      "text/plain": [
       "           id  season       city        date                team1  \\\n",
       "0           1  2017.0  Hyderabad  2017-04-05  Sunrisers Hyderabad   \n",
       "1           1  2017.0  Hyderabad  2017-04-05  Sunrisers Hyderabad   \n",
       "2           1  2017.0  Hyderabad  2017-04-05  Sunrisers Hyderabad   \n",
       "3           1  2017.0  Hyderabad  2017-04-05  Sunrisers Hyderabad   \n",
       "4           1  2017.0  Hyderabad  2017-04-05  Sunrisers Hyderabad   \n",
       "...       ...     ...        ...         ...                  ...   \n",
       "177373  11415  2019.0  Hyderabad    12/05/19       Mumbai Indians   \n",
       "177374  11415  2019.0  Hyderabad    12/05/19       Mumbai Indians   \n",
       "177375  11415  2019.0  Hyderabad    12/05/19       Mumbai Indians   \n",
       "177376  11415  2019.0  Hyderabad    12/05/19       Mumbai Indians   \n",
       "177377  11415  2019.0  Hyderabad    12/05/19       Mumbai Indians   \n",
       "\n",
       "                              team2                  toss_winner  \\\n",
       "0       Royal Challengers Bangalore  Royal Challengers Bangalore   \n",
       "1       Royal Challengers Bangalore  Royal Challengers Bangalore   \n",
       "2       Royal Challengers Bangalore  Royal Challengers Bangalore   \n",
       "3       Royal Challengers Bangalore  Royal Challengers Bangalore   \n",
       "4       Royal Challengers Bangalore  Royal Challengers Bangalore   \n",
       "...                             ...                          ...   \n",
       "177373          Chennai Super Kings               Mumbai Indians   \n",
       "177374          Chennai Super Kings               Mumbai Indians   \n",
       "177375          Chennai Super Kings               Mumbai Indians   \n",
       "177376          Chennai Super Kings               Mumbai Indians   \n",
       "177377          Chennai Super Kings               Mumbai Indians   \n",
       "\n",
       "       toss_decision  result  dl_applied  ... bye_runs  legbye_runs  \\\n",
       "0              field  normal         0.0  ...        0            0   \n",
       "1              field  normal         0.0  ...        0            0   \n",
       "2              field  normal         0.0  ...        0            0   \n",
       "3              field  normal         0.0  ...        0            0   \n",
       "4              field  normal         0.0  ...        0            0   \n",
       "...              ...     ...         ...  ...      ...          ...   \n",
       "177373           bat  normal         0.0  ...        0            0   \n",
       "177374           bat  normal         0.0  ...        0            0   \n",
       "177375           bat  normal         0.0  ...        0            0   \n",
       "177376           bat  normal         0.0  ...        0            0   \n",
       "177377           bat  normal         0.0  ...        0            0   \n",
       "\n",
       "        noball_runs penalty_runs batsman_runs extra_runs total_runs  \\\n",
       "0                 0            0            0          0          0   \n",
       "1                 0            0            0          0          0   \n",
       "2                 0            0            4          0          4   \n",
       "3                 0            0            0          0          0   \n",
       "4                 0            0            0          2          2   \n",
       "...             ...          ...          ...        ...        ...   \n",
       "177373            0            0            1          0          1   \n",
       "177374            0            0            2          0          2   \n",
       "177375            0            0            1          0          1   \n",
       "177376            0            0            2          0          2   \n",
       "177377            0            0            0          0          0   \n",
       "\n",
       "           player_dismissed  dismissal_kind    fielder  \n",
       "0       no player dismissed         not out    not out  \n",
       "1       no player dismissed         not out    not out  \n",
       "2       no player dismissed         not out    not out  \n",
       "3       no player dismissed         not out    not out  \n",
       "4       no player dismissed         not out    not out  \n",
       "...                     ...             ...        ...  \n",
       "177373  no player dismissed         not out    not out  \n",
       "177374  no player dismissed         not out    not out  \n",
       "177375            SR Watson         run out  KH Pandya  \n",
       "177376  no player dismissed         not out    not out  \n",
       "177377            SN Thakur             lbw    not out  \n",
       "\n",
       "[177378 rows x 38 columns]"
      ]
     },
     "execution_count": 70,
     "metadata": {},
     "output_type": "execute_result"
    }
   ],
   "source": [
    "# Here matches with id= 462,463,467,469,470,475,477 will show na. As we have removed the data with these id's from matches dataset as there was missing data(city was absent for these id's)  in the matches dataset\n",
    "# Hence we will remove data for these id's from new merged data also.\n",
    "\n",
    "newdf.dropna(subset=['season'],inplace=True)\n",
    "newdf"
   ]
  },
  {
   "cell_type": "code",
   "execution_count": 71,
   "id": "4fc92ff0",
   "metadata": {},
   "outputs": [],
   "source": [
    "convert={'season':int}\n",
    "newdf = newdf.astype(convert)\n"
   ]
  },
  {
   "cell_type": "code",
   "execution_count": 96,
   "id": "7562b16d",
   "metadata": {},
   "outputs": [
    {
     "data": {
      "text/plain": [
       "id                  False\n",
       "season              False\n",
       "city                False\n",
       "date                False\n",
       "team1               False\n",
       "team2               False\n",
       "toss_winner         False\n",
       "toss_decision       False\n",
       "result              False\n",
       "dl_applied          False\n",
       "winner              False\n",
       "win_by_runs         False\n",
       "win_by_wickets      False\n",
       "player_of_match     False\n",
       "venue               False\n",
       "umpire1             False\n",
       "umpire2             False\n",
       "umpire3             False\n",
       "inning              False\n",
       "batting_team        False\n",
       "bowling_team        False\n",
       "over                False\n",
       "ball                False\n",
       "batsman             False\n",
       "non_striker         False\n",
       "bowler              False\n",
       "is_super_over       False\n",
       "wide_runs           False\n",
       "bye_runs            False\n",
       "legbye_runs         False\n",
       "noball_runs         False\n",
       "penalty_runs        False\n",
       "batsman_runs        False\n",
       "extra_runs          False\n",
       "total_runs          False\n",
       "player_dismissed    False\n",
       "dismissal_kind      False\n",
       "fielder             False\n",
       "dtype: bool"
      ]
     },
     "execution_count": 96,
     "metadata": {},
     "output_type": "execute_result"
    }
   ],
   "source": [
    "newdf.isnull().any()"
   ]
  },
  {
   "cell_type": "markdown",
   "id": "3f409685",
   "metadata": {},
   "source": [
    "# 16) Find the Total runs in each season\n"
   ]
  },
  {
   "cell_type": "code",
   "execution_count": 72,
   "id": "0b524d04",
   "metadata": {},
   "outputs": [],
   "source": [
    "#totalruns=pd.crosstab(index=newdf.season,columns=newdf.total_runs.sum())\n",
    "#totalruns"
   ]
  },
  {
   "cell_type": "code",
   "execution_count": 73,
   "id": "17c4826e",
   "metadata": {},
   "outputs": [
    {
     "data": {
      "text/plain": [
       "season\n",
       "2008    17937\n",
       "2009    16353\n",
       "2010    18883\n",
       "2011    21154\n",
       "2012    22453\n",
       "2013    22602\n",
       "2014    16867\n",
       "2015    18353\n",
       "2016    18862\n",
       "2017    18786\n",
       "2018    20706\n",
       "2019    20270\n",
       "Name: total_runs, dtype: int64"
      ]
     },
     "execution_count": 73,
     "metadata": {},
     "output_type": "execute_result"
    }
   ],
   "source": [
    "totalruns=newdf.groupby(by='season').total_runs.sum()\n",
    "totalruns"
   ]
  },
  {
   "cell_type": "code",
   "execution_count": 140,
   "id": "a55ed78a",
   "metadata": {},
   "outputs": [
    {
     "data": {
      "image/png": "[encoded data removed]",
      "text/plain": [
       "<Figure size 1080x576 with 1 Axes>"
      ]
     },
     "metadata": {
      "needs_background": "light"
     },
     "output_type": "display_data"
    }
   ],
   "source": [
    "plt.figure(figsize=(15,8))\n",
    "totalruns=newdf.groupby(by='season').total_runs.sum()\n",
    "plot=totalruns.plot.barh(color='green')\n",
    "plot.bar_label(plot.containers[0])\n",
    "plt.title('Total runs in each season')\n",
    "plt.show()"
   ]
  },
  {
   "cell_type": "markdown",
   "id": "6e6a54c8",
   "metadata": {},
   "source": [
    "# 17) No. of tosses won by each team"
   ]
  },
  {
   "cell_type": "code",
   "execution_count": 141,
   "id": "04acf5d1",
   "metadata": {},
   "outputs": [
    {
     "data": {
      "text/plain": [
       "Mumbai Indians                 96\n",
       "Kolkata Knight Riders          91\n",
       "Chennai Super Kings            89\n",
       "Royal Challengers Bangalore    80\n",
       "Kings XI Punjab                80\n",
       "Delhi Daredevils               80\n",
       "Rajasthan Royals               79\n",
       "Sunrisers Hyderabad            45\n",
       "Deccan Chargers                43\n",
       "Pune Warriors                  20\n",
       "Gujarat Lions                  15\n",
       "Rising Pune Supergiants        13\n",
       "Delhi Capitals                 10\n",
       "Kochi Tuskers Kerala            8\n",
       "Name: toss_winner, dtype: int64"
      ]
     },
     "execution_count": 141,
     "metadata": {},
     "output_type": "execute_result"
    }
   ],
   "source": [
    "x=df2['toss_winner'].value_counts()\n",
    "x"
   ]
  },
  {
   "cell_type": "code",
   "execution_count": 142,
   "id": "b8f2d071",
   "metadata": {},
   "outputs": [
    {
     "data": {
      "image/png": "[encoded data removed]",
      "text/plain": [
       "<Figure size 720x720 with 1 Axes>"
      ]
     },
     "metadata": {},
     "output_type": "display_data"
    }
   ],
   "source": [
    "plt.figure(figsize=(10, 10))\n",
    "x=df2['toss_winner'].value_counts()\n",
    "plt.pie(x,labels=x)\n",
    "mylabels = [ 'Mumbai Indians','Royal Challengers Bangalore','Kolkata Knight Riders','Kings XI Punjab','Chennai Super Kings'\n",
    ",'Delhi Daredevils','Rajasthan Royals','Sunrisers Hyderabad','Deccan Chargers'\n",
    ",'Pune Warriors','Gujarat Lions','Rising Pune Supergiants','Delhi Capitals'\n",
    ",'Kochi Tuskers Kerala' ]\n",
    "plt.legend(labels=mylabels, fontsize=12, loc='upper center',bbox_to_anchor=(0.5, -0.04),ncol=3)\n",
    "plt.title('No. of tosses won by each team')\n",
    "plt.show()"
   ]
  },
  {
   "cell_type": "markdown",
   "id": "cb0b318a",
   "metadata": {},
   "source": [
    "# 18) Visualize the Toss decision across seasons"
   ]
  },
  {
   "cell_type": "code",
   "execution_count": 76,
   "id": "aa4509b9",
   "metadata": {},
   "outputs": [
    {
     "data": {
      "text/html": [
       "<div>\n",
       "<style scoped>\n",
       "    .dataframe tbody tr th:only-of-type {\n",
       "        vertical-align: middle;\n",
       "    }\n",
       "\n",
       "    .dataframe tbody tr th {\n",
       "        vertical-align: top;\n",
       "    }\n",
       "\n",
       "    .dataframe thead th {\n",
       "        text-align: right;\n",
       "    }\n",
       "</style>\n",
       "<table border=\"1\" class=\"dataframe\">\n",
       "  <thead>\n",
       "    <tr style=\"text-align: right;\">\n",
       "      <th>toss_decision</th>\n",
       "      <th>bat</th>\n",
       "      <th>field</th>\n",
       "    </tr>\n",
       "    <tr>\n",
       "      <th>season</th>\n",
       "      <th></th>\n",
       "      <th></th>\n",
       "    </tr>\n",
       "  </thead>\n",
       "  <tbody>\n",
       "    <tr>\n",
       "      <th>2008</th>\n",
       "      <td>26</td>\n",
       "      <td>32</td>\n",
       "    </tr>\n",
       "    <tr>\n",
       "      <th>2009</th>\n",
       "      <td>35</td>\n",
       "      <td>22</td>\n",
       "    </tr>\n",
       "    <tr>\n",
       "      <th>2010</th>\n",
       "      <td>39</td>\n",
       "      <td>21</td>\n",
       "    </tr>\n",
       "    <tr>\n",
       "      <th>2011</th>\n",
       "      <td>25</td>\n",
       "      <td>48</td>\n",
       "    </tr>\n",
       "    <tr>\n",
       "      <th>2012</th>\n",
       "      <td>37</td>\n",
       "      <td>37</td>\n",
       "    </tr>\n",
       "    <tr>\n",
       "      <th>2013</th>\n",
       "      <td>45</td>\n",
       "      <td>31</td>\n",
       "    </tr>\n",
       "    <tr>\n",
       "      <th>2014</th>\n",
       "      <td>16</td>\n",
       "      <td>37</td>\n",
       "    </tr>\n",
       "    <tr>\n",
       "      <th>2015</th>\n",
       "      <td>25</td>\n",
       "      <td>34</td>\n",
       "    </tr>\n",
       "    <tr>\n",
       "      <th>2016</th>\n",
       "      <td>11</td>\n",
       "      <td>49</td>\n",
       "    </tr>\n",
       "    <tr>\n",
       "      <th>2017</th>\n",
       "      <td>11</td>\n",
       "      <td>48</td>\n",
       "    </tr>\n",
       "    <tr>\n",
       "      <th>2018</th>\n",
       "      <td>10</td>\n",
       "      <td>50</td>\n",
       "    </tr>\n",
       "    <tr>\n",
       "      <th>2019</th>\n",
       "      <td>10</td>\n",
       "      <td>50</td>\n",
       "    </tr>\n",
       "  </tbody>\n",
       "</table>\n",
       "</div>"
      ],
      "text/plain": [
       "toss_decision  bat  field\n",
       "season                   \n",
       "2008            26     32\n",
       "2009            35     22\n",
       "2010            39     21\n",
       "2011            25     48\n",
       "2012            37     37\n",
       "2013            45     31\n",
       "2014            16     37\n",
       "2015            25     34\n",
       "2016            11     49\n",
       "2017            11     48\n",
       "2018            10     50\n",
       "2019            10     50"
      ]
     },
     "execution_count": 76,
     "metadata": {},
     "output_type": "execute_result"
    }
   ],
   "source": [
    "x=pd.crosstab(df2.season,df2.toss_decision)\n",
    "x"
   ]
  },
  {
   "cell_type": "code",
   "execution_count": 158,
   "id": "39f7c9a1",
   "metadata": {},
   "outputs": [
    {
     "data": {
      "image/png": "[encoded data removed]",
      "text/plain": [
       "<Figure size 720x576 with 1 Axes>"
      ]
     },
     "metadata": {
      "needs_background": "light"
     },
     "output_type": "display_data"
    }
   ],
   "source": [
    "x=pd.crosstab(df2.season,df2.toss_decision)\n",
    "y=x.plot.bar(figsize=(10,8),rot=0)\n",
    "y.set_title('Toss decision across seasons')\n",
    "plt.show()\n"
   ]
  },
  {
   "cell_type": "markdown",
   "id": "b06bc106",
   "metadata": {},
   "source": [
    "# OR"
   ]
  },
  {
   "cell_type": "code",
   "execution_count": 159,
   "id": "817b85cf",
   "metadata": {},
   "outputs": [
    {
     "data": {
      "image/png": "[encoded data removed]",
      "text/plain": [
       "<Figure size 720x576 with 1 Axes>"
      ]
     },
     "metadata": {
      "needs_background": "light"
     },
     "output_type": "display_data"
    }
   ],
   "source": [
    "plt.figure(figsize=(10,8))\n",
    "sns.countplot(x='season',hue='toss_decision',data=df2)\n",
    "plt.title('Toss decision across seasons')\n",
    "plt.show()"
   ]
  },
  {
   "cell_type": "markdown",
   "id": "2e10fd8e",
   "metadata": {},
   "source": [
    "# 19) Find the Dismissal Kind and Visualize using best fit graph"
   ]
  },
  {
   "cell_type": "code",
   "execution_count": 79,
   "id": "f38526b6",
   "metadata": {},
   "outputs": [
    {
     "data": {
      "text/plain": [
       "caught                   5348\n",
       "bowled                   1581\n",
       "run out                   852\n",
       "lbw                       540\n",
       "stumped                   278\n",
       "caught and bowled         211\n",
       "retired hurt               12\n",
       "hit wicket                 10\n",
       "obstructing the field       2\n",
       "Name: dismissal_kind, dtype: int64"
      ]
     },
     "execution_count": 79,
     "metadata": {},
     "output_type": "execute_result"
    }
   ],
   "source": [
    "ndf=df1.drop(df1[df1['dismissal_kind'] == \"not out\"].index)\n",
    "x=ndf['dismissal_kind'].value_counts()\n",
    "x"
   ]
  },
  {
   "cell_type": "code",
   "execution_count": 80,
   "id": "f1a0f218",
   "metadata": {},
   "outputs": [
    {
     "data": {
      "image/png": "[encoded data removed]",
      "text/plain": [
       "<Figure size 720x720 with 1 Axes>"
      ]
     },
     "metadata": {},
     "output_type": "display_data"
    }
   ],
   "source": [
    "plt.figure(figsize=(10,10))\n",
    "mylabels = ['caught','bowled','run out','lbw','stumped','caught and bowled','retired hurt','hit wicket','obstructing the field']\n",
    "plt.pie(x,labels=x)\n",
    "plt.legend(title='type of dismissal',labels=mylabels,loc='center',fontsize=12,bbox_to_anchor=(0.5, -0.04),ncol=2)\n",
    "plt.show()"
   ]
  },
  {
   "cell_type": "markdown",
   "id": "d68b6bfd",
   "metadata": {},
   "source": [
    "# 20) Find the Top 10 run scorers in IPL and Visualize using best fit graph"
   ]
  },
  {
   "cell_type": "code",
   "execution_count": 81,
   "id": "d4f64e44",
   "metadata": {},
   "outputs": [
    {
     "data": {
      "text/plain": [
       "batsman\n",
       "V Kohli           5430\n",
       "SK Raina          5410\n",
       "RG Sharma         4861\n",
       "DA Warner         4618\n",
       "S Dhawan          4593\n",
       "CH Gayle          4540\n",
       "MS Dhoni          4458\n",
       "RV Uthappa        4391\n",
       "AB de Villiers    4366\n",
       "G Gambhir         4223\n",
       "Name: batsman_runs, dtype: int64"
      ]
     },
     "execution_count": 81,
     "metadata": {},
     "output_type": "execute_result"
    }
   ],
   "source": [
    "batsman=newdf.groupby('batsman').batsman_runs.sum()\n",
    "top=batsman.sort_values(ascending=False).head(10)\n",
    "top"
   ]
  },
  {
   "cell_type": "code",
   "execution_count": 163,
   "id": "e2cabfb2",
   "metadata": {},
   "outputs": [
    {
     "data": {
      "image/png": "[encoded data removed]",
      "text/plain": [
       "<Figure size 432x432 with 1 Axes>"
      ]
     },
     "metadata": {
      "needs_background": "light"
     },
     "output_type": "display_data"
    }
   ],
   "source": [
    "batsman=newdf.groupby('batsman').batsman_runs.sum()\n",
    "top=batsman.sort_values(ascending=False).head(10)\n",
    "plt.figure(figsize=(6,6))\n",
    "plot=top.plot.bar()\n",
    "plot.bar_label(plot.containers[0])\n",
    "plt.title('Top 10 run scorers in IPL')\n",
    "plt.show()"
   ]
  },
  {
   "cell_type": "markdown",
   "id": "1552ffcd",
   "metadata": {},
   "source": [
    "# 21) Visualize the Highest MOM award winners"
   ]
  },
  {
   "cell_type": "code",
   "execution_count": 164,
   "id": "4aa8381e",
   "metadata": {},
   "outputs": [
    {
     "data": {
      "image/png": "[encoded data removed]",
      "text/plain": [
       "<Figure size 432x288 with 1 Axes>"
      ]
     },
     "metadata": {
      "needs_background": "light"
     },
     "output_type": "display_data"
    }
   ],
   "source": [
    "x=df2['player_of_match'].value_counts().head(10)\n",
    "x.plot.bar(color='red')\n",
    "plt.title('Highest MOM award winners')\n",
    "plt.show()"
   ]
  },
  {
   "cell_type": "markdown",
   "id": "ab1cb21e",
   "metadata": {},
   "source": [
    "# 22) Find Total Number of Played Matches by each team"
   ]
  },
  {
   "cell_type": "code",
   "execution_count": 172,
   "id": "0fd42f0f",
   "metadata": {},
   "outputs": [
    {
     "name": "stdout",
     "output_type": "stream",
     "text": [
      "total number of matches played by each team across all seasons is: \n",
      " Mumbai Indians                 184\n",
      "Royal Challengers Bangalore    178\n",
      "Kolkata Knight Riders          177\n",
      "Kings XI Punjab                175\n",
      "Chennai Super Kings            162\n",
      "Delhi Daredevils               159\n",
      "Rajasthan Royals               146\n",
      "Sunrisers Hyderabad            106\n",
      "Deccan Chargers                 75\n",
      "Pune Warriors                   46\n",
      "Gujarat Lions                   30\n",
      "Rising Pune Supergiants         30\n",
      "Delhi Capitals                  16\n",
      "Kochi Tuskers Kerala            14\n",
      "dtype: int64\n"
     ]
    }
   ],
   "source": [
    "x = df2['team1'].value_counts()\n",
    "y = df2['team2'].value_counts()\n",
    "z = x + y\n",
    "n=z.sort_values(ascending=False)\n",
    "print(\"total number of matches played by each team across all seasons is: \\n\",n)"
   ]
  },
  {
   "cell_type": "code",
   "execution_count": 173,
   "id": "ff4632d3",
   "metadata": {},
   "outputs": [
    {
     "data": {
      "image/png": "[encoded data removed]",
      "text/plain": [
       "<Figure size 576x576 with 1 Axes>"
      ]
     },
     "metadata": {
      "needs_background": "light"
     },
     "output_type": "display_data"
    }
   ],
   "source": [
    "plt.figure(figsize=(8,8))\n",
    "plot=n.plot.barh(color='blue')\n",
    "plot.bar_label(plot.containers[0])\n",
    "plt.title('Total Number of Played Matches by each team')\n",
    "plt.show()"
   ]
  },
  {
   "cell_type": "markdown",
   "id": "61abe7d0",
   "metadata": {},
   "source": [
    "# 23) Compare Total Played Matches vs Winning Matches vs Win Rate"
   ]
  },
  {
   "cell_type": "code",
   "execution_count": 85,
   "id": "8ab3b69d",
   "metadata": {},
   "outputs": [
    {
     "data": {
      "text/html": [
       "<div>\n",
       "<style scoped>\n",
       "    .dataframe tbody tr th:only-of-type {\n",
       "        vertical-align: middle;\n",
       "    }\n",
       "\n",
       "    .dataframe tbody tr th {\n",
       "        vertical-align: top;\n",
       "    }\n",
       "\n",
       "    .dataframe thead th {\n",
       "        text-align: right;\n",
       "    }\n",
       "</style>\n",
       "<table border=\"1\" class=\"dataframe\">\n",
       "  <thead>\n",
       "    <tr style=\"text-align: right;\">\n",
       "      <th></th>\n",
       "    </tr>\n",
       "  </thead>\n",
       "  <tbody>\n",
       "  </tbody>\n",
       "</table>\n",
       "</div>"
      ],
      "text/plain": [
       "Empty DataFrame\n",
       "Columns: []\n",
       "Index: []"
      ]
     },
     "execution_count": 85,
     "metadata": {},
     "output_type": "execute_result"
    }
   ],
   "source": [
    "data=pd.DataFrame()\n",
    "data"
   ]
  },
  {
   "cell_type": "code",
   "execution_count": 86,
   "id": "dd3ec67a",
   "metadata": {},
   "outputs": [
    {
     "data": {
      "text/html": [
       "<div>\n",
       "<style scoped>\n",
       "    .dataframe tbody tr th:only-of-type {\n",
       "        vertical-align: middle;\n",
       "    }\n",
       "\n",
       "    .dataframe tbody tr th {\n",
       "        vertical-align: top;\n",
       "    }\n",
       "\n",
       "    .dataframe thead th {\n",
       "        text-align: right;\n",
       "    }\n",
       "</style>\n",
       "<table border=\"1\" class=\"dataframe\">\n",
       "  <thead>\n",
       "    <tr style=\"text-align: right;\">\n",
       "      <th></th>\n",
       "      <th>totalmatches</th>\n",
       "      <th>winmatches</th>\n",
       "      <th>winrate</th>\n",
       "    </tr>\n",
       "  </thead>\n",
       "  <tbody>\n",
       "    <tr>\n",
       "      <th>Chennai Super Kings</th>\n",
       "      <td>162</td>\n",
       "      <td>98</td>\n",
       "      <td>60.493827</td>\n",
       "    </tr>\n",
       "    <tr>\n",
       "      <th>Deccan Chargers</th>\n",
       "      <td>75</td>\n",
       "      <td>29</td>\n",
       "      <td>38.666667</td>\n",
       "    </tr>\n",
       "    <tr>\n",
       "      <th>Delhi Capitals</th>\n",
       "      <td>16</td>\n",
       "      <td>10</td>\n",
       "      <td>62.500000</td>\n",
       "    </tr>\n",
       "    <tr>\n",
       "      <th>Delhi Daredevils</th>\n",
       "      <td>159</td>\n",
       "      <td>66</td>\n",
       "      <td>41.509434</td>\n",
       "    </tr>\n",
       "    <tr>\n",
       "      <th>Gujarat Lions</th>\n",
       "      <td>30</td>\n",
       "      <td>13</td>\n",
       "      <td>43.333333</td>\n",
       "    </tr>\n",
       "    <tr>\n",
       "      <th>Kings XI Punjab</th>\n",
       "      <td>175</td>\n",
       "      <td>81</td>\n",
       "      <td>46.285714</td>\n",
       "    </tr>\n",
       "    <tr>\n",
       "      <th>Kochi Tuskers Kerala</th>\n",
       "      <td>14</td>\n",
       "      <td>6</td>\n",
       "      <td>42.857143</td>\n",
       "    </tr>\n",
       "    <tr>\n",
       "      <th>Kolkata Knight Riders</th>\n",
       "      <td>177</td>\n",
       "      <td>92</td>\n",
       "      <td>51.977401</td>\n",
       "    </tr>\n",
       "    <tr>\n",
       "      <th>Mumbai Indians</th>\n",
       "      <td>184</td>\n",
       "      <td>109</td>\n",
       "      <td>59.239130</td>\n",
       "    </tr>\n",
       "    <tr>\n",
       "      <th>Pune Warriors</th>\n",
       "      <td>46</td>\n",
       "      <td>12</td>\n",
       "      <td>26.086957</td>\n",
       "    </tr>\n",
       "    <tr>\n",
       "      <th>Rajasthan Royals</th>\n",
       "      <td>146</td>\n",
       "      <td>75</td>\n",
       "      <td>51.369863</td>\n",
       "    </tr>\n",
       "    <tr>\n",
       "      <th>Rising Pune Supergiants</th>\n",
       "      <td>30</td>\n",
       "      <td>15</td>\n",
       "      <td>50.000000</td>\n",
       "    </tr>\n",
       "    <tr>\n",
       "      <th>Royal Challengers Bangalore</th>\n",
       "      <td>178</td>\n",
       "      <td>83</td>\n",
       "      <td>46.629213</td>\n",
       "    </tr>\n",
       "    <tr>\n",
       "      <th>Sunrisers Hyderabad</th>\n",
       "      <td>106</td>\n",
       "      <td>56</td>\n",
       "      <td>52.830189</td>\n",
       "    </tr>\n",
       "  </tbody>\n",
       "</table>\n",
       "</div>"
      ],
      "text/plain": [
       "                             totalmatches  winmatches    winrate\n",
       "Chennai Super Kings                   162          98  60.493827\n",
       "Deccan Chargers                        75          29  38.666667\n",
       "Delhi Capitals                         16          10  62.500000\n",
       "Delhi Daredevils                      159          66  41.509434\n",
       "Gujarat Lions                          30          13  43.333333\n",
       "Kings XI Punjab                       175          81  46.285714\n",
       "Kochi Tuskers Kerala                   14           6  42.857143\n",
       "Kolkata Knight Riders                 177          92  51.977401\n",
       "Mumbai Indians                        184         109  59.239130\n",
       "Pune Warriors                          46          12  26.086957\n",
       "Rajasthan Royals                      146          75  51.369863\n",
       "Rising Pune Supergiants                30          15  50.000000\n",
       "Royal Challengers Bangalore           178          83  46.629213\n",
       "Sunrisers Hyderabad                   106          56  52.830189"
      ]
     },
     "execution_count": 86,
     "metadata": {},
     "output_type": "execute_result"
    }
   ],
   "source": [
    "totalmatches1 = df2['team1'].value_counts()\n",
    "totalmatches2 = df2['team2'].value_counts()\n",
    "total = totalmatches1+totalmatches2\n",
    "wincount=df2['winner'].value_counts()\n",
    "winrate=(wincount/total)*100\n",
    "data['totalmatches']=total\n",
    "data['winmatches']=wincount\n",
    "data['winrate']=winrate\n",
    "data"
   ]
  },
  {
   "cell_type": "code",
   "execution_count": 87,
   "id": "b6d7919c",
   "metadata": {},
   "outputs": [
    {
     "data": {
      "image/png": "[encoded data removed]",
      "text/plain": [
       "<Figure size 792x576 with 1 Axes>"
      ]
     },
     "metadata": {
      "needs_background": "light"
     },
     "output_type": "display_data"
    }
   ],
   "source": [
    "data.plot.bar(figsize=(11,8),title='Comparing Total Played Matches vs Winning Matches vs Win Rate')\n",
    "plt.show()"
   ]
  },
  {
   "cell_type": "markdown",
   "id": "cf914dcf",
   "metadata": {},
   "source": [
    "# 24) Find the Distribution of Won the Matches"
   ]
  },
  {
   "cell_type": "code",
   "execution_count": 88,
   "id": "12ed2510",
   "metadata": {},
   "outputs": [
    {
     "data": {
      "text/plain": [
       "Mumbai Indians                 109\n",
       "Chennai Super Kings             98\n",
       "Kolkata Knight Riders           92\n",
       "Royal Challengers Bangalore     83\n",
       "Kings XI Punjab                 81\n",
       "Rajasthan Royals                75\n",
       "Delhi Daredevils                66\n",
       "Sunrisers Hyderabad             56\n",
       "Deccan Chargers                 29\n",
       "Rising Pune Supergiants         15\n",
       "Gujarat Lions                   13\n",
       "Pune Warriors                   12\n",
       "Delhi Capitals                  10\n",
       "Kochi Tuskers Kerala             6\n",
       "no winner                        4\n",
       "Name: winner, dtype: int64"
      ]
     },
     "execution_count": 88,
     "metadata": {},
     "output_type": "execute_result"
    }
   ],
   "source": [
    "x=df2['winner'].value_counts()\n",
    "x"
   ]
  },
  {
   "cell_type": "code",
   "execution_count": 89,
   "id": "5490f541",
   "metadata": {},
   "outputs": [
    {
     "data": {
      "image/png": "[encoded data removed]",
      "text/plain": [
       "<Figure size 720x720 with 1 Axes>"
      ]
     },
     "metadata": {},
     "output_type": "display_data"
    }
   ],
   "source": [
    "plt.figure(figsize=(10,10))\n",
    "plt.pie(x,labels=x)\n",
    "mylabels = [ 'Mumbai Indians','Royal Challengers Bangalore','Kolkata Knight Riders','Kings XI Punjab','Chennai Super Kings'\n",
    ",'Delhi Daredevils','Rajasthan Royals','Sunrisers Hyderabad','Deccan Chargers'\n",
    ",'Pune Warriors','Gujarat Lions','Rising Pune Supergiants','Delhi Capitals'\n",
    ",'Kochi Tuskers Kerala' ]\n",
    "plt.legend(labels=mylabels, fontsize=12, loc='upper center',bbox_to_anchor=(0.5, -0.04),ncol=3)\n",
    "plt.show()"
   ]
  },
  {
   "cell_type": "markdown",
   "id": "41df3b07",
   "metadata": {},
   "source": [
    "# 25) Ratio between Total Matches and Win Matches"
   ]
  },
  {
   "cell_type": "code",
   "execution_count": 90,
   "id": "1037e8f9",
   "metadata": {},
   "outputs": [
    {
     "name": "stdout",
     "output_type": "stream",
     "text": [
      "Total matches:  749\n",
      "Matches won:  736\n",
      "ratio=  736 / 749\n",
      "ratio=  1.017663043478261\n"
     ]
    }
   ],
   "source": [
    "x= df2.city.value_counts().sum()\n",
    "y= df2.loc[df2['result']=='normal'].value_counts().sum()\n",
    "z=x/y\n",
    "print('Total matches: ',x)\n",
    "print('Matches won: ',y)\n",
    "print('ratio= ',y,'/',x)\n",
    "print('ratio= ',z)"
   ]
  },
  {
   "cell_type": "markdown",
   "id": "79dbe62f",
   "metadata": {},
   "source": [
    "# 26) What is the choice of each team after winning the toss?"
   ]
  },
  {
   "cell_type": "code",
   "execution_count": 91,
   "id": "c00d8e71",
   "metadata": {},
   "outputs": [
    {
     "data": {
      "text/html": [
       "<div>\n",
       "<style scoped>\n",
       "    .dataframe tbody tr th:only-of-type {\n",
       "        vertical-align: middle;\n",
       "    }\n",
       "\n",
       "    .dataframe tbody tr th {\n",
       "        vertical-align: top;\n",
       "    }\n",
       "\n",
       "    .dataframe thead th {\n",
       "        text-align: right;\n",
       "    }\n",
       "</style>\n",
       "<table border=\"1\" class=\"dataframe\">\n",
       "  <thead>\n",
       "    <tr style=\"text-align: right;\">\n",
       "      <th>toss_decision</th>\n",
       "      <th>bat</th>\n",
       "      <th>field</th>\n",
       "    </tr>\n",
       "    <tr>\n",
       "      <th>toss_winner</th>\n",
       "      <th></th>\n",
       "      <th></th>\n",
       "    </tr>\n",
       "  </thead>\n",
       "  <tbody>\n",
       "    <tr>\n",
       "      <th>Chennai Super Kings</th>\n",
       "      <td>48</td>\n",
       "      <td>41</td>\n",
       "    </tr>\n",
       "    <tr>\n",
       "      <th>Deccan Chargers</th>\n",
       "      <td>24</td>\n",
       "      <td>19</td>\n",
       "    </tr>\n",
       "    <tr>\n",
       "      <th>Delhi Capitals</th>\n",
       "      <td>2</td>\n",
       "      <td>8</td>\n",
       "    </tr>\n",
       "    <tr>\n",
       "      <th>Delhi Daredevils</th>\n",
       "      <td>29</td>\n",
       "      <td>51</td>\n",
       "    </tr>\n",
       "    <tr>\n",
       "      <th>Gujarat Lions</th>\n",
       "      <td>1</td>\n",
       "      <td>14</td>\n",
       "    </tr>\n",
       "    <tr>\n",
       "      <th>Kings XI Punjab</th>\n",
       "      <td>26</td>\n",
       "      <td>54</td>\n",
       "    </tr>\n",
       "    <tr>\n",
       "      <th>Kochi Tuskers Kerala</th>\n",
       "      <td>3</td>\n",
       "      <td>5</td>\n",
       "    </tr>\n",
       "    <tr>\n",
       "      <th>Kolkata Knight Riders</th>\n",
       "      <td>29</td>\n",
       "      <td>62</td>\n",
       "    </tr>\n",
       "    <tr>\n",
       "      <th>Mumbai Indians</th>\n",
       "      <td>43</td>\n",
       "      <td>53</td>\n",
       "    </tr>\n",
       "    <tr>\n",
       "      <th>Pune Warriors</th>\n",
       "      <td>11</td>\n",
       "      <td>9</td>\n",
       "    </tr>\n",
       "    <tr>\n",
       "      <th>Rajasthan Royals</th>\n",
       "      <td>32</td>\n",
       "      <td>47</td>\n",
       "    </tr>\n",
       "    <tr>\n",
       "      <th>Rising Pune Supergiants</th>\n",
       "      <td>3</td>\n",
       "      <td>10</td>\n",
       "    </tr>\n",
       "    <tr>\n",
       "      <th>Royal Challengers Bangalore</th>\n",
       "      <td>20</td>\n",
       "      <td>60</td>\n",
       "    </tr>\n",
       "    <tr>\n",
       "      <th>Sunrisers Hyderabad</th>\n",
       "      <td>19</td>\n",
       "      <td>26</td>\n",
       "    </tr>\n",
       "  </tbody>\n",
       "</table>\n",
       "</div>"
      ],
      "text/plain": [
       "toss_decision                bat  field\n",
       "toss_winner                            \n",
       "Chennai Super Kings           48     41\n",
       "Deccan Chargers               24     19\n",
       "Delhi Capitals                 2      8\n",
       "Delhi Daredevils              29     51\n",
       "Gujarat Lions                  1     14\n",
       "Kings XI Punjab               26     54\n",
       "Kochi Tuskers Kerala           3      5\n",
       "Kolkata Knight Riders         29     62\n",
       "Mumbai Indians                43     53\n",
       "Pune Warriors                 11      9\n",
       "Rajasthan Royals              32     47\n",
       "Rising Pune Supergiants        3     10\n",
       "Royal Challengers Bangalore   20     60\n",
       "Sunrisers Hyderabad           19     26"
      ]
     },
     "execution_count": 91,
     "metadata": {},
     "output_type": "execute_result"
    }
   ],
   "source": [
    "n=pd.crosstab(df2.toss_winner,df2.toss_decision)\n",
    "n"
   ]
  },
  {
   "cell_type": "code",
   "execution_count": 171,
   "id": "714ae3c1",
   "metadata": {},
   "outputs": [
    {
     "data": {
      "text/plain": [
       "<matplotlib.legend.Legend at 0x7f85f2dfcbb0>"
      ]
     },
     "execution_count": 171,
     "metadata": {},
     "output_type": "execute_result"
    },
    {
     "data": {
      "image/png": "[encoded data removed]",
      "text/plain": [
       "<Figure size 576x576 with 1 Axes>"
      ]
     },
     "metadata": {
      "needs_background": "light"
     },
     "output_type": "display_data"
    }
   ],
   "source": [
    "plt.figure(figsize=(8,8))\n",
    "x = sns.countplot(x='toss_winner', hue='toss_decision', data=df2)\n",
    "\n",
    "x.set_xticklabels(x.get_xticklabels(), rotation=40, ha=\"right\",\n",
    "    fontweight='light',\n",
    "    fontsize='x-large')\n",
    "x.legend(loc=\"upper right\",fontsize='x-large')"
   ]
  },
  {
   "cell_type": "markdown",
   "id": "6584efd0",
   "metadata": {},
   "source": [
    "# OR"
   ]
  },
  {
   "cell_type": "code",
   "execution_count": 93,
   "id": "2ab38164",
   "metadata": {},
   "outputs": [
    {
     "data": {
      "text/plain": [
       "<AxesSubplot:xlabel='toss_winner'>"
      ]
     },
     "execution_count": 93,
     "metadata": {},
     "output_type": "execute_result"
    },
    {
     "data": {
      "image/png": "[encoded data removed]",
      "text/plain": [
       "<Figure size 720x576 with 1 Axes>"
      ]
     },
     "metadata": {
      "needs_background": "light"
     },
     "output_type": "display_data"
    }
   ],
   "source": [
    "n.plot.bar(figsize=(10,8))"
   ]
  },
  {
   "cell_type": "code",
   "execution_count": null,
   "id": "aae4994d",
   "metadata": {},
   "outputs": [],
   "source": []
  }
 ],
 "metadata": {
  "kernelspec": {
   "display_name": "Python 3 (ipykernel)",
   "language": "python",
   "name": "python3"
  },
  "language_info": {
   "codemirror_mode": {
    "name": "ipython",
    "version": 3
   },
   "file_extension": ".py",
   "mimetype": "text/x-python",
   "name": "python",
   "nbconvert_exporter": "python",
   "pygments_lexer": "ipython3",
   "version": "3.9.12"
  }
 },
 "nbformat": 4,
 "nbformat_minor": 5
}
