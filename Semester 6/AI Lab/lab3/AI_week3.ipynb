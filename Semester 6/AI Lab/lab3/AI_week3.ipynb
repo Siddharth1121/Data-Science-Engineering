{
 "cells": [
  {
   "cell_type": "markdown",
   "id": "61ac9e53-b85f-4d2b-8326-f46648d07e97",
   "metadata": {},
   "source": [
    "# Siddharth Nagepalli - 210968074\n",
    "# AI lab3 Exercise"
   ]
  },
  {
   "cell_type": "code",
   "execution_count": 1,
   "id": "62bb8dbb",
   "metadata": {},
   "outputs": [
    {
     "name": "stdout",
     "output_type": "stream",
     "text": [
      "Requirement already satisfied: easyAI in /Users/siddharth/opt/anaconda3/lib/python3.9/site-packages (2.0.12)\n",
      "Requirement already satisfied: numpy in /Users/siddharth/opt/anaconda3/lib/python3.9/site-packages (from easyAI) (1.22.4)\n",
      "Note: you may need to restart the kernel to use updated packages.\n"
     ]
    }
   ],
   "source": [
    "pip install easyAI"
   ]
  },
  {
   "cell_type": "code",
   "execution_count": 2,
   "id": "3750f1d1",
   "metadata": {},
   "outputs": [],
   "source": [
    "import easyAI"
   ]
  },
  {
   "cell_type": "code",
   "execution_count": 3,
   "id": "044cb668",
   "metadata": {},
   "outputs": [
    {
     "data": {
      "text/plain": [
       "['AI',\n",
       " 'AI_Player',\n",
       " 'DUAL',\n",
       " 'DictTranspositionTable',\n",
       " 'HashTranspositionTable',\n",
       " 'Human_Player',\n",
       " 'Negamax',\n",
       " 'NonRecursiveNegamax',\n",
       " 'Player',\n",
       " 'SSS',\n",
       " 'TranspositionTable',\n",
       " 'TwoPlayerGame',\n",
       " '__all__',\n",
       " '__builtins__',\n",
       " '__cached__',\n",
       " '__doc__',\n",
       " '__file__',\n",
       " '__loader__',\n",
       " '__name__',\n",
       " '__package__',\n",
       " '__path__',\n",
       " '__spec__',\n",
       " 'mtd',\n",
       " 'solve_with_depth_first_search',\n",
       " 'solve_with_iterative_deepening']"
      ]
     },
     "execution_count": 3,
     "metadata": {},
     "output_type": "execute_result"
    }
   ],
   "source": [
    "dir(easyAI)"
   ]
  },
  {
   "cell_type": "code",
   "execution_count": 26,
   "id": "c67301d8",
   "metadata": {},
   "outputs": [
    {
     "name": "stdout",
     "output_type": "stream",
     "text": [
      "\n",
      ". . .\n",
      ". . .\n",
      ". . .\n",
      "\n",
      "Player 1 what do you play ? 5\n",
      "\n",
      "Move #1: player 1 plays 5 :\n",
      "\n",
      ". . .\n",
      ". O .\n",
      ". . .\n",
      "\n",
      "Move #2: player 2 plays 1 :\n",
      "\n",
      "X . .\n",
      ". O .\n",
      ". . .\n",
      "\n",
      "Player 1 what do you play ? 7\n",
      "\n",
      "Move #3: player 1 plays 7 :\n",
      "\n",
      "X . .\n",
      ". O .\n",
      "O . .\n",
      "\n",
      "Move #4: player 2 plays 3 :\n",
      "\n",
      "X . X\n",
      ". O .\n",
      "O . .\n",
      "\n",
      "Player 1 what do you play ? 2\n",
      "\n",
      "Move #5: player 1 plays 2 :\n",
      "\n",
      "X O X\n",
      ". O .\n",
      "O . .\n",
      "\n",
      "Move #6: player 2 plays 8 :\n",
      "\n",
      "X O X\n",
      ". O .\n",
      "O X .\n",
      "\n",
      "Player 1 what do you play ? 6\n",
      "\n",
      "Move #7: player 1 plays 6 :\n",
      "\n",
      "X O X\n",
      ". O O\n",
      "O X .\n",
      "\n",
      "Move #8: player 2 plays 4 :\n",
      "\n",
      "X O X\n",
      "X O O\n",
      "O X .\n",
      "\n",
      "Player 1 what do you play ? 9\n",
      "\n",
      "Move #9: player 1 plays 9 :\n",
      "\n",
      "X O X\n",
      "X O O\n",
      "O X O\n"
     ]
    }
   ],
   "source": [
    "from easyAI import TwoPlayerGame\n",
    "from easyAI.Player import Human_Player\n",
    "\n",
    "\n",
    "class TicTacToe(TwoPlayerGame):\n",
    "    \"\"\"The board positions are numbered as follows:\n",
    "    1 2 3\n",
    "    4 5 6\n",
    "    7 8 9\n",
    "    \"\"\"\n",
    "\n",
    "    def __init__(self, players):\n",
    "        self.players = players\n",
    "        self.board = [0 for i in range(9)]\n",
    "        self.current_player = 1  # player 1 starts.\n",
    "\n",
    "    def possible_moves(self):\n",
    "        return [i + 1 for i, e in enumerate(self.board) if e == 0]\n",
    "\n",
    "    def make_move(self, move):\n",
    "        self.board[int(move) - 1] = self.current_player\n",
    "\n",
    "    def unmake_move(self, move):  # optional method (speeds up the AI)\n",
    "        self.board[int(move) - 1] = 0\n",
    "\n",
    "    def lose(self):\n",
    "        \"\"\" Has the opponent \"three in line ?\" \"\"\"\n",
    "        return any(\n",
    "            [\n",
    "                all([(self.board[c - 1] == self.opponent_index) for c in line])\n",
    "                for line in [\n",
    "                    [1, 2, 3],\n",
    "                    [4, 5, 6],\n",
    "                    [7, 8, 9],  # horiz.\n",
    "                    [1, 4, 7],\n",
    "                    [2, 5, 8],\n",
    "                    [3, 6, 9],  # vertical\n",
    "                    [1, 5, 9],\n",
    "                    [3, 5, 7],\n",
    "                ]\n",
    "            ]\n",
    "        )  # diagonal\n",
    "\n",
    "    def is_over(self):\n",
    "        return (self.possible_moves() == []) or self.lose()\n",
    "\n",
    "    def show(self):\n",
    "        print(\n",
    "            \"\\n\"\n",
    "            + \"\\n\".join(\n",
    "                [\n",
    "                    \" \".join([[\".\", \"O\", \"X\"][self.board[3 * j + i]] for i in range(3)])\n",
    "                    for j in range(3)\n",
    "                ]\n",
    "            )\n",
    "        )\n",
    "\n",
    "    def scoring(self):\n",
    "        return -100 if self.lose() else 0\n",
    "\n",
    "\n",
    "if __name__ == \"__main__\":\n",
    "\n",
    "    from easyAI import AI_Player, Negamax\n",
    "\n",
    "    ai_algo = Negamax(6)\n",
    "    game=TicTacToe([Human_Player(), AI_Player(ai_algo)]).play()"
   ]
  },
  {
   "cell_type": "code",
   "execution_count": 31,
   "id": "fe243d93",
   "metadata": {},
   "outputs": [],
   "source": [
    "from easyAI.AI import Negamax\n",
    "from easyAI.Player import AI_Player\n",
    "\n",
    "\n",
    "def solve_with_iterative_deepening(game, ai_depths, win_score, scoring=None, tt=None, verbose=True):\n",
    "    \n",
    "    \n",
    "    \n",
    "    if game.players is None:\n",
    "        game.players = [AI_Player(None), AI_Player(None)]\n",
    "\n",
    "    for depth in ai_depths:\n",
    "        ai = Negamax(depth, scoring, tt=tt)\n",
    "        ai(game)\n",
    "        alpha = ai.alpha\n",
    "        if verbose:\n",
    "            print(\"d:%d, a:%d, m:%s\" % (depth, alpha, str(game.ai_move)))\n",
    "        if abs(alpha) >= win_score:\n",
    "            break\n",
    "\n",
    "    # 1:win, 0:draw, -1:defeat\n",
    "    result = +1 if alpha >= win_score else (-1 if alpha <= -win_score else 0)\n",
    "\n",
    "    return result, depth, game.ai_move\n",
    "\n",
    "\n"
   ]
  },
  {
   "cell_type": "code",
   "execution_count": 32,
   "id": "3af003a3",
   "metadata": {},
   "outputs": [],
   "source": [
    "def solve_with_depth_first_search(game, win_score, maxdepth=50, tt=None, depth=0):\n",
    "    \n",
    "    \n",
    "\n",
    "    # Is there a transposition table and is this game in it ?\n",
    "    lookup = None if (tt is None) else tt.lookup(game)\n",
    "    if lookup is not None:\n",
    "        return lookup[\"value\"]\n",
    "\n",
    "    if depth == maxdepth:\n",
    "        raise \"Max recursion depth reached :(\"\n",
    "\n",
    "    if game.is_over():\n",
    "        score = game.scoring()\n",
    "        value = 1 if (score >= win_score) else (-1 if -score >= win_score else 0)\n",
    "        if tt is not None:\n",
    "            tt.store(game=game, value=value, move=None)\n",
    "        return value\n",
    "\n",
    "    possible_moves = game.possible_moves()\n",
    "\n",
    "    state = game\n",
    "    unmake_move = hasattr(state, \"unmake_move\")\n",
    "\n",
    "    best_value, best_move = -1, None\n",
    "\n",
    "    for move in possible_moves:\n",
    "\n",
    "        if not unmake_move:\n",
    "            game = state.copy()  # re-initialize move\n",
    "\n",
    "        game.make_move(move)\n",
    "        game.switch_player()\n",
    "\n",
    "        move_value = -solve_with_depth_first_search(\n",
    "            game, win_score, maxdepth, tt, depth + 1\n",
    "        )\n",
    "\n",
    "        if unmake_move:\n",
    "            game.switch_player()\n",
    "            game.unmake_move(move)\n",
    "\n",
    "        if move_value == 1:\n",
    "            if tt is not None:\n",
    "                tt.store(game=state, value=1, move=move)\n",
    "            return move_value\n",
    "\n",
    "        if move_value == 0 and best_value == -1:\n",
    "            # Is forcing a draw possible ?\n",
    "            best_value = 0\n",
    "            best_move = move\n",
    "    if tt is not None:\n",
    "        tt.store(game=state, value=best_value, move=best_move)\n",
    "\n",
    "    return best_value"
   ]
  },
  {
   "cell_type": "code",
   "execution_count": 38,
   "id": "410427c9",
   "metadata": {},
   "outputs": [],
   "source": [
    "# creating an instance of the game\n",
    "game_instance = TicTacToe([Human_Player(), AI_Player(None)])"
   ]
  },
  {
   "cell_type": "code",
   "execution_count": 48,
   "id": "a499d1da",
   "metadata": {},
   "outputs": [
    {
     "name": "stdout",
     "output_type": "stream",
     "text": [
      "d:10, a:0, m:1\n",
      "Result: 1\n",
      "Depth reached: 10\n",
      "Move: 1\n"
     ]
    }
   ],
   "source": [
    "ai_depths = [10]\n",
    "win_score = 0\n",
    "# Call the function\n",
    "result, depth, move = solve_with_iterative_deepening(game_instance, ai_depths, win_score)\n",
    "\n",
    "# Print the result using iterative deeping method \n",
    "print(\"Result:\", result)\n",
    "print(\"Depth reached:\", depth)\n",
    "print(\"Move:\", move)"
   ]
  },
  {
   "cell_type": "code",
   "execution_count": 49,
   "id": "d0f20efa",
   "metadata": {},
   "outputs": [
    {
     "name": "stdout",
     "output_type": "stream",
     "text": [
      "-1\n"
     ]
    }
   ],
   "source": [
    "best_value=solve_with_depth_first_search(game_instance,win_score)\n",
    "# print the best result using depth first search\n",
    "print(best_value)"
   ]
  },
  {
   "cell_type": "code",
   "execution_count": null,
   "id": "d7bce6a1",
   "metadata": {},
   "outputs": [],
   "source": [
    "# In iterative deepening, it determines if by playing perfectly the first player can force a win,\n",
    "# or whether it will always lose against a perfect opponent.\n",
    "# Using Iterative deepening we get the value 1 indicating victory for the first player. ( depth of 10 is reached )\n",
    "#This algorithm explores the game by using several times the Negamax algorithm, always starting at the initial state of the game, \n",
    "# but taking increasing depth (in the list ai_depths) until the score of the initial condition indicates that the first player \n",
    "# will certainly win or loose, in which case it stops\n",
    "\n",
    "\n",
    "\n",
    "# In depth-first search, the game is explored until endgames are reached.The endgames are evaluated to see if there are victories \n",
    "# or defeats. \n",
    "# Using depth first search we get the value -1 ( indicating defeat)\n",
    "# This algorithm can be faster but less informative than id_solve, as it does not provide ‘optimal’ strategies (like shortest path to the victory). \n",
    "# It returns simply 1, 0, or -1 to indicate certain victory, draw, or defeat of the first player."
   ]
  }
 ],
 "metadata": {
  "kernelspec": {
   "display_name": "Python 3 (ipykernel)",
   "language": "python",
   "name": "python3"
  },
  "language_info": {
   "codemirror_mode": {
    "name": "ipython",
    "version": 3
   },
   "file_extension": ".py",
   "mimetype": "text/x-python",
   "name": "python",
   "nbconvert_exporter": "python",
   "pygments_lexer": "ipython3",
   "version": "3.11.4"
  }
 },
 "nbformat": 4,
 "nbformat_minor": 5
}
