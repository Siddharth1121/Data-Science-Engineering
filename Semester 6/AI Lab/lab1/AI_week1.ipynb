{
 "cells": [
  {
   "cell_type": "code",
   "execution_count": null,
   "id": "e777baa2",
   "metadata": {},
   "outputs": [],
   "source": [
    "# Siddharth Nagepalli - 210968074\n",
    "# AI Lab 1 "
   ]
  },
  {
   "cell_type": "code",
   "execution_count": 1,
   "id": "e458ed47",
   "metadata": {},
   "outputs": [
    {
     "name": "stdout",
     "output_type": "stream",
     "text": [
      "Requirement already satisfied: gym in /Users/siddharth/opt/anaconda3/lib/python3.9/site-packages (0.26.2)\n",
      "Requirement already satisfied: gym-notices>=0.0.4 in /Users/siddharth/opt/anaconda3/lib/python3.9/site-packages (from gym) (0.0.8)\n",
      "Requirement already satisfied: numpy>=1.18.0 in /Users/siddharth/opt/anaconda3/lib/python3.9/site-packages (from gym) (1.22.4)\n",
      "Requirement already satisfied: importlib-metadata>=4.8.0 in /Users/siddharth/opt/anaconda3/lib/python3.9/site-packages (from gym) (4.11.3)\n",
      "Requirement already satisfied: cloudpickle>=1.2.0 in /Users/siddharth/opt/anaconda3/lib/python3.9/site-packages (from gym) (2.0.0)\n",
      "Requirement already satisfied: zipp>=0.5 in /Users/siddharth/opt/anaconda3/lib/python3.9/site-packages (from importlib-metadata>=4.8.0->gym) (3.7.0)\n",
      "Note: you may need to restart the kernel to use updated packages.\n"
     ]
    }
   ],
   "source": [
    "pip install -U gym"
   ]
  },
  {
   "cell_type": "code",
   "execution_count": 2,
   "id": "83690f11",
   "metadata": {},
   "outputs": [
    {
     "name": "stdout",
     "output_type": "stream",
     "text": [
      "Requirement already satisfied: gymnasium[classic_control] in /Users/siddharth/opt/anaconda3/lib/python3.9/site-packages (0.29.1)\n",
      "Requirement already satisfied: importlib-metadata>=4.8.0 in /Users/siddharth/opt/anaconda3/lib/python3.9/site-packages (from gymnasium[classic_control]) (4.11.3)\n",
      "Requirement already satisfied: typing-extensions>=4.3.0 in /Users/siddharth/opt/anaconda3/lib/python3.9/site-packages (from gymnasium[classic_control]) (4.9.0)\n",
      "Requirement already satisfied: numpy>=1.21.0 in /Users/siddharth/opt/anaconda3/lib/python3.9/site-packages (from gymnasium[classic_control]) (1.22.4)\n",
      "Requirement already satisfied: cloudpickle>=1.2.0 in /Users/siddharth/opt/anaconda3/lib/python3.9/site-packages (from gymnasium[classic_control]) (2.0.0)\n",
      "Requirement already satisfied: farama-notifications>=0.0.1 in /Users/siddharth/opt/anaconda3/lib/python3.9/site-packages (from gymnasium[classic_control]) (0.0.4)\n",
      "Requirement already satisfied: pygame>=2.1.3 in /Users/siddharth/opt/anaconda3/lib/python3.9/site-packages (from gymnasium[classic_control]) (2.5.2)\n",
      "Requirement already satisfied: zipp>=0.5 in /Users/siddharth/opt/anaconda3/lib/python3.9/site-packages (from importlib-metadata>=4.8.0->gymnasium[classic_control]) (3.7.0)\n",
      "Note: you may need to restart the kernel to use updated packages.\n"
     ]
    }
   ],
   "source": [
    "pip install \"gymnasium[classic_control]\"\n"
   ]
  },
  {
   "cell_type": "code",
   "execution_count": 35,
   "id": "15c13ed2",
   "metadata": {},
   "outputs": [],
   "source": [
    "import gymnasium as gym\n",
    "import time\n",
    "import numpy as np\n",
    "import statistics as stat"
   ]
  },
  {
   "cell_type": "code",
   "execution_count": 4,
   "id": "ee8f422e",
   "metadata": {},
   "outputs": [],
   "source": [
    "# loading the cartpole environment\n",
    "env = gym.make(\"CartPole-v1\",render_mode = \"human\")"
   ]
  },
  {
   "cell_type": "code",
   "execution_count": 5,
   "id": "63642c11",
   "metadata": {},
   "outputs": [
    {
     "data": {
      "text/plain": [
       "Box([-4.8000002e+00 -3.4028235e+38 -4.1887903e-01 -3.4028235e+38], [4.8000002e+00 3.4028235e+38 4.1887903e-01 3.4028235e+38], (4,), float32)"
      ]
     },
     "execution_count": 5,
     "metadata": {},
     "output_type": "execute_result"
    }
   ],
   "source": [
    "# observation space for cartpole environment\n",
    "env.observation_space"
   ]
  },
  {
   "cell_type": "code",
   "execution_count": 6,
   "id": "4c42c04d",
   "metadata": {},
   "outputs": [
    {
     "data": {
      "text/plain": [
       "Discrete(2)"
      ]
     },
     "execution_count": 6,
     "metadata": {},
     "output_type": "execute_result"
    }
   ],
   "source": [
    "# action space for cartpole environment\n",
    "env.action_space"
   ]
  },
  {
   "cell_type": "code",
   "execution_count": 8,
   "id": "708ac9dc",
   "metadata": {},
   "outputs": [],
   "source": [
    "random_sample = env.action_space.sample()"
   ]
  },
  {
   "cell_type": "code",
   "execution_count": 9,
   "id": "d5546bb0",
   "metadata": {},
   "outputs": [
    {
     "name": "stdout",
     "output_type": "stream",
     "text": [
      "0\n"
     ]
    }
   ],
   "source": [
    "print(random_sample)"
   ]
  },
  {
   "cell_type": "markdown",
   "id": "ae5dc7fc",
   "metadata": {},
   "source": [
    "# Implement the CartPole environment for a certain number of steps "
   ]
  },
  {
   "cell_type": "code",
   "execution_count": 10,
   "id": "dec08299",
   "metadata": {},
   "outputs": [
    {
     "name": "stdout",
     "output_type": "stream",
     "text": [
      "Episode : 1 Score: 100.0\n"
     ]
    }
   ],
   "source": [
    "observations = [] # list for storing observation space for each state\n",
    "step_episcores=[] # list for storing rewards for each space\n",
    "episodes = 1\n",
    "for i in range(100):\n",
    "    state = env.reset() # resets the environment to the intial state\n",
    "    step_score = 0      # variable to calculate total reward in one episode\n",
    " \n",
    "     \n",
    "    env.render()        # takes a screenshot of the state\n",
    "    action = env.action_space.sample() # performs an action - either pushing cart to the left or right\n",
    "    obs, reward, done, info , unknown = env.step(action)\n",
    "    observations.append(obs)\n",
    "    step_score += reward  # calculating total score for a particular episode\n",
    "    if done:\n",
    "        env.reset()\n",
    "    step_episcores.append(step_score) # appending total score into the list\n",
    "    \n",
    "totalscore_1=sum(step_episcores)\n",
    "print(\"Episode : 1 Score:\",totalscore_1 )\n",
    "\n",
    "env.close()       # closes the environment"
   ]
  },
  {
   "cell_type": "code",
   "execution_count": 11,
   "id": "4d63d1f7",
   "metadata": {},
   "outputs": [
    {
     "data": {
      "text/plain": [
       "[array([-0.00341889, -0.19237006,  0.04981994,  0.3219974 ], dtype=float32),\n",
       " array([ 0.01647152,  0.22004113, -0.02896802, -0.30109766], dtype=float32),\n",
       " array([ 0.04812967,  0.22345431, -0.00055212, -0.31865284], dtype=float32),\n",
       " array([ 0.01618307,  0.23539717,  0.00812775, -0.3058751 ], dtype=float32),\n",
       " array([ 0.01844613, -0.23750527,  0.04183247,  0.30717278], dtype=float32),\n",
       " array([ 4.6211086e-02,  2.0893340e-01,  1.4839933e-04, -2.7350318e-01],\n",
       "       dtype=float32),\n",
       " array([ 0.03238332,  0.1713079 ,  0.03579043, -0.294233  ], dtype=float32),\n",
       " array([-0.02430802,  0.22904538,  0.01304758, -0.3264553 ], dtype=float32),\n",
       " array([ 0.04804272, -0.22299466,  0.00314817,  0.2930405 ], dtype=float32),\n",
       " array([ 0.0449454 , -0.19298598,  0.00383556,  0.31015348], dtype=float32),\n",
       " array([-0.02201056, -0.23140846, -0.04441155,  0.31982902], dtype=float32),\n",
       " array([ 0.00281429,  0.22477245,  0.04983851, -0.24336775], dtype=float32),\n",
       " array([-0.0167018 ,  0.15492392,  0.04759759, -0.23746604], dtype=float32),\n",
       " array([ 0.04062027,  0.15079795, -0.02200341, -0.25146818], dtype=float32),\n",
       " array([ 0.03490887, -0.24087225, -0.03139165,  0.30895486], dtype=float32),\n",
       " array([ 0.0313952 ,  0.23175173, -0.00436827, -0.30517194], dtype=float32),\n",
       " array([-0.02360948, -0.17333904, -0.02187158,  0.28058395], dtype=float32),\n",
       " array([ 0.02753963, -0.1691064 ,  0.03278758,  0.3051126 ], dtype=float32),\n",
       " array([ 0.0169817 , -0.24452381,  0.04196424,  0.33055863], dtype=float32),\n",
       " array([ 0.02165956,  0.16026883,  0.04925286, -0.23886445], dtype=float32),\n",
       " array([-0.02382717,  0.20046778,  0.04908612, -0.31963956], dtype=float32),\n",
       " array([-0.04909039, -0.23317175, -0.02571171,  0.2580031 ], dtype=float32),\n",
       " array([-0.03325861, -0.22766115, -0.00178218,  0.28760514], dtype=float32),\n",
       " array([-0.00151271, -0.15282077,  0.04203159,  0.29728514], dtype=float32),\n",
       " array([ 0.00323642,  0.15719393, -0.00371294, -0.28771096], dtype=float32),\n",
       " array([-0.02786625, -0.19424732,  0.02410199,  0.27132213], dtype=float32),\n",
       " array([ 0.02372954,  0.22584175,  0.00436214, -0.258955  ], dtype=float32),\n",
       " array([ 0.02473531, -0.23852856, -0.02491026,  0.31071076], dtype=float32),\n",
       " array([ 0.04438337, -0.15956882,  0.04567654,  0.3326157 ], dtype=float32),\n",
       " array([ 0.04322833, -0.19504188,  0.04080515,  0.2911972 ], dtype=float32),\n",
       " array([-0.04169607,  0.16863748,  0.02829564, -0.31165954], dtype=float32),\n",
       " array([-0.04307116,  0.14707758, -0.00829832, -0.29520229], dtype=float32),\n",
       " array([-0.04690322, -0.15835014, -0.02776694,  0.2747551 ], dtype=float32),\n",
       " array([-0.0234913 ,  0.14677975,  0.02448628, -0.3249378 ], dtype=float32),\n",
       " array([ 0.0324718 ,  0.22134733,  0.02590385, -0.28923756], dtype=float32),\n",
       " array([ 0.00363929, -0.1574487 ,  0.03105368,  0.2845896 ], dtype=float32),\n",
       " array([-0.03695165,  0.17964585,  0.02575588, -0.26190296], dtype=float32),\n",
       " array([ 0.04376487,  0.21276617, -0.0337677 , -0.31622323], dtype=float32),\n",
       " array([ 0.02212901, -0.18304104,  0.03676591,  0.26953605], dtype=float32),\n",
       " array([ 0.03189493,  0.18535139, -0.01813229, -0.3413672 ], dtype=float32),\n",
       " array([ 0.04794326,  0.1971514 , -0.00611585, -0.33873802], dtype=float32),\n",
       " array([ 0.01568452,  0.15209581, -0.00996795, -0.3226825 ], dtype=float32),\n",
       " array([ 0.01943805, -0.23242988,  0.0291414 ,  0.2681249 ], dtype=float32),\n",
       " array([ 2.1275133e-04,  1.9501489e-01, -2.6872370e-03, -3.2225564e-01],\n",
       "       dtype=float32),\n",
       " array([ 0.0414584 , -0.22820464, -0.0382582 ,  0.24619487], dtype=float32),\n",
       " array([ 0.01333185, -0.21574293, -0.04255788,  0.23241849], dtype=float32),\n",
       " array([ 0.04729065,  0.14729458, -0.04793673, -0.32011235], dtype=float32),\n",
       " array([ 0.04285607,  0.2246877 ,  0.00102032, -0.27116647], dtype=float32),\n",
       " array([-0.03990034, -0.15617473, -0.00036225,  0.27352336], dtype=float32),\n",
       " array([ 0.00791813,  0.19254746, -0.02116372, -0.3278413 ], dtype=float32),\n",
       " array([-0.01407851, -0.1508071 , -0.04424696,  0.31791165], dtype=float32),\n",
       " array([ 0.03661779,  0.18385571,  0.02082669, -0.28637385], dtype=float32),\n",
       " array([-0.00146545, -0.20997845, -0.00095144,  0.31365597], dtype=float32),\n",
       " array([ 0.02625934, -0.18785648,  0.04191047,  0.3140519 ], dtype=float32),\n",
       " array([-0.04071683,  0.19997339, -0.02424492, -0.313687  ], dtype=float32),\n",
       " array([-0.0229932 , -0.1996683 , -0.01956423,  0.2736394 ], dtype=float32),\n",
       " array([ 0.02704063, -0.23413114,  0.01433764,  0.25308183], dtype=float32),\n",
       " array([ 0.0219277 , -0.17147647,  0.00291089,  0.2744935 ], dtype=float32),\n",
       " array([ 0.04663588, -0.20128529,  0.0378789 ,  0.31821203], dtype=float32),\n",
       " array([ 0.04108327,  0.2407503 , -0.03057279, -0.26566443], dtype=float32),\n",
       " array([-0.00309121,  0.17917438, -0.01970103, -0.30917305], dtype=float32),\n",
       " array([ 0.03294547, -0.15524668,  0.01593448,  0.32194528], dtype=float32),\n",
       " array([-0.04536756,  0.15938357,  0.01673264, -0.25279063], dtype=float32),\n",
       " array([-0.01577152,  0.2265745 ,  0.03782858, -0.24391994], dtype=float32),\n",
       " array([ 0.00675407, -0.15002921, -0.03972109,  0.25595245], dtype=float32),\n",
       " array([ 0.02627442,  0.24192818, -0.03532819, -0.32426402], dtype=float32),\n",
       " array([ 0.00164987, -0.21285713, -0.01364775,  0.27126005], dtype=float32),\n",
       " array([ 0.01951821, -0.19890068, -0.00783305,  0.27003142], dtype=float32),\n",
       " array([-0.0438703 ,  0.18192153, -0.04022696, -0.3152232 ], dtype=float32),\n",
       " array([ 0.015227  ,  0.2243708 , -0.01115263, -0.26667207], dtype=float32),\n",
       " array([-1.6361041e-04,  1.6618086e-01, -4.6137407e-02, -2.8641751e-01],\n",
       "       dtype=float32),\n",
       " array([-0.0360978 , -0.20927304,  0.04948778,  0.35334566], dtype=float32),\n",
       " array([-0.0008374 , -0.17268975, -0.03603747,  0.31987384], dtype=float32),\n",
       " array([ 0.01720555, -0.21251109,  0.02261593,  0.33155274], dtype=float32),\n",
       " array([-0.01666686,  0.16273975, -0.04459336, -0.31187296], dtype=float32),\n",
       " array([ 0.0134155 ,  0.16630042,  0.01870525, -0.23705547], dtype=float32),\n",
       " array([ 0.00897995,  0.20192617, -0.04130048, -0.2633597 ], dtype=float32),\n",
       " array([ 0.02810821, -0.21042877, -0.04104169,  0.28437918], dtype=float32),\n",
       " array([ 0.01766876,  0.23636208,  0.02449728, -0.24794814], dtype=float32),\n",
       " array([-0.02558825, -0.23600508, -0.02445763,  0.2467629 ], dtype=float32),\n",
       " array([-0.00059684,  0.19078736, -0.02821245, -0.26480865], dtype=float32),\n",
       " array([ 0.01880087, -0.21842992, -0.03480828,  0.30531368], dtype=float32),\n",
       " array([-0.04577134,  0.17186859, -0.03177941, -0.2556784 ], dtype=float32),\n",
       " array([-0.02630382, -0.23176594,  0.02065296,  0.31832492], dtype=float32),\n",
       " array([ 0.02240496,  0.15374029, -0.01735691, -0.3337148 ], dtype=float32),\n",
       " array([ 0.02624598, -0.24246205, -0.01072565,  0.25760904], dtype=float32),\n",
       " array([-0.02583356,  0.16773698, -0.04529505, -0.32094216], dtype=float32),\n",
       " array([ 0.01224372,  0.1454136 , -0.00706983, -0.25821376], dtype=float32),\n",
       " array([ 0.00265888, -0.15950295, -0.05044491,  0.23694374], dtype=float32),\n",
       " array([-0.00953285, -0.18343608,  0.02510125,  0.2700669 ], dtype=float32),\n",
       " array([ 0.03870682,  0.18862961, -0.00932238, -0.33626533], dtype=float32),\n",
       " array([ 0.01644536,  0.1604924 ,  0.02311708, -0.27614325], dtype=float32),\n",
       " array([-0.03705028, -0.16591161,  0.01626601,  0.30076912], dtype=float32),\n",
       " array([-0.00589121, -0.23108745,  0.04711778,  0.26135534], dtype=float32),\n",
       " array([-0.04080861, -0.17246684, -0.04518644,  0.27336797], dtype=float32),\n",
       " array([-0.04387181, -0.15208498,  0.04952977,  0.3190591 ], dtype=float32),\n",
       " array([ 0.01563099,  0.15465881, -0.0236393 , -0.32856604], dtype=float32),\n",
       " array([ 0.02594259, -0.2078832 , -0.02144364,  0.29583728], dtype=float32),\n",
       " array([ 0.00578383, -0.19823289, -0.0136632 ,  0.27329513], dtype=float32),\n",
       " array([ 0.01145361, -0.2134247 ,  0.02528034,  0.30379456], dtype=float32)]"
      ]
     },
     "execution_count": 11,
     "metadata": {},
     "output_type": "execute_result"
    }
   ],
   "source": [
    "# observation space for 100 steps\n",
    "observations"
   ]
  },
  {
   "cell_type": "code",
   "execution_count": 12,
   "id": "c04ff85c",
   "metadata": {},
   "outputs": [
    {
     "data": {
      "text/plain": [
       "[1.0,\n",
       " 1.0,\n",
       " 1.0,\n",
       " 1.0,\n",
       " 1.0,\n",
       " 1.0,\n",
       " 1.0,\n",
       " 1.0,\n",
       " 1.0,\n",
       " 1.0,\n",
       " 1.0,\n",
       " 1.0,\n",
       " 1.0,\n",
       " 1.0,\n",
       " 1.0,\n",
       " 1.0,\n",
       " 1.0,\n",
       " 1.0,\n",
       " 1.0,\n",
       " 1.0,\n",
       " 1.0,\n",
       " 1.0,\n",
       " 1.0,\n",
       " 1.0,\n",
       " 1.0,\n",
       " 1.0,\n",
       " 1.0,\n",
       " 1.0,\n",
       " 1.0,\n",
       " 1.0,\n",
       " 1.0,\n",
       " 1.0,\n",
       " 1.0,\n",
       " 1.0,\n",
       " 1.0,\n",
       " 1.0,\n",
       " 1.0,\n",
       " 1.0,\n",
       " 1.0,\n",
       " 1.0,\n",
       " 1.0,\n",
       " 1.0,\n",
       " 1.0,\n",
       " 1.0,\n",
       " 1.0,\n",
       " 1.0,\n",
       " 1.0,\n",
       " 1.0,\n",
       " 1.0,\n",
       " 1.0,\n",
       " 1.0,\n",
       " 1.0,\n",
       " 1.0,\n",
       " 1.0,\n",
       " 1.0,\n",
       " 1.0,\n",
       " 1.0,\n",
       " 1.0,\n",
       " 1.0,\n",
       " 1.0,\n",
       " 1.0,\n",
       " 1.0,\n",
       " 1.0,\n",
       " 1.0,\n",
       " 1.0,\n",
       " 1.0,\n",
       " 1.0,\n",
       " 1.0,\n",
       " 1.0,\n",
       " 1.0,\n",
       " 1.0,\n",
       " 1.0,\n",
       " 1.0,\n",
       " 1.0,\n",
       " 1.0,\n",
       " 1.0,\n",
       " 1.0,\n",
       " 1.0,\n",
       " 1.0,\n",
       " 1.0,\n",
       " 1.0,\n",
       " 1.0,\n",
       " 1.0,\n",
       " 1.0,\n",
       " 1.0,\n",
       " 1.0,\n",
       " 1.0,\n",
       " 1.0,\n",
       " 1.0,\n",
       " 1.0,\n",
       " 1.0,\n",
       " 1.0,\n",
       " 1.0,\n",
       " 1.0,\n",
       " 1.0,\n",
       " 1.0,\n",
       " 1.0,\n",
       " 1.0,\n",
       " 1.0,\n",
       " 1.0]"
      ]
     },
     "execution_count": 12,
     "metadata": {},
     "output_type": "execute_result"
    }
   ],
   "source": [
    "# list of rewards \n",
    "step_episcores \n"
   ]
  },
  {
   "cell_type": "markdown",
   "id": "b7fdf669",
   "metadata": {},
   "source": [
    "# Implement the CartPole environment for a certain number of episodes "
   ]
  },
  {
   "cell_type": "code",
   "execution_count": 13,
   "id": "4b917b32",
   "metadata": {},
   "outputs": [],
   "source": [
    "# loading the cartpole environment\n",
    "env1 = gym.make(\"CartPole-v1\",render_mode = \"human\")"
   ]
  },
  {
   "cell_type": "code",
   "execution_count": 14,
   "id": "ab3c186d",
   "metadata": {},
   "outputs": [
    {
     "name": "stdout",
     "output_type": "stream",
     "text": [
      "Episode :1 Score:34.0\n",
      "Episode :2 Score:11.0\n",
      "Episode :3 Score:11.0\n",
      "Episode :4 Score:20.0\n",
      "Episode :5 Score:47.0\n",
      "Episode :6 Score:30.0\n",
      "Episode :7 Score:13.0\n",
      "Episode :8 Score:12.0\n",
      "Episode :9 Score:52.0\n",
      "Episode :10 Score:52.0\n",
      "Episode :11 Score:13.0\n",
      "Episode :12 Score:12.0\n",
      "Episode :13 Score:56.0\n",
      "Episode :14 Score:31.0\n",
      "Episode :15 Score:11.0\n",
      "Episode :16 Score:10.0\n",
      "Episode :17 Score:21.0\n",
      "Episode :18 Score:17.0\n",
      "Episode :19 Score:26.0\n",
      "Episode :20 Score:22.0\n",
      "Episode :21 Score:28.0\n",
      "Episode :22 Score:11.0\n",
      "Episode :23 Score:13.0\n",
      "Episode :24 Score:13.0\n",
      "Episode :25 Score:20.0\n",
      "Episode :26 Score:17.0\n",
      "Episode :27 Score:39.0\n",
      "Episode :28 Score:10.0\n",
      "Episode :29 Score:15.0\n",
      "Episode :30 Score:28.0\n",
      "Episode :31 Score:28.0\n",
      "Episode :32 Score:24.0\n",
      "Episode :33 Score:12.0\n",
      "Episode :34 Score:16.0\n",
      "Episode :35 Score:34.0\n",
      "Episode :36 Score:18.0\n",
      "Episode :37 Score:34.0\n",
      "Episode :38 Score:17.0\n",
      "Episode :39 Score:12.0\n",
      "Episode :40 Score:11.0\n",
      "Episode :41 Score:21.0\n",
      "Episode :42 Score:14.0\n",
      "Episode :43 Score:43.0\n",
      "Episode :44 Score:12.0\n",
      "Episode :45 Score:43.0\n",
      "Episode :46 Score:17.0\n",
      "Episode :47 Score:20.0\n",
      "Episode :48 Score:17.0\n",
      "Episode :49 Score:15.0\n",
      "Episode :50 Score:24.0\n"
     ]
    }
   ],
   "source": [
    "ep_episcores=[] # list for storing rewards for each state\n",
    "episodes = 50\n",
    "for episode in range(1,episodes+1):\n",
    "    state = env1.reset()  # resets the environment to the original state\n",
    "    done = False\n",
    "    ep_score = 0          # variable to keep total score for each episode\n",
    " \n",
    "    while done == False:  # code will run until pole falls down\n",
    "        env1.render()     # takes a screenshot of the state \n",
    "        action = env1.action_space.sample()  # performs an action - either pushing cart to the left or right\n",
    "        n_state, reward, done, info , unknown = env1.step(action)\n",
    "        ep_score += reward                   # calculating total score for a particular episode\n",
    "    ep_episcores.append(ep_score)            # appending score of each episode into the list\n",
    "    print(\"Episode :{} Score:{}\".format(episode,ep_score))\n",
    "env1.close()"
   ]
  },
  {
   "cell_type": "markdown",
   "id": "80c311c1",
   "metadata": {},
   "source": [
    "# Compare and comment on the rewards earned for both approaches. "
   ]
  },
  {
   "cell_type": "code",
   "execution_count": 36,
   "id": "1f80a365",
   "metadata": {},
   "outputs": [
    {
     "name": "stdout",
     "output_type": "stream",
     "text": [
      "List of rewards in approach 1:\n",
      " \n",
      "[1.0, 1.0, 1.0, 1.0, 1.0, 1.0, 1.0, 1.0, 1.0, 1.0, 1.0, 1.0, 1.0, 1.0, 1.0, 1.0, 1.0, 1.0, 1.0, 1.0, 1.0, 1.0, 1.0, 1.0, 1.0, 1.0, 1.0, 1.0, 1.0, 1.0, 1.0, 1.0, 1.0, 1.0, 1.0, 1.0, 1.0, 1.0, 1.0, 1.0, 1.0, 1.0, 1.0, 1.0, 1.0, 1.0, 1.0, 1.0, 1.0, 1.0, 1.0, 1.0, 1.0, 1.0, 1.0, 1.0, 1.0, 1.0, 1.0, 1.0, 1.0, 1.0, 1.0, 1.0, 1.0, 1.0, 1.0, 1.0, 1.0, 1.0, 1.0, 1.0, 1.0, 1.0, 1.0, 1.0, 1.0, 1.0, 1.0, 1.0, 1.0, 1.0, 1.0, 1.0, 1.0, 1.0, 1.0, 1.0, 1.0, 1.0, 1.0, 1.0, 1.0, 1.0, 1.0, 1.0, 1.0, 1.0, 1.0, 1.0]\n",
      "\n",
      "total score:  100.0\n",
      "\n",
      "\n",
      "\n",
      "List of Sum of rewards (score) in each episode in approach 2:\n",
      " \n",
      "[34.0, 11.0, 11.0, 20.0, 47.0, 30.0, 13.0, 12.0, 52.0, 52.0, 13.0, 12.0, 56.0, 31.0, 11.0, 10.0, 21.0, 17.0, 26.0, 22.0, 28.0, 11.0, 13.0, 13.0, 20.0, 17.0, 39.0, 10.0, 15.0, 28.0, 28.0, 24.0, 12.0, 16.0, 34.0, 18.0, 34.0, 17.0, 12.0, 11.0, 21.0, 14.0, 43.0, 12.0, 43.0, 17.0, 20.0, 17.0, 15.0, 24.0]\n",
      "\n",
      "Max value of score:  56.0\n",
      "Min value of score:  10.0\n",
      "Avg score:  22.54\n",
      "Most frequent score :  11.0\n"
     ]
    }
   ],
   "source": [
    "print(\"List of rewards in approach 1:\\n \")\n",
    "print(step_episcores)\n",
    "print(\"\\ntotal score: \", totalscore_1)\n",
    "print(\"\\n\\n\")\n",
    "\n",
    "print(\"List of Sum of rewards (score) in each episode in approach 2:\\n \")\n",
    "print(ep_episcores)\n",
    "print(\"\\nMax value of score: \", max(ep_episcores))\n",
    "print(\"Min value of score: \", min(ep_episcores))\n",
    "print(\"Avg score: \", np.mean(ep_episcores))\n",
    "print(\"Most frequent score : \", stat.mode(ep_episcores))\n"
   ]
  },
  {
   "cell_type": "code",
   "execution_count": null,
   "id": "62a9d4ab",
   "metadata": {},
   "outputs": [],
   "source": [
    "# In approach one the ploe on the cart was balanced for all 100 steps. Hence, giving us the total score of 100.\n",
    "\n",
    "# In approach two the score ranged from a maximum of 56 to a minimum of 10 with an average score of ~22. The most\n",
    "# frequent score was 11. "
   ]
  },
  {
   "cell_type": "markdown",
   "id": "487eb21c",
   "metadata": {},
   "source": [
    "# Plot the cumulative reward of the games and note down the results. "
   ]
  },
  {
   "cell_type": "code",
   "execution_count": 17,
   "id": "8a470f29",
   "metadata": {},
   "outputs": [],
   "source": [
    "import matplotlib.pyplot as plt"
   ]
  },
  {
   "cell_type": "code",
   "execution_count": 25,
   "id": "e221b682",
   "metadata": {},
   "outputs": [
    {
     "data": {
      "image/png": "[encoded data removed]",
      "text/plain": [
       "<Figure size 432x288 with 1 Axes>"
      ]
     },
     "metadata": {
      "needs_background": "light"
     },
     "output_type": "display_data"
    }
   ],
   "source": [
    "plt.plot(range(len(step_episcores)), step_episcores)\n",
    "plt.grid()\n",
    "plt.title(\"Approach-1\")\n",
    "plt.ylabel('Reward')\n",
    "plt.xlabel('Iteration (steps in 1 episode)')\n",
    "plt.ylim(0, max(step_episcores)*1.1)\n",
    "plt.show()"
   ]
  },
  {
   "cell_type": "code",
   "execution_count": 26,
   "id": "a703b746",
   "metadata": {},
   "outputs": [
    {
     "data": {
      "image/png": "[encoded data removed]",
      "text/plain": [
       "<Figure size 432x288 with 1 Axes>"
      ]
     },
     "metadata": {
      "needs_background": "light"
     },
     "output_type": "display_data"
    }
   ],
   "source": [
    "plt.plot(range(len(ep_episcores)), ep_episcores)\n",
    "plt.grid()\n",
    "plt.title(\"Approach-2\")\n",
    "plt.ylabel('Cum Reward')\n",
    "plt.xlabel('Iteration (episodes)')\n",
    "plt.ylim(0, max(ep_episcores)*1.1)\n",
    "plt.show()"
   ]
  },
  {
   "cell_type": "code",
   "execution_count": null,
   "id": "0cb242d4",
   "metadata": {},
   "outputs": [],
   "source": []
  }
 ],
 "metadata": {
  "kernelspec": {
   "display_name": "Python 3 (ipykernel)",
   "language": "python",
   "name": "python3"
  },
  "language_info": {
   "codemirror_mode": {
    "name": "ipython",
    "version": 3
   },
   "file_extension": ".py",
   "mimetype": "text/x-python",
   "name": "python",
   "nbconvert_exporter": "python",
   "pygments_lexer": "ipython3",
   "version": "3.9.12"
  }
 },
 "nbformat": 4,
 "nbformat_minor": 5
}
