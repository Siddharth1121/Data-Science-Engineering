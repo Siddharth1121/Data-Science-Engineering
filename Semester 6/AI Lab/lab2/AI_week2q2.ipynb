{
 "cells": [
  {
   "cell_type": "code",
   "execution_count": null,
   "id": "68447ce0",
   "metadata": {},
   "outputs": [],
   "source": [
    "# Siddharth Nagepalli - 210968074\n",
    "# AI Lab 2 - Ques 2"
   ]
  },
  {
   "cell_type": "code",
   "execution_count": 2,
   "id": "e884b9b2",
   "metadata": {},
   "outputs": [
    {
     "name": "stdout",
     "output_type": "stream",
     "text": [
      "Requirement already satisfied: gym in /Users/siddharth/opt/anaconda3/lib/python3.9/site-packages (0.26.2)\n",
      "Requirement already satisfied: gym-notices>=0.0.4 in /Users/siddharth/opt/anaconda3/lib/python3.9/site-packages (from gym) (0.0.8)\n",
      "Requirement already satisfied: cloudpickle>=1.2.0 in /Users/siddharth/opt/anaconda3/lib/python3.9/site-packages (from gym) (2.0.0)\n",
      "Requirement already satisfied: numpy>=1.18.0 in /Users/siddharth/opt/anaconda3/lib/python3.9/site-packages (from gym) (1.22.4)\n",
      "Requirement already satisfied: importlib-metadata>=4.8.0 in /Users/siddharth/opt/anaconda3/lib/python3.9/site-packages (from gym) (4.11.3)\n",
      "Requirement already satisfied: zipp>=0.5 in /Users/siddharth/opt/anaconda3/lib/python3.9/site-packages (from importlib-metadata>=4.8.0->gym) (3.7.0)\n",
      "Note: you may need to restart the kernel to use updated packages.\n"
     ]
    }
   ],
   "source": [
    "pip install -U gym"
   ]
  },
  {
   "cell_type": "code",
   "execution_count": 3,
   "id": "9c9ce75e",
   "metadata": {},
   "outputs": [
    {
     "name": "stdout",
     "output_type": "stream",
     "text": [
      "Requirement already satisfied: gym[classic_control] in /Users/siddharth/opt/anaconda3/lib/python3.9/site-packages (0.26.2)\n",
      "Requirement already satisfied: gym-notices>=0.0.4 in /Users/siddharth/opt/anaconda3/lib/python3.9/site-packages (from gym[classic_control]) (0.0.8)\n",
      "Requirement already satisfied: numpy>=1.18.0 in /Users/siddharth/opt/anaconda3/lib/python3.9/site-packages (from gym[classic_control]) (1.22.4)\n",
      "Requirement already satisfied: importlib-metadata>=4.8.0 in /Users/siddharth/opt/anaconda3/lib/python3.9/site-packages (from gym[classic_control]) (4.11.3)\n",
      "Requirement already satisfied: cloudpickle>=1.2.0 in /Users/siddharth/opt/anaconda3/lib/python3.9/site-packages (from gym[classic_control]) (2.0.0)\n",
      "Collecting pygame==2.1.0\n",
      "  Using cached pygame-2.1.0-cp39-cp39-macosx_10_9_x86_64.whl (5.2 MB)\n",
      "Requirement already satisfied: zipp>=0.5 in /Users/siddharth/opt/anaconda3/lib/python3.9/site-packages (from importlib-metadata>=4.8.0->gym[classic_control]) (3.7.0)\n",
      "Installing collected packages: pygame\n",
      "  Attempting uninstall: pygame\n",
      "    Found existing installation: pygame 2.5.2\n",
      "    Uninstalling pygame-2.5.2:\n",
      "      Successfully uninstalled pygame-2.5.2\n",
      "Successfully installed pygame-2.1.0\n",
      "Note: you may need to restart the kernel to use updated packages.\n"
     ]
    }
   ],
   "source": [
    "pip install \"gym[classic_control]\""
   ]
  },
  {
   "cell_type": "code",
   "execution_count": 4,
   "id": "7fee87dc",
   "metadata": {},
   "outputs": [
    {
     "name": "stdout",
     "output_type": "stream",
     "text": [
      "Requirement already satisfied: gymnasium[classic_control] in /Users/siddharth/opt/anaconda3/lib/python3.9/site-packages (0.29.1)\n",
      "Requirement already satisfied: cloudpickle>=1.2.0 in /Users/siddharth/opt/anaconda3/lib/python3.9/site-packages (from gymnasium[classic_control]) (2.0.0)\n",
      "Requirement already satisfied: importlib-metadata>=4.8.0 in /Users/siddharth/opt/anaconda3/lib/python3.9/site-packages (from gymnasium[classic_control]) (4.11.3)\n",
      "Requirement already satisfied: typing-extensions>=4.3.0 in /Users/siddharth/opt/anaconda3/lib/python3.9/site-packages (from gymnasium[classic_control]) (4.9.0)\n",
      "Requirement already satisfied: farama-notifications>=0.0.1 in /Users/siddharth/opt/anaconda3/lib/python3.9/site-packages (from gymnasium[classic_control]) (0.0.4)\n",
      "Requirement already satisfied: numpy>=1.21.0 in /Users/siddharth/opt/anaconda3/lib/python3.9/site-packages (from gymnasium[classic_control]) (1.22.4)\n",
      "Collecting pygame>=2.1.3\n",
      "  Using cached pygame-2.5.2-cp39-cp39-macosx_10_9_x86_64.whl (12.8 MB)\n",
      "Requirement already satisfied: zipp>=0.5 in /Users/siddharth/opt/anaconda3/lib/python3.9/site-packages (from importlib-metadata>=4.8.0->gymnasium[classic_control]) (3.7.0)\n",
      "Installing collected packages: pygame\n",
      "  Attempting uninstall: pygame\n",
      "    Found existing installation: pygame 2.1.0\n",
      "    Uninstalling pygame-2.1.0:\n",
      "      Successfully uninstalled pygame-2.1.0\n",
      "Successfully installed pygame-2.5.2\n",
      "Note: you may need to restart the kernel to use updated packages.\n"
     ]
    }
   ],
   "source": [
    "pip install \"gymnasium[classic_control]\""
   ]
  },
  {
   "cell_type": "code",
   "execution_count": 5,
   "id": "6a6fdd29",
   "metadata": {},
   "outputs": [],
   "source": [
    "import gymnasium as gym\n",
    "import time\n",
    "import matplotlib.pyplot as plt\n",
    "import numpy as np\n",
    "import pandas as pd\n",
    "import statistics as stat"
   ]
  },
  {
   "cell_type": "code",
   "execution_count": 6,
   "id": "cfe30ec5",
   "metadata": {},
   "outputs": [],
   "source": [
    "# loading the cartpole environment\n",
    "env = gym.make(\"CartPole-v1\",render_mode = \"human\")\n"
   ]
  },
  {
   "cell_type": "code",
   "execution_count": 7,
   "id": "34551d4e",
   "metadata": {},
   "outputs": [
    {
     "data": {
      "text/plain": [
       "Box([-4.8000002e+00 -3.4028235e+38 -4.1887903e-01 -3.4028235e+38], [4.8000002e+00 3.4028235e+38 4.1887903e-01 3.4028235e+38], (4,), float32)"
      ]
     },
     "execution_count": 7,
     "metadata": {},
     "output_type": "execute_result"
    }
   ],
   "source": [
    "# observation space for cartpole environment\n",
    "env.observation_space"
   ]
  },
  {
   "cell_type": "code",
   "execution_count": 8,
   "id": "0811a84b",
   "metadata": {},
   "outputs": [
    {
     "data": {
      "text/plain": [
       "Discrete(2)"
      ]
     },
     "execution_count": 8,
     "metadata": {},
     "output_type": "execute_result"
    }
   ],
   "source": [
    "# action space for cartpole environment\n",
    "env.action_space"
   ]
  },
  {
   "cell_type": "code",
   "execution_count": 9,
   "id": "b8a4b3ea",
   "metadata": {},
   "outputs": [],
   "source": [
    "random_sample = env.action_space.sample()"
   ]
  },
  {
   "cell_type": "code",
   "execution_count": 10,
   "id": "f844c8f5",
   "metadata": {},
   "outputs": [
    {
     "name": "stdout",
     "output_type": "stream",
     "text": [
      "0\n"
     ]
    }
   ],
   "source": [
    "print(random_sample)"
   ]
  },
  {
   "cell_type": "code",
   "execution_count": 11,
   "id": "11a3af49",
   "metadata": {},
   "outputs": [],
   "source": [
    "# function to plot the cummalative reward vs no of iteration(episodes)\n",
    "\n",
    "def plot_policy(final_rewards, policy_name:str=''):\n",
    "    fig = plt.plot(range(len(final_rewards)), final_rewards)\n",
    "    plt.grid()\n",
    "    plt.title(policy_name + \" Mean Reward {:.2f}, Std Reward {:.2f}\".format(np.mean(final_rewards), np.min(final_rewards)))\n",
    "    plt.ylabel('Cum Reward')\n",
    "    plt.xlabel('Iteration')\n",
    "    plt.ylim(0, max(final_rewards)*1.1)\n",
    "    return fig"
   ]
  },
  {
   "cell_type": "markdown",
   "id": "ef4cd0d8",
   "metadata": {},
   "source": [
    "# Theta policy\n"
   ]
  },
  {
   "cell_type": "code",
   "execution_count": 12,
   "id": "5a594c89",
   "metadata": {},
   "outputs": [],
   "source": [
    "# function to implement theta policy\n",
    "\n",
    "def test_policy(policy_func): \n",
    "    final_rewards = [] # list to store total rewards for each episode\n",
    "    episodes = 100     # no of episodes\n",
    "    for episode in range(1,episodes+1):\n",
    "        \n",
    "        obs = env.reset()  # reset to a random position\n",
    "        done = False\n",
    "        episode_rewards = 0\n",
    "        angle=obs[0][2]    # takes the third value (value of theta) from the observation space\n",
    "        \n",
    "        while done == False:\n",
    "            env.render()\n",
    "            action = policy_func(angle)\n",
    "            obs, reward, done, info,unknown = env.step(action)\n",
    "            episode_rewards += reward\n",
    "          \n",
    "        final_rewards.append(episode_rewards)\n",
    "        print(\"Episode :{} Score:{}\".format(episode,episode_rewards))\n",
    "    env.close()\n",
    "    return final_rewards"
   ]
  },
  {
   "cell_type": "code",
   "execution_count": 13,
   "id": "47b77af8",
   "metadata": {},
   "outputs": [],
   "source": [
    "# Theta policy: if the pole is tilted to the left (θ<0), then push the cart to the left, and vice versa.\n",
    "\n",
    "def theta_policy(angle):\n",
    "    return 0 if angle < 0 else 1"
   ]
  },
  {
   "cell_type": "code",
   "execution_count": 14,
   "id": "e52feacb",
   "metadata": {},
   "outputs": [
    {
     "name": "stdout",
     "output_type": "stream",
     "text": [
      "Episode :1 Score:11.0\n",
      "Episode :2 Score:10.0\n",
      "Episode :3 Score:10.0\n",
      "Episode :4 Score:10.0\n",
      "Episode :5 Score:10.0\n",
      "Episode :6 Score:10.0\n",
      "Episode :7 Score:9.0\n",
      "Episode :8 Score:10.0\n",
      "Episode :9 Score:10.0\n",
      "Episode :10 Score:10.0\n",
      "Episode :11 Score:10.0\n",
      "Episode :12 Score:10.0\n",
      "Episode :13 Score:11.0\n",
      "Episode :14 Score:10.0\n",
      "Episode :15 Score:10.0\n",
      "Episode :16 Score:11.0\n",
      "Episode :17 Score:10.0\n",
      "Episode :18 Score:9.0\n",
      "Episode :19 Score:10.0\n",
      "Episode :20 Score:10.0\n",
      "Episode :21 Score:9.0\n",
      "Episode :22 Score:10.0\n",
      "Episode :23 Score:10.0\n",
      "Episode :24 Score:9.0\n",
      "Episode :25 Score:10.0\n",
      "Episode :26 Score:10.0\n",
      "Episode :27 Score:10.0\n",
      "Episode :28 Score:10.0\n",
      "Episode :29 Score:10.0\n",
      "Episode :30 Score:10.0\n",
      "Episode :31 Score:10.0\n",
      "Episode :32 Score:11.0\n",
      "Episode :33 Score:10.0\n",
      "Episode :34 Score:10.0\n",
      "Episode :35 Score:10.0\n",
      "Episode :36 Score:10.0\n",
      "Episode :37 Score:10.0\n",
      "Episode :38 Score:10.0\n",
      "Episode :39 Score:10.0\n",
      "Episode :40 Score:9.0\n",
      "Episode :41 Score:9.0\n",
      "Episode :42 Score:10.0\n",
      "Episode :43 Score:10.0\n",
      "Episode :44 Score:10.0\n",
      "Episode :45 Score:10.0\n",
      "Episode :46 Score:10.0\n",
      "Episode :47 Score:10.0\n",
      "Episode :48 Score:10.0\n",
      "Episode :49 Score:11.0\n",
      "Episode :50 Score:11.0\n",
      "Episode :51 Score:10.0\n",
      "Episode :52 Score:10.0\n",
      "Episode :53 Score:10.0\n",
      "Episode :54 Score:10.0\n",
      "Episode :55 Score:9.0\n",
      "Episode :56 Score:10.0\n",
      "Episode :57 Score:9.0\n",
      "Episode :58 Score:10.0\n",
      "Episode :59 Score:10.0\n",
      "Episode :60 Score:10.0\n",
      "Episode :61 Score:10.0\n",
      "Episode :62 Score:10.0\n",
      "Episode :63 Score:10.0\n",
      "Episode :64 Score:10.0\n",
      "Episode :65 Score:10.0\n",
      "Episode :66 Score:10.0\n",
      "Episode :67 Score:10.0\n",
      "Episode :68 Score:10.0\n",
      "Episode :69 Score:10.0\n",
      "Episode :70 Score:10.0\n",
      "Episode :71 Score:10.0\n",
      "Episode :72 Score:10.0\n",
      "Episode :73 Score:10.0\n",
      "Episode :74 Score:10.0\n",
      "Episode :75 Score:10.0\n",
      "Episode :76 Score:10.0\n",
      "Episode :77 Score:10.0\n",
      "Episode :78 Score:10.0\n",
      "Episode :79 Score:10.0\n",
      "Episode :80 Score:11.0\n",
      "Episode :81 Score:10.0\n",
      "Episode :82 Score:10.0\n",
      "Episode :83 Score:10.0\n",
      "Episode :84 Score:10.0\n",
      "Episode :85 Score:10.0\n",
      "Episode :86 Score:10.0\n",
      "Episode :87 Score:10.0\n",
      "Episode :88 Score:10.0\n",
      "Episode :89 Score:9.0\n",
      "Episode :90 Score:10.0\n",
      "Episode :91 Score:9.0\n",
      "Episode :92 Score:10.0\n",
      "Episode :93 Score:10.0\n",
      "Episode :94 Score:10.0\n",
      "Episode :95 Score:10.0\n",
      "Episode :96 Score:10.0\n",
      "Episode :97 Score:10.0\n",
      "Episode :98 Score:10.0\n",
      "Episode :99 Score:10.0\n",
      "Episode :100 Score:10.0\n"
     ]
    }
   ],
   "source": [
    "# total rewards for each episode\n",
    "\n",
    "theta_rewards = test_policy(theta_policy)"
   ]
  },
  {
   "cell_type": "markdown",
   "id": "fb19bba6",
   "metadata": {},
   "source": [
    "# Omega policy"
   ]
  },
  {
   "cell_type": "code",
   "execution_count": 15,
   "id": "9a3f20ae",
   "metadata": {},
   "outputs": [],
   "source": [
    "env = gym.make(\"CartPole-v1\",render_mode = \"human\")"
   ]
  },
  {
   "cell_type": "code",
   "execution_count": 16,
   "id": "e4df3220",
   "metadata": {},
   "outputs": [],
   "source": [
    "# function to implement omega policy\n",
    "\n",
    "def test_policy(policy_func): \n",
    "    final_rewards = []  # list to store total rewards at each episode\n",
    "    episodes = 100      # no of episodes\n",
    "    for episode in range(1,episodes+1):\n",
    "        \n",
    "        obs = env.reset()  # reset to a random position\n",
    "        done = False\n",
    "        episode_rewards = 0\n",
    "        omega=obs[0][3]    # takes the fourth value (value of omega) from the observation space\n",
    "        \n",
    "        while done == False:\n",
    "            env.render()\n",
    "            action = policy_func(omega)\n",
    "            obs, reward, done, info,unknown = env.step(action)\n",
    "            episode_rewards += reward\n",
    "          \n",
    "        final_rewards.append(episode_rewards)\n",
    "        print(\"Episode :{} Score:{}\".format(episode,episode_rewards))\n",
    "    env.close()\n",
    "    return final_rewards"
   ]
  },
  {
   "cell_type": "code",
   "execution_count": 17,
   "id": "7012405e",
   "metadata": {},
   "outputs": [],
   "source": [
    "# Omega policy : when the pole is moving away from the vertical position (ω<0), push the cart to the left (action = 0). And vice versa\n",
    "\n",
    "def omega_policy(omega):\n",
    "    return 1 if omega > 0 else 0"
   ]
  },
  {
   "cell_type": "code",
   "execution_count": 18,
   "id": "0ec1ec0f",
   "metadata": {},
   "outputs": [
    {
     "name": "stdout",
     "output_type": "stream",
     "text": [
      "Episode :1 Score:10.0\n",
      "Episode :2 Score:8.0\n",
      "Episode :3 Score:9.0\n",
      "Episode :4 Score:10.0\n",
      "Episode :5 Score:10.0\n",
      "Episode :6 Score:10.0\n",
      "Episode :7 Score:9.0\n",
      "Episode :8 Score:9.0\n",
      "Episode :9 Score:10.0\n",
      "Episode :10 Score:10.0\n",
      "Episode :11 Score:9.0\n",
      "Episode :12 Score:9.0\n",
      "Episode :13 Score:9.0\n",
      "Episode :14 Score:8.0\n",
      "Episode :15 Score:10.0\n",
      "Episode :16 Score:10.0\n",
      "Episode :17 Score:9.0\n",
      "Episode :18 Score:9.0\n",
      "Episode :19 Score:10.0\n",
      "Episode :20 Score:9.0\n",
      "Episode :21 Score:10.0\n",
      "Episode :22 Score:9.0\n",
      "Episode :23 Score:10.0\n",
      "Episode :24 Score:9.0\n",
      "Episode :25 Score:9.0\n",
      "Episode :26 Score:10.0\n",
      "Episode :27 Score:11.0\n",
      "Episode :28 Score:10.0\n",
      "Episode :29 Score:9.0\n",
      "Episode :30 Score:10.0\n",
      "Episode :31 Score:9.0\n",
      "Episode :32 Score:9.0\n",
      "Episode :33 Score:10.0\n",
      "Episode :34 Score:9.0\n",
      "Episode :35 Score:10.0\n",
      "Episode :36 Score:9.0\n",
      "Episode :37 Score:9.0\n",
      "Episode :38 Score:10.0\n",
      "Episode :39 Score:10.0\n",
      "Episode :40 Score:10.0\n",
      "Episode :41 Score:10.0\n",
      "Episode :42 Score:9.0\n",
      "Episode :43 Score:9.0\n",
      "Episode :44 Score:10.0\n",
      "Episode :45 Score:9.0\n",
      "Episode :46 Score:10.0\n",
      "Episode :47 Score:9.0\n",
      "Episode :48 Score:9.0\n",
      "Episode :49 Score:10.0\n",
      "Episode :50 Score:10.0\n",
      "Episode :51 Score:9.0\n",
      "Episode :52 Score:10.0\n",
      "Episode :53 Score:9.0\n",
      "Episode :54 Score:10.0\n",
      "Episode :55 Score:9.0\n",
      "Episode :56 Score:10.0\n",
      "Episode :57 Score:10.0\n",
      "Episode :58 Score:9.0\n",
      "Episode :59 Score:10.0\n",
      "Episode :60 Score:9.0\n",
      "Episode :61 Score:10.0\n",
      "Episode :62 Score:10.0\n",
      "Episode :63 Score:10.0\n",
      "Episode :64 Score:10.0\n",
      "Episode :65 Score:8.0\n",
      "Episode :66 Score:10.0\n",
      "Episode :67 Score:10.0\n",
      "Episode :68 Score:8.0\n",
      "Episode :69 Score:11.0\n",
      "Episode :70 Score:8.0\n",
      "Episode :71 Score:9.0\n",
      "Episode :72 Score:9.0\n",
      "Episode :73 Score:9.0\n",
      "Episode :74 Score:9.0\n",
      "Episode :75 Score:8.0\n",
      "Episode :76 Score:11.0\n",
      "Episode :77 Score:10.0\n",
      "Episode :78 Score:9.0\n",
      "Episode :79 Score:9.0\n",
      "Episode :80 Score:9.0\n",
      "Episode :81 Score:9.0\n",
      "Episode :82 Score:8.0\n",
      "Episode :83 Score:8.0\n",
      "Episode :84 Score:10.0\n",
      "Episode :85 Score:9.0\n",
      "Episode :86 Score:10.0\n",
      "Episode :87 Score:9.0\n",
      "Episode :88 Score:10.0\n",
      "Episode :89 Score:9.0\n",
      "Episode :90 Score:9.0\n",
      "Episode :91 Score:9.0\n",
      "Episode :92 Score:10.0\n",
      "Episode :93 Score:10.0\n",
      "Episode :94 Score:10.0\n",
      "Episode :95 Score:9.0\n",
      "Episode :96 Score:10.0\n",
      "Episode :97 Score:9.0\n",
      "Episode :98 Score:9.0\n",
      "Episode :99 Score:9.0\n",
      "Episode :100 Score:9.0\n"
     ]
    }
   ],
   "source": [
    "# total rewards for each episode\n",
    "\n",
    "omega_rewards = test_policy(omega_policy)"
   ]
  },
  {
   "cell_type": "markdown",
   "id": "e1043497",
   "metadata": {},
   "source": [
    "# Cumulative rewards (based on steps) for theta policy"
   ]
  },
  {
   "cell_type": "code",
   "execution_count": 19,
   "id": "8cc6b7de",
   "metadata": {},
   "outputs": [
    {
     "data": {
      "image/png": "[encoded data removed]",
      "text/plain": [
       "<Figure size 432x288 with 1 Axes>"
      ]
     },
     "metadata": {
      "needs_background": "light"
     },
     "output_type": "display_data"
    }
   ],
   "source": [
    "pt = plot_policy(theta_rewards, \"Theta Policy\")"
   ]
  },
  {
   "cell_type": "markdown",
   "id": "858d5278",
   "metadata": {},
   "source": [
    "# Cumulative rewards (based on steps) for omega policy"
   ]
  },
  {
   "cell_type": "code",
   "execution_count": 20,
   "id": "4212139a",
   "metadata": {},
   "outputs": [
    {
     "data": {
      "image/png": "[encoded data removed]",
      "text/plain": [
       "<Figure size 432x288 with 1 Axes>"
      ]
     },
     "metadata": {
      "needs_background": "light"
     },
     "output_type": "display_data"
    }
   ],
   "source": [
    "pt = plot_policy(omega_rewards, \"Omega Policy\")"
   ]
  },
  {
   "cell_type": "markdown",
   "id": "4be89ef6",
   "metadata": {},
   "source": [
    "#  Average rewards with standard deviation for theta policy"
   ]
  },
  {
   "cell_type": "code",
   "execution_count": 21,
   "id": "4590bfcc",
   "metadata": {},
   "outputs": [
    {
     "name": "stdout",
     "output_type": "stream",
     "text": [
      "Average rewards for theta policy:  9.97\n",
      "Standard deviation for theta policy:  0.41328934272260254\n"
     ]
    }
   ],
   "source": [
    "avg_theta=np.mean(theta_rewards)\n",
    "stdev_theta=stat.stdev(theta_rewards)\n",
    "print(\"Average rewards for theta policy: \", avg_theta)\n",
    "print(\"Standard deviation for theta policy: \", stdev_theta)"
   ]
  },
  {
   "cell_type": "markdown",
   "id": "b5e4ac77",
   "metadata": {},
   "source": [
    "#  Average rewards with standard deviation for omega policy"
   ]
  },
  {
   "cell_type": "code",
   "execution_count": 22,
   "id": "fb5cb85d",
   "metadata": {},
   "outputs": [
    {
     "name": "stdout",
     "output_type": "stream",
     "text": [
      "Average rewards for omega policy:  9.41\n",
      "Standard deviation for omega policy:  0.6830561152391922\n"
     ]
    }
   ],
   "source": [
    "avg_omega=np.mean(omega_rewards)\n",
    "stdev_omega=stat.stdev(omega_rewards)\n",
    "print(\"Average rewards for omega policy: \", avg_omega)\n",
    "print(\"Standard deviation for omega policy: \", stdev_omega)"
   ]
  },
  {
   "cell_type": "markdown",
   "id": "04c97c19",
   "metadata": {},
   "source": [
    "# Comment on performance of policies"
   ]
  },
  {
   "cell_type": "code",
   "execution_count": null,
   "id": "2e1b54e5",
   "metadata": {},
   "outputs": [],
   "source": [
    "# The theta policy was implemented for 100 episodes and the mean score was 9.97 with a standard deviation of 0.41.\n",
    "# This tells us that in an single episode the pole was balanced for an average of almost ten (~10) steps after which it lost its balanace.\n",
    "\n",
    "# The omega policy was implemented for 100 episodes and the mean score was 9.41 with a standard deviation of 0.68.\n",
    "# This tells us that in an single episode the pole was balanced for an average of almost nine (~9) steps after which it lost its balanace.\n",
    "\n",
    "# Both the policies performed almost similar to each other."
   ]
  }
 ],
 "metadata": {
  "kernelspec": {
   "display_name": "Python 3 (ipykernel)",
   "language": "python",
   "name": "python3"
  },
  "language_info": {
   "codemirror_mode": {
    "name": "ipython",
    "version": 3
   },
   "file_extension": ".py",
   "mimetype": "text/x-python",
   "name": "python",
   "nbconvert_exporter": "python",
   "pygments_lexer": "ipython3",
   "version": "3.9.12"
  }
 },
 "nbformat": 4,
 "nbformat_minor": 5
}
